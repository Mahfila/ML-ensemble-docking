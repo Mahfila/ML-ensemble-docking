{
 "cells": [
  {
   "cell_type": "markdown",
   "metadata": {},
   "source": [
    "# Download crystal structures from PDB\n",
    "\n",
    "Download PDB structures of a target protein, saving them as `pdb` files."
   ]
  },
  {
   "cell_type": "code",
   "execution_count": 1,
   "metadata": {},
   "outputs": [
    {
     "data": {
      "application/vnd.jupyter.widget-view+json": {
       "model_id": "6621ff4d41314288b076253428b5e30f",
       "version_major": 2,
       "version_minor": 0
      },
      "text/plain": []
     },
     "metadata": {},
     "output_type": "display_data"
    }
   ],
   "source": [
    "import pandas as pd\n",
    "import numpy as np\n",
    "import nglview as nv\n",
    "from pathlib import Path\n",
    "import sys\n",
    "sys.path.insert(0, '../..')\n",
    "from helper_modules.get_pdb_ids_from_uniport import *"
   ]
  },
  {
   "cell_type": "markdown",
   "metadata": {},
   "source": [
    "## Inputs\n",
    "This notebook requires to specify the following values\n",
    "- `prot_name`: the name of the protein.\n",
    "- `uniprot_id`: Uniprot Accession number.\n",
    "- `ref_struc_id`: PDB id of the reference structure.\n",
    "- `ref_ligand_name`: Three letters name of the cocrystalized ligand in the reference structure.\n"
   ]
  },
  {
   "cell_type": "code",
   "execution_count": 2,
   "metadata": {},
   "outputs": [],
   "source": [
    "prot_name       = 'egfr'\n",
    "uniprot_id      = 'P00533'\n",
    "ref_struc_id    = '7a2a'\n",
    "ref_ligand_name = '7G9'"
   ]
  },
  {
   "cell_type": "code",
   "execution_count": 3,
   "metadata": {},
   "outputs": [
    {
     "name": "stdout",
     "output_type": "stream",
     "text": [
      "MRPSGTAGAALLALLAALCPASRALEEKKVCQGTSNKLTQLGTFEDHFLSLQRMFNNCEVVLGNLEITYVQRNYDLSFLKTIQEVAGYVLIALNTVERIPLENLQIIRGNMYYENSYALAVLSNYDANKTGLKELPMRNLQEILHGAVRFSNNPALCNVESIQWRDIVSSDFLSNMSMDFQNHLGSCQKCDPSCPNGSCWGAGEENCQKLTKIICAQQCSGRCRGKSPSDCCHNQCAAGCTGPRESDCLVCRKFRDEATCKDTCPPLMLYNPTTYQMDVNPEGKYSFGATCVKKCPRNYVVTDHGSCVRACGADSYEMEEDGVRKCKKCEGPCRKVCNGIGIGEFKDSLSINATNIKHFKNCTSISGDLHILPVAFRGDSFTHTPPLDPQELDILKTVKEITGFLLIQAWPENRTDLHAFENLEIIRGRTKQHGQFSLAVVSLNITSLGLRSLKEISDGDVIISGNKNLCYANTINWKKLFGTSGQKTKIISNRGENSCKATGQVCHALCSPEGCWGPEPRDCVSCRNVSRGRECVDKCNLLEGEPREFVENSECIQCHPECLPQAMNITCTGRGPDNCIQCAHYIDGPHCVKTCPAGVMGENNTLVWKYADAGHVCHLCHPNCTYGCTGPGLEGCPTNGPKIPSIATGMVGALLLLLVVALGIGLFMRRRHIVRKRTLRRLLQERELVEPLTPSGEAPNQALLRILKETEFKKIKVLGSGAFGTVYKGLWIPEGEKVKIPVAIKELREATSPKANKEILDEAYVMASVDNPHVCRLLGICLTSTVQLITQLMPFGCLLDYVREHKDNIGSQYLLNWCVQIAKGMNYLEDRRLVHRDLAARNVLVKTPQHVKITDFGLAKLLGAEEKEYHAEGGKVPIKWMALESILHRIYTHQSDVWSYGVTVWELMTFGSKPYDGIPASEISSILEKGERLPQPPICTIDVYMIMVKCWMIDADSRPKFRELIIEFSKMARDPQRYLVIQGDERMHLPSPTDSNFYRALMDEEDMDDVVDADEYLIPQQGFFSSPSTSRTPLLSSLSATSNNSTVACIDRNGLQSCPIKEDSFLQRYSSDPTGALTEDSIDDTFLPVPEYINQSVPKRPAGSVQNPVYHNQPLNPAPSRDPHYQDPHSTAVGNPEYLNTVQPTCVNSTFDSPAHWAQKGSHQISLDNPDYQQDFFPKEAKPNGIFKGSTAENAEYLRVAPQSSEFIGA\n",
      "\n",
      "There are 1210 residues.\n"
     ]
    }
   ],
   "source": [
    "seq_prot = get_seq_from_uniprot(uniprot_id)\n",
    "print(seq_prot)\n",
    "print(f'\\nThere are {len(seq_prot)} residues.')"
   ]
  },
  {
   "cell_type": "markdown",
   "metadata": {},
   "source": [
    "- Get from the Uniprot database all the associated PDB structures to the given Uniprot id."
   ]
  },
  {
   "cell_type": "code",
   "execution_count": 4,
   "metadata": {},
   "outputs": [
    {
     "data": {
      "text/html": [
       "<div>\n",
       "<style scoped>\n",
       "    .dataframe tbody tr th:only-of-type {\n",
       "        vertical-align: middle;\n",
       "    }\n",
       "\n",
       "    .dataframe tbody tr th {\n",
       "        vertical-align: top;\n",
       "    }\n",
       "\n",
       "    .dataframe thead th {\n",
       "        text-align: right;\n",
       "    }\n",
       "</style>\n",
       "<table border=\"1\" class=\"dataframe\">\n",
       "  <thead>\n",
       "    <tr style=\"text-align: right;\">\n",
       "      <th></th>\n",
       "      <th>pdb_id</th>\n",
       "      <th>method</th>\n",
       "      <th>resolution</th>\n",
       "      <th>chain</th>\n",
       "      <th>start</th>\n",
       "      <th>end</th>\n",
       "      <th>seq_len</th>\n",
       "    </tr>\n",
       "  </thead>\n",
       "  <tbody>\n",
       "    <tr>\n",
       "      <th>0</th>\n",
       "      <td>1ivo</td>\n",
       "      <td>X-ray</td>\n",
       "      <td>3.30</td>\n",
       "      <td>A</td>\n",
       "      <td>25</td>\n",
       "      <td>646</td>\n",
       "      <td>622</td>\n",
       "    </tr>\n",
       "    <tr>\n",
       "      <th>1</th>\n",
       "      <td>1m14</td>\n",
       "      <td>X-ray</td>\n",
       "      <td>2.60</td>\n",
       "      <td>A</td>\n",
       "      <td>695</td>\n",
       "      <td>1022</td>\n",
       "      <td>328</td>\n",
       "    </tr>\n",
       "    <tr>\n",
       "      <th>2</th>\n",
       "      <td>1m17</td>\n",
       "      <td>X-ray</td>\n",
       "      <td>2.60</td>\n",
       "      <td>A</td>\n",
       "      <td>695</td>\n",
       "      <td>1022</td>\n",
       "      <td>328</td>\n",
       "    </tr>\n",
       "    <tr>\n",
       "      <th>3</th>\n",
       "      <td>1mox</td>\n",
       "      <td>X-ray</td>\n",
       "      <td>2.50</td>\n",
       "      <td>A</td>\n",
       "      <td>25</td>\n",
       "      <td>525</td>\n",
       "      <td>501</td>\n",
       "    </tr>\n",
       "    <tr>\n",
       "      <th>4</th>\n",
       "      <td>1nql</td>\n",
       "      <td>X-ray</td>\n",
       "      <td>2.80</td>\n",
       "      <td>A</td>\n",
       "      <td>25</td>\n",
       "      <td>642</td>\n",
       "      <td>618</td>\n",
       "    </tr>\n",
       "  </tbody>\n",
       "</table>\n",
       "</div>"
      ],
      "text/plain": [
       "  pdb_id method resolution chain  start   end  seq_len\n",
       "0   1ivo  X-ray       3.30     A     25   646      622\n",
       "1   1m14  X-ray       2.60     A    695  1022      328\n",
       "2   1m17  X-ray       2.60     A    695  1022      328\n",
       "3   1mox  X-ray       2.50     A     25   525      501\n",
       "4   1nql  X-ray       2.80     A     25   642      618"
      ]
     },
     "execution_count": 4,
     "metadata": {},
     "output_type": "execute_result"
    }
   ],
   "source": [
    "# Get the pdbids and some metadata from uniprot\n",
    "df_pdb_ids = pdb_ids_from_uniprot(uniprot_id)\n",
    "df_pdb_ids.head()"
   ]
  },
  {
   "cell_type": "code",
   "execution_count": 5,
   "metadata": {},
   "outputs": [
    {
     "data": {
      "text/plain": [
       "(221, 7)"
      ]
     },
     "execution_count": 5,
     "metadata": {},
     "output_type": "execute_result"
    }
   ],
   "source": [
    "df_pdb_ids.shape"
   ]
  },
  {
   "cell_type": "markdown",
   "metadata": {},
   "source": [
    "## Get structural information from the reference structure"
   ]
  },
  {
   "cell_type": "markdown",
   "metadata": {},
   "source": [
    "### For EGFR only\n",
    "\n",
    "<mark>NOTE:</mark> As show in the `df_pdb_ids` table, the structures vary in their sequence coverage. The following cells aim to preserve only those structures containing the binding site of the protein by using the reference structure, which PDB id was provided above."
   ]
  },
  {
   "cell_type": "code",
   "execution_count": 15,
   "metadata": {},
   "outputs": [
    {
     "name": "stdout",
     "output_type": "stream",
     "text": [
      "266\n",
      "700 984\n"
     ]
    },
    {
     "data": {
      "text/plain": [
       "'NQALLRILKETEFKKIKVLGSGAFGTVYKGLWIPEGEKVKIPVAIKELREATSANKEILDEAYVMASVDNPHVCRLLGICLTSTVQLIMQLMPFGCLLDYVREHKDNIGSQYLLNWCVQIAKGMNYLEDRRLVHRDLAARNVLVKTPQHVKITDFGLVPIKWMALESILHRIYTHQSDVWSYGVTVWELMTFGSKPYDGIPASEISSILEKGERLPQPPICTIDVYMIMRKCWMIDADSRPKFRELIIEFSKMARDPQRYLVIQGD'"
      ]
     },
     "execution_count": 15,
     "metadata": {},
     "output_type": "execute_result"
    }
   ],
   "source": [
    "# Get the reference structure and its sequence and residue positions\n",
    "seq_cry, positions_cry = get_structure_sequence(ref_struc_id)\n",
    "print(len(seq_cry))\n",
    "print(positions_cry[0], positions_cry[-1])\n",
    "seq_cry"
   ]
  },
  {
   "cell_type": "code",
   "execution_count": 19,
   "metadata": {},
   "outputs": [
    {
     "data": {
      "text/html": [
       "<div>\n",
       "<style scoped>\n",
       "    .dataframe tbody tr th:only-of-type {\n",
       "        vertical-align: middle;\n",
       "    }\n",
       "\n",
       "    .dataframe tbody tr th {\n",
       "        vertical-align: top;\n",
       "    }\n",
       "\n",
       "    .dataframe thead th {\n",
       "        text-align: right;\n",
       "    }\n",
       "</style>\n",
       "<table border=\"1\" class=\"dataframe\">\n",
       "  <thead>\n",
       "    <tr style=\"text-align: right;\">\n",
       "      <th></th>\n",
       "      <th>pdb_id</th>\n",
       "      <th>method</th>\n",
       "      <th>resolution</th>\n",
       "      <th>chain</th>\n",
       "      <th>start</th>\n",
       "      <th>end</th>\n",
       "      <th>seq_len</th>\n",
       "    </tr>\n",
       "  </thead>\n",
       "  <tbody>\n",
       "    <tr>\n",
       "      <th>1</th>\n",
       "      <td>1m14</td>\n",
       "      <td>X-ray</td>\n",
       "      <td>2.60</td>\n",
       "      <td>A</td>\n",
       "      <td>695</td>\n",
       "      <td>1022</td>\n",
       "      <td>328</td>\n",
       "    </tr>\n",
       "    <tr>\n",
       "      <th>2</th>\n",
       "      <td>1m17</td>\n",
       "      <td>X-ray</td>\n",
       "      <td>2.60</td>\n",
       "      <td>A</td>\n",
       "      <td>695</td>\n",
       "      <td>1022</td>\n",
       "      <td>328</td>\n",
       "    </tr>\n",
       "    <tr>\n",
       "      <th>5</th>\n",
       "      <td>1xkk</td>\n",
       "      <td>X-ray</td>\n",
       "      <td>2.40</td>\n",
       "      <td>A</td>\n",
       "      <td>695</td>\n",
       "      <td>1022</td>\n",
       "      <td>328</td>\n",
       "    </tr>\n",
       "    <tr>\n",
       "      <th>8</th>\n",
       "      <td>2eb2</td>\n",
       "      <td>X-ray</td>\n",
       "      <td>2.50</td>\n",
       "      <td>A</td>\n",
       "      <td>695</td>\n",
       "      <td>1022</td>\n",
       "      <td>328</td>\n",
       "    </tr>\n",
       "    <tr>\n",
       "      <th>9</th>\n",
       "      <td>2eb3</td>\n",
       "      <td>X-ray</td>\n",
       "      <td>2.84</td>\n",
       "      <td>A</td>\n",
       "      <td>695</td>\n",
       "      <td>1022</td>\n",
       "      <td>328</td>\n",
       "    </tr>\n",
       "    <tr>\n",
       "      <th>...</th>\n",
       "      <td>...</td>\n",
       "      <td>...</td>\n",
       "      <td>...</td>\n",
       "      <td>...</td>\n",
       "      <td>...</td>\n",
       "      <td>...</td>\n",
       "      <td>...</td>\n",
       "    </tr>\n",
       "    <tr>\n",
       "      <th>216</th>\n",
       "      <td>6vhn</td>\n",
       "      <td>X-ray</td>\n",
       "      <td>2.40</td>\n",
       "      <td>A</td>\n",
       "      <td>696</td>\n",
       "      <td>1022</td>\n",
       "      <td>327</td>\n",
       "    </tr>\n",
       "    <tr>\n",
       "      <th>217</th>\n",
       "      <td>6vhp</td>\n",
       "      <td>X-ray</td>\n",
       "      <td>3.60</td>\n",
       "      <td>A</td>\n",
       "      <td>696</td>\n",
       "      <td>1022</td>\n",
       "      <td>327</td>\n",
       "    </tr>\n",
       "    <tr>\n",
       "      <th>218</th>\n",
       "      <td>6z4b</td>\n",
       "      <td>X-ray</td>\n",
       "      <td>2.50</td>\n",
       "      <td>A</td>\n",
       "      <td>695</td>\n",
       "      <td>1022</td>\n",
       "      <td>328</td>\n",
       "    </tr>\n",
       "    <tr>\n",
       "      <th>219</th>\n",
       "      <td>6z4d</td>\n",
       "      <td>X-ray</td>\n",
       "      <td>2.00</td>\n",
       "      <td>A</td>\n",
       "      <td>695</td>\n",
       "      <td>1022</td>\n",
       "      <td>328</td>\n",
       "    </tr>\n",
       "    <tr>\n",
       "      <th>220</th>\n",
       "      <td>7a2a</td>\n",
       "      <td>X-ray</td>\n",
       "      <td>1.90</td>\n",
       "      <td>A</td>\n",
       "      <td>695</td>\n",
       "      <td>1022</td>\n",
       "      <td>328</td>\n",
       "    </tr>\n",
       "  </tbody>\n",
       "</table>\n",
       "<p>184 rows × 7 columns</p>\n",
       "</div>"
      ],
      "text/plain": [
       "    pdb_id method resolution chain  start   end  seq_len\n",
       "1     1m14  X-ray       2.60     A    695  1022      328\n",
       "2     1m17  X-ray       2.60     A    695  1022      328\n",
       "5     1xkk  X-ray       2.40     A    695  1022      328\n",
       "8     2eb2  X-ray       2.50     A    695  1022      328\n",
       "9     2eb3  X-ray       2.84     A    695  1022      328\n",
       "..     ...    ...        ...   ...    ...   ...      ...\n",
       "216   6vhn  X-ray       2.40     A    696  1022      327\n",
       "217   6vhp  X-ray       3.60     A    696  1022      327\n",
       "218   6z4b  X-ray       2.50     A    695  1022      328\n",
       "219   6z4d  X-ray       2.00     A    695  1022      328\n",
       "220   7a2a  X-ray       1.90     A    695  1022      328\n",
       "\n",
       "[184 rows x 7 columns]"
      ]
     },
     "execution_count": 19,
     "metadata": {},
     "output_type": "execute_result"
    }
   ],
   "source": [
    "# Get the pdb id of those structures matching the positions of the \n",
    "# reference structure\n",
    "df_sel_pdbids = get_useful_pdbids(df_pdb_ids, \n",
    "                                  positions_cry,\n",
    "                                  thr_tol = (3,3))\n",
    "df_sel_pdbids"
   ]
  },
  {
   "cell_type": "code",
   "execution_count": 8,
   "metadata": {},
   "outputs": [],
   "source": [
    "ref_prot = parsePDB(ref_struc_id).select('chain A')\n",
    "pocket_sel = ref_prot.select(\n",
    "    f'within 7 of resname {ref_ligand_name} and protein')\n",
    "pocket_residues = [str(i) \n",
    "                   for i in np.unique(\n",
    "                       pocket_sel.getResnums())\n",
    "                  ]\n",
    "pocket_residues_str = ' '.join(pocket_residues)\n",
    "lig_resnum = ref_prot.select(\n",
    "                       f'resname {ref_ligand_name}'\n",
    "                 ).getResnums()[0]"
   ]
  },
  {
   "cell_type": "markdown",
   "metadata": {},
   "source": [
    "- Visualize using `nglview`"
   ]
  },
  {
   "cell_type": "code",
   "execution_count": 9,
   "metadata": {},
   "outputs": [
    {
     "data": {
      "application/vnd.jupyter.widget-view+json": {
       "model_id": "ea08e66ab385452eba8e8379f7e8d6c9",
       "version_major": 2,
       "version_minor": 0
      },
      "text/plain": [
       "NGLWidget()"
      ]
     },
     "metadata": {},
     "output_type": "display_data"
    }
   ],
   "source": [
    "view = nv.show_prody(ref_prot)\n",
    "view.clear_representations()\n",
    "view.add_representation('cartoon', \n",
    "    selection='protein and chain A', color='orange')\n",
    "view.add_cartoon(\n",
    "    selection = pocket_residues_str, \n",
    "    color='cyan')\n",
    "view.add_licorice(\n",
    "    selection = pocket_residues_str, \n",
    "    color='cyan')\n",
    "view.add_representation(\n",
    "    'spacefill', selection = f'{lig_resnum}')\n",
    "view.parameters = {\n",
    "    \"fogNear\": 0, \"fogFar\": 100,\n",
    "    \"backgroundColor\": \"black\",\n",
    "}\n",
    "view"
   ]
  },
  {
   "cell_type": "code",
   "execution_count": 10,
   "metadata": {},
   "outputs": [
    {
     "data": {
      "application/vnd.jupyter.widget-view+json": {
       "model_id": "0ba243fbcd51431db5d76a590d252bbf",
       "version_major": 2,
       "version_minor": 0
      },
      "text/plain": [
       "Image(value=b'', width='99%')"
      ]
     },
     "metadata": {},
     "output_type": "display_data"
    }
   ],
   "source": [
    "view.render_image()"
   ]
  },
  {
   "cell_type": "code",
   "execution_count": 11,
   "metadata": {},
   "outputs": [
    {
     "data": {
      "image/png": "\n",
      "text/plain": [
       "<IPython.core.display.Image object>"
      ]
     },
     "execution_count": 11,
     "metadata": {},
     "output_type": "execute_result"
    }
   ],
   "source": [
    "view._display_image()"
   ]
  },
  {
   "cell_type": "markdown",
   "metadata": {},
   "source": [
    "## Download the PDB structures\n",
    "1. Create the output directories"
   ]
  },
  {
   "cell_type": "code",
   "execution_count": 17,
   "metadata": {},
   "outputs": [],
   "source": [
    "# Define the output directories\n",
    "OUT_MAIN       = './pdb_structures'\n",
    "OUT_DIR_RAW    = f'./{OUT_MAIN}/raw_structures'\n",
    "OUT_DIR_CHAINS = f'./{OUT_MAIN}/pdb_chains'\n",
    "OUT_DIR_LIGS   = f'./{OUT_MAIN}/raw_ligands'\n",
    "\n",
    "for path in [OUT_DIR_RAW, OUT_DIR_CHAINS, OUT_DIR_LIGS]:\n",
    "    Path(path).mkdir(parents = True, exist_ok = True)"
   ]
  },
  {
   "cell_type": "markdown",
   "metadata": {},
   "source": [
    "2. Use `prody` to download and process the pdb chain belonging to the target protein."
   ]
  },
  {
   "cell_type": "code",
   "execution_count": 18,
   "metadata": {},
   "outputs": [],
   "source": [
    "from prody import parsePDB, matchAlign, writePDB\n",
    "\n",
    "# We will use the reference structure to define the start and end\n",
    "ref_chain = ref_prot.select('protein and chain A')\n",
    "# HARDCODED\n",
    "start_res = 685\n",
    "end_res = 950\n",
    "\n",
    "# Overlap and Sequence Identity thresholds\n",
    "overlap = 80\n",
    "seqid   = 95\n",
    "residues_algn = pocket_residues_str \n",
    "\n",
    "# Iterate over the list of pdb_ids and download the structures\n",
    "for i, (pdb_id, chid) in df_sel_pdbids[['pdb_id', 'chain']].iterrows():\n",
    "    # Download the full structure\n",
    "    raw_pdb = parsePDB(pdb_id, folder = OUT_DIR_RAW)\n",
    "    # Keep the protein chain\n",
    "    pdb_chain = raw_pdb.select(f'protein and chain {chid}')\n",
    "    pdb_chain.setChids(\"A\")\n",
    "    # If the structure has more \n",
    "    min_start_res = pdb_chain.getResnums()[0]\n",
    "    _start_res    = min(min_start_res, start_res)\n",
    "    # Keep the same starting and ending points as the reference\n",
    "    pdb_chain = pdb_chain.select(f'resnum {_start_res}to{end_res}')\n",
    "    # Make the structure alignment regarding the ref_prot\n",
    "    pdb_alg = matchAlign(\n",
    "                mobile = pdb_chain,\n",
    "                target = ref_chain,\n",
    "                # If the overlap or the seqid thresholds are not met\n",
    "                # the alignment will return None\n",
    "                overlap = overlap,\n",
    "                tarsel  = f'chain A ca and resnum {residues_algn}'\n",
    "              )\n",
    "    # If the alignment retuned None, skip the next steps\n",
    "    if not pdb_alg:\n",
    "        continue\n",
    "    # Get the aligned structure\n",
    "    protein = pdb_alg[0]\n",
    "    # Set the same chain id (A) for all structures\n",
    "    protein.setChids(\"A\")\n",
    "    # Save the PDB chain\n",
    "    chain_pdb_file = f'{OUT_DIR_CHAINS}/{pdb_id}_A.pdb'\n",
    "    writePDB(chain_pdb_file, protein)\n",
    "    # Save the non proteic atoms (raw ligands)\n",
    "    ligand = raw_pdb.select('hetatm')\n",
    "    if ligand:\n",
    "        raw_ligand_file = f'{OUT_DIR_LIGS}/{pdb_id}_lig.pdb'\n",
    "        writePDB(raw_ligand_file, ligand)"
   ]
  },
  {
   "cell_type": "markdown",
   "metadata": {},
   "source": [
    "Finished!"
   ]
  }
 ],
 "metadata": {
  "kernelspec": {
   "display_name": "Python 3",
   "language": "python",
   "name": "python3"
  },
  "language_info": {
   "codemirror_mode": {
    "name": "ipython",
    "version": 3
   },
   "file_extension": ".py",
   "mimetype": "text/x-python",
   "name": "python",
   "nbconvert_exporter": "python",
   "pygments_lexer": "ipython3",
   "version": "3.7.9"
  },
  "toc": {
   "base_numbering": 1,
   "nav_menu": {},
   "number_sections": true,
   "sideBar": true,
   "skip_h1_title": false,
   "title_cell": "Table of Contents",
   "title_sidebar": "Contents",
   "toc_cell": false,
   "toc_position": {},
   "toc_section_display": true,
   "toc_window_display": false
  }
 },
 "nbformat": 4,
 "nbformat_minor": 4
}
