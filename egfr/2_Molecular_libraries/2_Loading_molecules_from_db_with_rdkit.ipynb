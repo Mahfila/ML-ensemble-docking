{
 "cells": [
  {
   "cell_type": "markdown",
   "id": "a985eeea-054b-4467-abef-287ae4a77204",
   "metadata": {},
   "source": [
    "# Load and process molecules with `rdkit`"
   ]
  },
  {
   "cell_type": "markdown",
   "id": "c02a1bdc-22b0-4568-95bd-e93417fd9323",
   "metadata": {},
   "source": [
    "This notebook does the following:\n",
    "- Molecules downloaded in the [previous notebook](./ 1_Get_Molecular_libraries.ipynb) are processed using `rdkit`.\n",
    "\n",
    "The output of this notebook is a the file `rdKit_db_molecules.obj`, which is a pandas data frame containing the rdkit object of each molecule."
   ]
  },
  {
   "cell_type": "code",
   "execution_count": 1,
   "id": "56e6f9ba-6c44-4f3b-996e-780487d2403c",
   "metadata": {},
   "outputs": [],
   "source": [
    "import pandas as pd\n",
    "import numpy as np\n",
    "from glob import glob\n",
    "from pathlib import Path\n",
    "from rdkit import Chem\n",
    "from rdkit.Chem import AllChem\n",
    "from rdkit import RDLogger\n",
    "RDLogger.DisableLog('rdApp.*')\n",
    "import sys\n",
    "sys.path.append('../..')\n",
    "from helper_modules.analyze_molecules_with_rdkit import *"
   ]
  },
  {
   "cell_type": "markdown",
   "id": "b731d492-283c-42c0-b968-25c67f3bea02",
   "metadata": {},
   "source": [
    "## DEKOIS Molecules"
   ]
  },
  {
   "cell_type": "code",
   "execution_count": 2,
   "id": "8aab5741-b773-4ac0-bf0e-418d96915dac",
   "metadata": {},
   "outputs": [
    {
     "data": {
      "text/html": [
       "<div>\n",
       "<style scoped>\n",
       "    .dataframe tbody tr th:only-of-type {\n",
       "        vertical-align: middle;\n",
       "    }\n",
       "\n",
       "    .dataframe tbody tr th {\n",
       "        vertical-align: top;\n",
       "    }\n",
       "\n",
       "    .dataframe thead th {\n",
       "        text-align: right;\n",
       "    }\n",
       "</style>\n",
       "<table border=\"1\" class=\"dataframe\">\n",
       "  <thead>\n",
       "    <tr style=\"text-align: right;\">\n",
       "      <th></th>\n",
       "      <th>Activity</th>\n",
       "      <th>mol_rdk</th>\n",
       "      <th>sanitized</th>\n",
       "    </tr>\n",
       "  </thead>\n",
       "  <tbody>\n",
       "    <tr>\n",
       "      <th>ligand_1</th>\n",
       "      <td>active</td>\n",
       "      <td>&lt;rdkit.Chem.rdchem.Mol object at 0x7fcc8a81aad0&gt;</td>\n",
       "      <td>True</td>\n",
       "    </tr>\n",
       "    <tr>\n",
       "      <th>ligand_2</th>\n",
       "      <td>active</td>\n",
       "      <td>&lt;rdkit.Chem.rdchem.Mol object at 0x7fcc8a81aa80&gt;</td>\n",
       "      <td>True</td>\n",
       "    </tr>\n",
       "    <tr>\n",
       "      <th>ligand_3</th>\n",
       "      <td>active</td>\n",
       "      <td>&lt;rdkit.Chem.rdchem.Mol object at 0x7fcc8a81ab20&gt;</td>\n",
       "      <td>True</td>\n",
       "    </tr>\n",
       "    <tr>\n",
       "      <th>ligand_4</th>\n",
       "      <td>active</td>\n",
       "      <td>&lt;rdkit.Chem.rdchem.Mol object at 0x7fcc8a81ab70&gt;</td>\n",
       "      <td>True</td>\n",
       "    </tr>\n",
       "    <tr>\n",
       "      <th>ligand_5</th>\n",
       "      <td>active</td>\n",
       "      <td>&lt;rdkit.Chem.rdchem.Mol object at 0x7fcc8a81abc0&gt;</td>\n",
       "      <td>True</td>\n",
       "    </tr>\n",
       "  </tbody>\n",
       "</table>\n",
       "</div>"
      ],
      "text/plain": [
       "         Activity                                           mol_rdk sanitized\n",
       "ligand_1   active  <rdkit.Chem.rdchem.Mol object at 0x7fcc8a81aad0>      True\n",
       "ligand_2   active  <rdkit.Chem.rdchem.Mol object at 0x7fcc8a81aa80>      True\n",
       "ligand_3   active  <rdkit.Chem.rdchem.Mol object at 0x7fcc8a81ab20>      True\n",
       "ligand_4   active  <rdkit.Chem.rdchem.Mol object at 0x7fcc8a81ab70>      True\n",
       "ligand_5   active  <rdkit.Chem.rdchem.Mol object at 0x7fcc8a81abc0>      True"
      ]
     },
     "execution_count": 2,
     "metadata": {},
     "output_type": "execute_result"
    }
   ],
   "source": [
    "sdf_input_path = './datasets/DEKOIS2/sdf/'\n",
    "\n",
    "list_sdf_files = get_files_list(sdf_input_path, actives_name='ligand')\n",
    "df_DEKOIS = get_mol_dataframe(load_molecules_from_dir(list_sdf_files))\n",
    "df_DEKOIS.head()"
   ]
  },
  {
   "cell_type": "code",
   "execution_count": 3,
   "id": "280f5de4-07af-4ce7-a511-b7fac617c9ff",
   "metadata": {},
   "outputs": [
    {
     "data": {
      "image/png": "[encoded data removed]",
      "text/plain": [
       "<rdkit.Chem.rdchem.Mol at 0x7fcc8a81ab70>"
      ]
     },
     "execution_count": 3,
     "metadata": {},
     "output_type": "execute_result"
    }
   ],
   "source": [
    "df_DEKOIS.loc['ligand_4', 'mol_rdk']"
   ]
  },
  {
   "cell_type": "markdown",
   "id": "c39f2b85-56f8-4122-be67-0296d8741ca5",
   "metadata": {},
   "source": [
    "## DUD 2006"
   ]
  },
  {
   "cell_type": "code",
   "execution_count": 4,
   "id": "ec3ae54b-072e-4355-a144-b3792fe1581f",
   "metadata": {},
   "outputs": [
    {
     "data": {
      "text/html": [
       "<div>\n",
       "<style scoped>\n",
       "    .dataframe tbody tr th:only-of-type {\n",
       "        vertical-align: middle;\n",
       "    }\n",
       "\n",
       "    .dataframe tbody tr th {\n",
       "        vertical-align: top;\n",
       "    }\n",
       "\n",
       "    .dataframe thead th {\n",
       "        text-align: right;\n",
       "    }\n",
       "</style>\n",
       "<table border=\"1\" class=\"dataframe\">\n",
       "  <thead>\n",
       "    <tr style=\"text-align: right;\">\n",
       "      <th></th>\n",
       "      <th>Activity</th>\n",
       "      <th>mol_rdk</th>\n",
       "      <th>sanitized</th>\n",
       "    </tr>\n",
       "  </thead>\n",
       "  <tbody>\n",
       "    <tr>\n",
       "      <th>ligand_1</th>\n",
       "      <td>active</td>\n",
       "      <td>&lt;rdkit.Chem.rdchem.Mol object at 0x7fcc8a85e580&gt;</td>\n",
       "      <td>True</td>\n",
       "    </tr>\n",
       "    <tr>\n",
       "      <th>ligand_2</th>\n",
       "      <td>active</td>\n",
       "      <td>&lt;rdkit.Chem.rdchem.Mol object at 0x7fcc8a85e4e0&gt;</td>\n",
       "      <td>True</td>\n",
       "    </tr>\n",
       "    <tr>\n",
       "      <th>ligand_3</th>\n",
       "      <td>active</td>\n",
       "      <td>&lt;rdkit.Chem.rdchem.Mol object at 0x7fcc8a85e440&gt;</td>\n",
       "      <td>True</td>\n",
       "    </tr>\n",
       "    <tr>\n",
       "      <th>ligand_4</th>\n",
       "      <td>active</td>\n",
       "      <td>&lt;rdkit.Chem.rdchem.Mol object at 0x7fcc8a85e3a0&gt;</td>\n",
       "      <td>True</td>\n",
       "    </tr>\n",
       "    <tr>\n",
       "      <th>ligand_5</th>\n",
       "      <td>active</td>\n",
       "      <td>&lt;rdkit.Chem.rdchem.Mol object at 0x7fcc8a85e300&gt;</td>\n",
       "      <td>True</td>\n",
       "    </tr>\n",
       "  </tbody>\n",
       "</table>\n",
       "</div>"
      ],
      "text/plain": [
       "         Activity                                           mol_rdk sanitized\n",
       "ligand_1   active  <rdkit.Chem.rdchem.Mol object at 0x7fcc8a85e580>      True\n",
       "ligand_2   active  <rdkit.Chem.rdchem.Mol object at 0x7fcc8a85e4e0>      True\n",
       "ligand_3   active  <rdkit.Chem.rdchem.Mol object at 0x7fcc8a85e440>      True\n",
       "ligand_4   active  <rdkit.Chem.rdchem.Mol object at 0x7fcc8a85e3a0>      True\n",
       "ligand_5   active  <rdkit.Chem.rdchem.Mol object at 0x7fcc8a85e300>      True"
      ]
     },
     "execution_count": 4,
     "metadata": {},
     "output_type": "execute_result"
    }
   ],
   "source": [
    "sdf_input_path = './datasets/DUD/sdf/'\n",
    "\n",
    "list_sdf_files = get_files_list(sdf_input_path, actives_name='ligand')\n",
    "df_DUD = get_mol_dataframe(load_molecules_from_dir(list_sdf_files))\n",
    "df_DUD.head()"
   ]
  },
  {
   "cell_type": "code",
   "execution_count": 5,
   "id": "bfb4ba14-3815-4ee9-b88c-0e8866336caf",
   "metadata": {},
   "outputs": [
    {
     "data": {
      "image/png": "[encoded data removed]",
      "text/plain": [
       "<rdkit.Chem.rdchem.Mol at 0x7fcc8a85e3a0>"
      ]
     },
     "execution_count": 5,
     "metadata": {},
     "output_type": "execute_result"
    }
   ],
   "source": [
    "df_DUD.loc['ligand_4', 'mol_rdk']"
   ]
  },
  {
   "cell_type": "markdown",
   "id": "9083f722-b2a4-44f9-b2ad-d700046dccf1",
   "metadata": {},
   "source": [
    "## Cocrystalized molecules"
   ]
  },
  {
   "cell_type": "code",
   "execution_count": 6,
   "id": "82495d68-3c8c-4c32-a8f8-cc0702e9da1d",
   "metadata": {},
   "outputs": [
    {
     "name": "stdout",
     "output_type": "stream",
     "text": [
      "Shape (109, 3)\n"
     ]
    },
    {
     "data": {
      "text/html": [
       "<div>\n",
       "<style scoped>\n",
       "    .dataframe tbody tr th:only-of-type {\n",
       "        vertical-align: middle;\n",
       "    }\n",
       "\n",
       "    .dataframe tbody tr th {\n",
       "        vertical-align: top;\n",
       "    }\n",
       "\n",
       "    .dataframe thead th {\n",
       "        text-align: right;\n",
       "    }\n",
       "</style>\n",
       "<table border=\"1\" class=\"dataframe\">\n",
       "  <thead>\n",
       "    <tr style=\"text-align: right;\">\n",
       "      <th></th>\n",
       "      <th>Activity</th>\n",
       "      <th>mol_rdk</th>\n",
       "      <th>sanitized</th>\n",
       "    </tr>\n",
       "    <tr>\n",
       "      <th>Lig</th>\n",
       "      <th></th>\n",
       "      <th></th>\n",
       "      <th></th>\n",
       "    </tr>\n",
       "  </thead>\n",
       "  <tbody>\n",
       "    <tr>\n",
       "      <th>AQ4</th>\n",
       "      <td>active</td>\n",
       "      <td>&lt;rdkit.Chem.rdchem.Mol object at 0x7fcc8a863ee0&gt;</td>\n",
       "      <td>True</td>\n",
       "    </tr>\n",
       "    <tr>\n",
       "      <th>FMM</th>\n",
       "      <td>active</td>\n",
       "      <td>&lt;rdkit.Chem.rdchem.Mol object at 0x7fcc8a863e40&gt;</td>\n",
       "      <td>True</td>\n",
       "    </tr>\n",
       "    <tr>\n",
       "      <th>ANP</th>\n",
       "      <td>active</td>\n",
       "      <td>&lt;rdkit.Chem.rdchem.Mol object at 0x7fcc8a863da0&gt;</td>\n",
       "      <td>True</td>\n",
       "    </tr>\n",
       "    <tr>\n",
       "      <th>112</th>\n",
       "      <td>active</td>\n",
       "      <td>&lt;rdkit.Chem.rdchem.Mol object at 0x7fcc8a863d00&gt;</td>\n",
       "      <td>True</td>\n",
       "    </tr>\n",
       "    <tr>\n",
       "      <th>IRE</th>\n",
       "      <td>active</td>\n",
       "      <td>&lt;rdkit.Chem.rdchem.Mol object at 0x7fcc8a863b20&gt;</td>\n",
       "      <td>True</td>\n",
       "    </tr>\n",
       "  </tbody>\n",
       "</table>\n",
       "</div>"
      ],
      "text/plain": [
       "    Activity                                           mol_rdk  sanitized\n",
       "Lig                                                                      \n",
       "AQ4   active  <rdkit.Chem.rdchem.Mol object at 0x7fcc8a863ee0>       True\n",
       "FMM   active  <rdkit.Chem.rdchem.Mol object at 0x7fcc8a863e40>       True\n",
       "ANP   active  <rdkit.Chem.rdchem.Mol object at 0x7fcc8a863da0>       True\n",
       "112   active  <rdkit.Chem.rdchem.Mol object at 0x7fcc8a863d00>       True\n",
       "IRE   active  <rdkit.Chem.rdchem.Mol object at 0x7fcc8a863b20>       True"
      ]
     },
     "execution_count": 6,
     "metadata": {},
     "output_type": "execute_result"
    }
   ],
   "source": [
    "# Path to SDF Files\n",
    "sdf_input_path = './datasets/COCRYS/sdf/'\n",
    "# Function to sort the molecules by their PDB id\n",
    "sort_function = lambda x: x.split('/')[-1].split('_')[0]\n",
    "# Get the list of files\n",
    "list_sdf_files = get_files_list(sdf_input_path, \n",
    "                                actives_name='LIG', \n",
    "                                sufix='', \n",
    "                                sort_func = sort_function\n",
    "                               )\n",
    "# Compute a dataframe with the molecules as rdkit objects\n",
    "df_pdi_lig = load_cocrys_molecules_from_dir(list_sdf_files)\n",
    "\n",
    "# Update the dataframe\n",
    "df_COCRYS = df_pdi_lig[['Lig', 'mol_rdk']]\n",
    "df_COCRYS['Activity'] = 'active'\n",
    "df_COCRYS['sanitized'] = [True if i != 'v3' else False for i in df_pdi_lig.validation]\n",
    "df_COCRYS = df_COCRYS[['Lig', 'Activity', 'mol_rdk', 'sanitized']]\n",
    "df_COCRYS = df_COCRYS.drop_duplicates('Lig').set_index('Lig')\n",
    "df_COCRYS.sanitized.value_counts()\n",
    "print('Shape', df_COCRYS.shape)\n",
    "df_COCRYS.head()"
   ]
  },
  {
   "cell_type": "code",
   "execution_count": 7,
   "id": "a4aec6ec-54f1-40c2-9b40-a5a140189d6d",
   "metadata": {
    "tags": []
   },
   "outputs": [
    {
     "data": {
      "image/png": "[encoded data removed]",
      "text/plain": [
       "<rdkit.Chem.rdchem.Mol at 0x7fcc8a863ee0>"
      ]
     },
     "execution_count": 7,
     "metadata": {},
     "output_type": "execute_result"
    }
   ],
   "source": [
    "df_COCRYS.loc['AQ4', 'mol_rdk']"
   ]
  },
  {
   "cell_type": "markdown",
   "id": "9f34f21d-3444-4455-8c86-9d408e9faa6a",
   "metadata": {},
   "source": [
    "## Merge all dataframes"
   ]
  },
  {
   "cell_type": "code",
   "execution_count": 8,
   "id": "e5f10c75-597b-4d36-985d-f1c9b9a8e435",
   "metadata": {},
   "outputs": [
    {
     "data": {
      "text/html": [
       "<div>\n",
       "<style scoped>\n",
       "    .dataframe tbody tr th:only-of-type {\n",
       "        vertical-align: middle;\n",
       "    }\n",
       "\n",
       "    .dataframe tbody tr th {\n",
       "        vertical-align: top;\n",
       "    }\n",
       "\n",
       "    .dataframe thead th {\n",
       "        text-align: right;\n",
       "    }\n",
       "</style>\n",
       "<table border=\"1\" class=\"dataframe\">\n",
       "  <thead>\n",
       "    <tr style=\"text-align: right;\">\n",
       "      <th></th>\n",
       "      <th></th>\n",
       "      <th>Activity</th>\n",
       "      <th>mol_rdk</th>\n",
       "      <th>sanitized</th>\n",
       "    </tr>\n",
       "    <tr>\n",
       "      <th></th>\n",
       "      <th>Lig</th>\n",
       "      <th></th>\n",
       "      <th></th>\n",
       "      <th></th>\n",
       "    </tr>\n",
       "  </thead>\n",
       "  <tbody>\n",
       "    <tr>\n",
       "      <th rowspan=\"5\" valign=\"top\">COCRYS</th>\n",
       "      <th>AQ4</th>\n",
       "      <td>1</td>\n",
       "      <td>&lt;rdkit.Chem.rdchem.Mol object at 0x7fcc8a863ee0&gt;</td>\n",
       "      <td>True</td>\n",
       "    </tr>\n",
       "    <tr>\n",
       "      <th>FMM</th>\n",
       "      <td>1</td>\n",
       "      <td>&lt;rdkit.Chem.rdchem.Mol object at 0x7fcc8a863e40&gt;</td>\n",
       "      <td>True</td>\n",
       "    </tr>\n",
       "    <tr>\n",
       "      <th>ANP</th>\n",
       "      <td>1</td>\n",
       "      <td>&lt;rdkit.Chem.rdchem.Mol object at 0x7fcc8a863da0&gt;</td>\n",
       "      <td>True</td>\n",
       "    </tr>\n",
       "    <tr>\n",
       "      <th>112</th>\n",
       "      <td>1</td>\n",
       "      <td>&lt;rdkit.Chem.rdchem.Mol object at 0x7fcc8a863d00&gt;</td>\n",
       "      <td>True</td>\n",
       "    </tr>\n",
       "    <tr>\n",
       "      <th>IRE</th>\n",
       "      <td>1</td>\n",
       "      <td>&lt;rdkit.Chem.rdchem.Mol object at 0x7fcc8a863b20&gt;</td>\n",
       "      <td>True</td>\n",
       "    </tr>\n",
       "    <tr>\n",
       "      <th>...</th>\n",
       "      <th>...</th>\n",
       "      <td>...</td>\n",
       "      <td>...</td>\n",
       "      <td>...</td>\n",
       "    </tr>\n",
       "    <tr>\n",
       "      <th rowspan=\"5\" valign=\"top\">DUD</th>\n",
       "      <th>decoy_15992</th>\n",
       "      <td>0</td>\n",
       "      <td>&lt;rdkit.Chem.rdchem.Mol object at 0x7fcc7b2d33f0&gt;</td>\n",
       "      <td>False</td>\n",
       "    </tr>\n",
       "    <tr>\n",
       "      <th>decoy_15993</th>\n",
       "      <td>0</td>\n",
       "      <td>&lt;rdkit.Chem.rdchem.Mol object at 0x7fcc7b2d3490&gt;</td>\n",
       "      <td>False</td>\n",
       "    </tr>\n",
       "    <tr>\n",
       "      <th>decoy_15994</th>\n",
       "      <td>0</td>\n",
       "      <td>&lt;rdkit.Chem.rdchem.Mol object at 0x7fcc7b2d3530&gt;</td>\n",
       "      <td>False</td>\n",
       "    </tr>\n",
       "    <tr>\n",
       "      <th>decoy_15995</th>\n",
       "      <td>0</td>\n",
       "      <td>&lt;rdkit.Chem.rdchem.Mol object at 0x7fcc7b2d35d0&gt;</td>\n",
       "      <td>False</td>\n",
       "    </tr>\n",
       "    <tr>\n",
       "      <th>decoy_15996</th>\n",
       "      <td>0</td>\n",
       "      <td>&lt;rdkit.Chem.rdchem.Mol object at 0x7fcc7b2d3670&gt;</td>\n",
       "      <td>False</td>\n",
       "    </tr>\n",
       "  </tbody>\n",
       "</table>\n",
       "<p>17820 rows × 3 columns</p>\n",
       "</div>"
      ],
      "text/plain": [
       "                    Activity  \\\n",
       "       Lig                     \n",
       "COCRYS AQ4                 1   \n",
       "       FMM                 1   \n",
       "       ANP                 1   \n",
       "       112                 1   \n",
       "       IRE                 1   \n",
       "...                      ...   \n",
       "DUD    decoy_15992         0   \n",
       "       decoy_15993         0   \n",
       "       decoy_15994         0   \n",
       "       decoy_15995         0   \n",
       "       decoy_15996         0   \n",
       "\n",
       "                                                             mol_rdk sanitized  \n",
       "       Lig                                                                      \n",
       "COCRYS AQ4          <rdkit.Chem.rdchem.Mol object at 0x7fcc8a863ee0>      True  \n",
       "       FMM          <rdkit.Chem.rdchem.Mol object at 0x7fcc8a863e40>      True  \n",
       "       ANP          <rdkit.Chem.rdchem.Mol object at 0x7fcc8a863da0>      True  \n",
       "       112          <rdkit.Chem.rdchem.Mol object at 0x7fcc8a863d00>      True  \n",
       "       IRE          <rdkit.Chem.rdchem.Mol object at 0x7fcc8a863b20>      True  \n",
       "...                                                              ...       ...  \n",
       "DUD    decoy_15992  <rdkit.Chem.rdchem.Mol object at 0x7fcc7b2d33f0>     False  \n",
       "       decoy_15993  <rdkit.Chem.rdchem.Mol object at 0x7fcc7b2d3490>     False  \n",
       "       decoy_15994  <rdkit.Chem.rdchem.Mol object at 0x7fcc7b2d3530>     False  \n",
       "       decoy_15995  <rdkit.Chem.rdchem.Mol object at 0x7fcc7b2d35d0>     False  \n",
       "       decoy_15996  <rdkit.Chem.rdchem.Mol object at 0x7fcc7b2d3670>     False  \n",
       "\n",
       "[17820 rows x 3 columns]"
      ]
     },
     "execution_count": 8,
     "metadata": {},
     "output_type": "execute_result"
    }
   ],
   "source": [
    "list_dfs = [df_COCRYS, df_DEKOIS, df_DUD]\n",
    "list_dfs_names = ['COCRYS', 'DEKOIS2', 'DUD']\n",
    "\n",
    "# Create the final dataframe\n",
    "df_all_libraries = pd.concat(list_dfs, keys = list_dfs_names)\n",
    "df_all_libraries['Activity'] = df_all_libraries['Activity']\\\n",
    "                                    .replace({'active': 1, 'inactive': 0})\n",
    "df_all_libraries"
   ]
  },
  {
   "cell_type": "code",
   "execution_count": 9,
   "id": "b7446e6c-e36c-4e82-bf27-0519553f41c3",
   "metadata": {},
   "outputs": [],
   "source": [
    "# Save the dataframe\n",
    "output_file = './rdKit_db_molecules.obj'\n",
    "if not Path(output_file).exists():\n",
    "    df_all_libraries.to_pickle(output_file)"
   ]
  }
 ],
 "metadata": {
  "kernelspec": {
   "display_name": "Python 3",
   "language": "python",
   "name": "python3"
  },
  "language_info": {
   "codemirror_mode": {
    "name": "ipython",
    "version": 3
   },
   "file_extension": ".py",
   "mimetype": "text/x-python",
   "name": "python",
   "nbconvert_exporter": "python",
   "pygments_lexer": "ipython3",
   "version": "3.7.9"
  },
  "toc": {
   "base_numbering": 1,
   "nav_menu": {},
   "number_sections": true,
   "sideBar": true,
   "skip_h1_title": false,
   "title_cell": "Table of Contents",
   "title_sidebar": "Contents",
   "toc_cell": false,
   "toc_position": {},
   "toc_section_display": true,
   "toc_window_display": true
  }
 },
 "nbformat": 4,
 "nbformat_minor": 5
}
