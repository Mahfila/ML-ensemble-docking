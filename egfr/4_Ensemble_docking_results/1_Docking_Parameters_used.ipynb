{
 "cells": [
  {
   "cell_type": "markdown",
   "id": "24cabca9-3db4-484c-8147-de7e88c2564a",
   "metadata": {},
   "source": [
    "# Docking Parameters used to perform the Ensemble Docking Procedure\n",
    "\n",
    "1. EGFR conformations were aligned using the $\\alpha$ Carbons of pocket residues. \n"
   ]
  },
  {
   "cell_type": "code",
   "execution_count": 1,
   "id": "d9aebe31-899a-45c8-9977-217bf62b7ace",
   "metadata": {},
   "outputs": [
    {
     "data": {
      "application/vnd.jupyter.widget-view+json": {
       "model_id": "c6dc2f9b061b40f9b335c36309ff12db",
       "version_major": 2,
       "version_minor": 0
      },
      "text/plain": []
     },
     "metadata": {},
     "output_type": "display_data"
    }
   ],
   "source": [
    "import sys\n",
    "sys.path.insert(0, '../..')\n",
    "from helper_modules.get_cocristalized_ligands \\\n",
    "     import get_pocket_ligand, PocketResidues"
   ]
  },
  {
   "cell_type": "markdown",
   "id": "54ba75c2-7035-4d2d-a489-9057986c568e",
   "metadata": {},
   "source": [
    "2. All conformations were aligned to the same reference structure: [7a2a](https://www.rcsb.org/structure/7A2A)."
   ]
  },
  {
   "cell_type": "code",
   "execution_count": 2,
   "id": "d9656dd7-1cb9-48de-aceb-92a85aef4d89",
   "metadata": {},
   "outputs": [
    {
     "name": "stdout",
     "output_type": "stream",
     "text": [
      "Indices of pocket redsidues: 717 718 719 720 723 725 726 727 728 738 742 743 744 745 746 747 758 759 760 761 762 763 764 766 767 769 774 775 776 777 778 779 780 786 787 788 789 790 791 792 793 794 795 796 797 798 799 800 801 803 840 841 842 843 844 845 853 854 855 856 857 858\n"
     ]
    }
   ],
   "source": [
    "ref_struc_id    = '7a2a'\n",
    "ref_ligand_name_1 = '57N'\n",
    "ref_ligand_name_2 = '7G9'\n",
    "\n",
    "pkt_info_1 = PocketResidues(ref_struc_id, ref_ligand_name_1)\n",
    "pkt_info_2 = PocketResidues(ref_struc_id, ref_ligand_name_2)\n",
    "\n",
    "pocket_residues_str_1 = pkt_info_1.get_pocket_residues_as_list().split(' ')\n",
    "pocket_residues_str_2 = pkt_info_2.get_pocket_residues_as_list()\n",
    "pocket_residues_str_2 = pocket_residues_str_2.split(' ')\n",
    "\n",
    "# Merge the values\n",
    "pocket_residues_str = sorted(list(set(pocket_residues_str_1 + pocket_residues_str_2)))\n",
    "pocket_residues_str = ' '.join(pocket_residues_str)\n",
    "\n",
    "print('Indices of pocket redsidues:', pocket_residues_str)"
   ]
  },
  {
   "cell_type": "code",
   "execution_count": 3,
   "id": "bcf6c391",
   "metadata": {},
   "outputs": [
    {
     "data": {
      "application/vnd.jupyter.widget-view+json": {
       "model_id": "216bcce5adbd42b5b63e6f10ce01b7c8",
       "version_major": 2,
       "version_minor": 0
      },
      "text/plain": [
       "NGLWidget(max_frame=174)"
      ]
     },
     "metadata": {},
     "output_type": "display_data"
    }
   ],
   "source": [
    "import pytraj as pyt\n",
    "import nglview as nv\n",
    "ens_traj = pyt.load('../3_Protein_Ensembles_Analysis/PDB_175_egfr_POCKET_ALL.dcd',\n",
    "                    top = '../1_Download_and_prepare_protein_ensembles/pdb_structures/pdb_prepared/7a2a_ENS.pdb')\n",
    "nv.show_pytraj(ens_traj)"
   ]
  },
  {
   "cell_type": "markdown",
   "id": "9129acca-9d46-4544-883b-b16791738950",
   "metadata": {},
   "source": [
    "3. Docking was performed using [SMINA](https://github.com/mwojcikowski/smina), with the following parameters:\n",
    "\n",
    "```shell\n",
    "# Search space EGFR\n",
    "  --center_x       -43\n",
    "  --center_y       -10\n",
    "  --center_z       2\n",
    "  --size_x         19\n",
    "  --size_y         26\n",
    "  --size_z         18\n",
    "\n",
    "# Scoring and minimization options:\n",
    "  --scoring        \"vinardo\"\n",
    "  --factor         100\n",
    "  \n",
    "# Misc\n",
    "  --num_modes      3\n",
    "  --exhaustiveness 16\n",
    "```\n",
    "egfr_DEKOIS2\n",
    "egfr_175_CRYS\n",
    "These parameters were chosen manually using AutodockTools."
   ]
  },
  {
   "cell_type": "markdown",
   "id": "9254ed38-c418-4f1f-9bb3-72ffe74524c5",
   "metadata": {},
   "source": [
    "Finished!"
   ]
  }
 ],
 "metadata": {
  "kernelspec": {
   "display_name": "Python 3",
   "language": "python",
   "name": "python3"
  },
  "language_info": {
   "codemirror_mode": {
    "name": "ipython",
    "version": 3
   },
   "file_extension": ".py",
   "mimetype": "text/x-python",
   "name": "python",
   "nbconvert_exporter": "python",
   "pygments_lexer": "ipython3",
   "version": "3.7.9"
  },
  "toc": {
   "base_numbering": 1,
   "nav_menu": {},
   "number_sections": true,
   "sideBar": true,
   "skip_h1_title": false,
   "title_cell": "Table of Contents",
   "title_sidebar": "Contents",
   "toc_cell": false,
   "toc_position": {},
   "toc_section_display": true,
   "toc_window_display": true
  }
 },
 "nbformat": 4,
 "nbformat_minor": 5
}
