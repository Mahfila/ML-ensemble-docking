{
 "cells": [
  {
   "cell_type": "markdown",
   "id": "97aec3fc-6c82-413a-beae-060d340406d5",
   "metadata": {},
   "source": [
    "# Random selection of 64 conformations\n",
    "- Procedure done only for `EGFR` and `HSP90` proteins.\n",
    "- A random seed is provided for reproducibility"
   ]
  },
  {
   "cell_type": "code",
   "execution_count": 1,
   "id": "59daecf9",
   "metadata": {},
   "outputs": [],
   "source": [
    "import pandas as pd\n",
    "import numpy as np\n",
    "import tarfile"
   ]
  },
  {
   "cell_type": "code",
   "execution_count": 3,
   "id": "567cd422",
   "metadata": {},
   "outputs": [
    {
     "name": "stdout",
     "output_type": "stream",
     "text": [
      "(175, 14)\n"
     ]
    }
   ],
   "source": [
    "# Load the data frame with the metadata information\n",
    "prot_name = 'egfr'\n",
    "df_prot_file = '../1_Download_and_prepare_protein_ensembles/TABLA_MTDATA_EGFR_175_crys_LIGS_INFO.json'\n",
    "df_prot = pd.read_json(df_prot_file)\n",
    "print(df_prot.shape)"
   ]
  },
  {
   "cell_type": "code",
   "execution_count": 4,
   "id": "a9792e50",
   "metadata": {},
   "outputs": [],
   "source": [
    "np.random.seed(42)\n",
    "pdb_ids = np.random.choice(df_prot.index, 64, replace = False)\n",
    "\n",
    "pdb_ids_dir = '../1_Download_and_prepare_protein_ensembles/pdb_structures/pdb_prepared/'\n",
    "with tarfile.open('64_EGFR_conformations.pdb.tar', 'w:gz') as tar:\n",
    "    for name in pdb_ids:\n",
    "        tar.add(f'{pdb_ids_dir}/{name}_ENS.pdb')\n",
    "tar.close()"
   ]
  },
  {
   "cell_type": "code",
   "execution_count": 5,
   "id": "bd7e6931",
   "metadata": {},
   "outputs": [
    {
     "data": {
      "text/plain": [
       "array(['1xkk', '2ito', '2itq', '2itt', '2itw', '2itx', '2itz', '2j5e',\n",
       "       '2jit', '2jiv', '2rfd', '3bel', '3gop', '3gt8', '3ug2', '3vjo',\n",
       "       '3w2q', '3w2r', '3w33', '4i21', '4jq8', '4jr3', '4r3p', '4riy',\n",
       "       '4rj4', '4rj5', '4rj6', '4rj7', '5c8k', '5c8m', '5cal', '5cav',\n",
       "       '5d41', '5em7', '5em8', '5fed', '5gmp', '5gtz', '5hg5', '5hg7',\n",
       "       '5hib', '5hic', '5j9z', '5u8l', '5ug8', '5x2a', '5x2c', '5x2f',\n",
       "       '5y9t', '5zwj', '6d8e', '6jrj', '6jrx', '6jwl', '6jx0', '6jz0',\n",
       "       '6s89', '6s9c', '6s9d', '6tfw', '6tfz', '6v5n', '6v6k', '6v6o'],\n",
       "      dtype=object)"
      ]
     },
     "execution_count": 5,
     "metadata": {},
     "output_type": "execute_result"
    }
   ],
   "source": [
    "np.sort(pdb_ids)"
   ]
  }
 ],
 "metadata": {
  "kernelspec": {
   "display_name": "Python 3",
   "language": "python",
   "name": "python3"
  },
  "language_info": {
   "codemirror_mode": {
    "name": "ipython",
    "version": 3
   },
   "file_extension": ".py",
   "mimetype": "text/x-python",
   "name": "python",
   "nbconvert_exporter": "python",
   "pygments_lexer": "ipython3",
   "version": "3.7.9"
  }
 },
 "nbformat": 4,
 "nbformat_minor": 5
}
