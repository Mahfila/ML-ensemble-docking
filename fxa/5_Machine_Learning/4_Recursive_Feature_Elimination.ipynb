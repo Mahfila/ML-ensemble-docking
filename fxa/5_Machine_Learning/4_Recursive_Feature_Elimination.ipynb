{
 "cells": [
  {
   "cell_type": "markdown",
   "id": "82f175a6-3d0e-42b6-a4e3-4578d6a99138",
   "metadata": {},
   "source": [
    "# Recursive Feature Elimination using XGB"
   ]
  },
  {
   "cell_type": "code",
   "execution_count": 1,
   "id": "a8f60b6c-4f01-4675-aeaf-e93766d4672d",
   "metadata": {},
   "outputs": [],
   "source": [
    "import pandas as pd\n",
    "import numpy as np\n",
    "import sys\n",
    "sys.path.append('../..')"
   ]
  },
  {
   "cell_type": "code",
   "execution_count": 2,
   "id": "08bd76f0-ce96-4dc7-92e4-1f156eb1c8e5",
   "metadata": {},
   "outputs": [],
   "source": [
    "%run ../../helper_modules/Helper_functions_for_nRepeats_x_kCV.ipynb"
   ]
  },
  {
   "cell_type": "code",
   "execution_count": 3,
   "id": "93a7a2b9-8711-40a9-91d9-f612c25000c6",
   "metadata": {},
   "outputs": [],
   "source": [
    "protein_name = 'fxa'\n",
    "file_name = '../4_Ensemble_docking_results/' + \\\n",
    "            'df_DkSc_results_COCRYS_DEKOIS_DUD.pkl'\n",
    "df_dk_res = pd.read_pickle(file_name)\n",
    "\n",
    "# Extract the features columns: Docking scores\n",
    "X = df_dk_res.drop('activity', axis = 1).values\n",
    "# Extract the response variable: Activity\n",
    "y = df_dk_res['activity'].values"
   ]
  },
  {
   "cell_type": "markdown",
   "id": "e285310c-0ffe-4fc1-97bd-8b915b06c68e",
   "metadata": {},
   "source": [
    "### Set a GBT as a base estimator"
   ]
  },
  {
   "cell_type": "code",
   "execution_count": 4,
   "id": "a638fc72-667e-4c22-a3e2-fe19b8ad4940",
   "metadata": {},
   "outputs": [],
   "source": [
    "from xgboost import XGBClassifier\n",
    "\n",
    "hyparams = {'subsample'       : 0.5, \n",
    "            'n_estimators'    : 200, \n",
    "            'max_depth'       : 10, \n",
    "            'learning_rate'   : 0.1,\n",
    "            'alpha'           : 0.5,\n",
    "            'gamma'           : 1, \n",
    "            'colsample_bytree': 1,\n",
    "            'use_label_encoder': False\n",
    "           }\n",
    "\n",
    "xgb = XGBClassifier(**hyparams)"
   ]
  },
  {
   "cell_type": "markdown",
   "id": "db1b7b58-8813-4586-91cc-98d341a60c15",
   "metadata": {},
   "source": [
    "### Recursive Feature Elimination to rank protein conformations \n",
    "\n",
    "- This result was used to rank protein conformations."
   ]
  },
  {
   "cell_type": "code",
   "execution_count": 5,
   "id": "6c5920d2-2068-4a02-8647-bfb3c5270566",
   "metadata": {},
   "outputs": [],
   "source": [
    "from sklearn.feature_selection import RFE"
   ]
  },
  {
   "cell_type": "code",
   "execution_count": 6,
   "id": "82e9b58e-9728-4f95-9965-57f24206a029",
   "metadata": {},
   "outputs": [
    {
     "name": "stdout",
     "output_type": "stream",
     "text": [
      "File loaded: ./cachedir/rfe_selectors/RFE_xgb_fxa.joblib\n"
     ]
    }
   ],
   "source": [
    "# This wrapper function let us to run the RFE\n",
    "# and save the results to a file\n",
    "xgb_slector_ranks = RFE_wrapper(\n",
    "    filename  = f'./cachedir/rfe_selectors/RFE_xgb_{protein_name}.joblib',\n",
    "    estimator = xgb,\n",
    "    n_features_to_select = 1,\n",
    "    X         = X,\n",
    "    y         = y,\n",
    "    step      = 1,\n",
    "    verbose   = 2 \n",
    ")"
   ]
  },
  {
   "cell_type": "code",
   "execution_count": 7,
   "id": "652921fc-304b-40ab-b341-a9474d49cb6f",
   "metadata": {},
   "outputs": [
    {
     "data": {
      "text/plain": [
       "array([ 85,  42,  89,  33,  11,  84,  72,  48,  37,  41,   1,  31,  53,\n",
       "        28,  64,  90,  30,  95,  44,  68, 105,  15,   2,  19,  52,  39,\n",
       "        80,  60,  59,  69, 130,  14, 125,  56,  25,  99,  86,   8, 107,\n",
       "        13,  24, 111,  78,  87, 118,  97,  77,  58,  62,  18,  55, 134,\n",
       "        82, 114,  38,  61,  71,  20,  17,  40,   3,  96, 109,  74, 129,\n",
       "       136, 110, 113,   6, 122, 106,  67,  98, 121, 108, 133,  75,   7,\n",
       "         5,  81, 102, 128,  49, 112,  10,  35,  88,  29,   9, 104, 103,\n",
       "        65, 126,  76,  46, 135, 127, 123,  73, 132, 124, 119, 115, 120,\n",
       "        16,  21,  45,  51,  27,  93,  91, 101,  70,  36,  63,  92,  57,\n",
       "       116, 117,  79,  26,  54, 131,  12,   4,  94,  47,  66,  23, 100,\n",
       "        83,  43,  32,  22,  50,  34])"
      ]
     },
     "execution_count": 7,
     "metadata": {},
     "output_type": "execute_result"
    }
   ],
   "source": [
    "xgb_slector_ranks.ranking_"
   ]
  },
  {
   "cell_type": "markdown",
   "id": "d94489c2-4cad-4750-a4f6-110006e33a5f",
   "metadata": {},
   "source": [
    "### Instantiate the RFE with Cross Validation"
   ]
  },
  {
   "cell_type": "code",
   "execution_count": 8,
   "id": "8117901d-9486-49cd-a21f-63116b42420a",
   "metadata": {},
   "outputs": [],
   "source": [
    "from sklearn.feature_selection import RFECV"
   ]
  },
  {
   "cell_type": "code",
   "execution_count": 9,
   "id": "4cc84e71-a387-46d1-923e-ef9a0fb93d51",
   "metadata": {},
   "outputs": [
    {
     "name": "stdout",
     "output_type": "stream",
     "text": [
      "File loaded: ./cachedir/rfe_selectors/RFECV_xgb_fxa.joblib\n"
     ]
    }
   ],
   "source": [
    "# This wrapper function let us to run the RFECV\n",
    "# and save the results to a file\n",
    "xgb_selector  = REFCV_wrapper(\n",
    "    filename  = f'./cachedir/rfe_selectors/RFECV_xgb_{protein_name}.joblib',\n",
    "    estimator = xgb,\n",
    "    min_features_to_select = 1,\n",
    "    X_train   = X,\n",
    "    y_train   = y,\n",
    "    scoring   = 'roc_auc',\n",
    "    cv        = 4, \n",
    "    step      = 2,\n",
    "    verbose   = 2,\n",
    "    n_jobs    = 4\n",
    ")"
   ]
  },
  {
   "cell_type": "code",
   "execution_count": 10,
   "id": "a9c82a68-5f3f-4ad7-982a-8516ef4a93b6",
   "metadata": {},
   "outputs": [
    {
     "name": "stdout",
     "output_type": "stream",
     "text": [
      "Conformations ranking (RFECV):\n",
      "[ 1  1  1  1  1  1  1  1  1  1  1  1  1  1  1  1  1  1  1  1  9  1  1  1\n",
      "  1  1  7  1  1  9  8  1  1  1  1  1  1  1  1  1  1  1  1  1  1  1  1  1\n",
      " 11  1  1 11  1  8  1  1  1  1  1  3  1  1  1  1  3 12  2  1  1  6  6  1\n",
      "  1  1 12  1  1  1  1  1  1  1  1  1  1  1  1  1  1  1  1  1  1  1  1  1\n",
      "  1  1  1  4 10  1  1  7  1  1  1  1  1  1  1  1  1  5  1  1  1  1  2  1\n",
      "  1  1  1  1  1  4  1  1  1 10  5  1  1  1  1  1]\n",
      "Number of conformations with rank = 1:\n",
      "114\n"
     ]
    }
   ],
   "source": [
    "# Visualize the rank of each conformation\n",
    "print('Conformations ranking (RFECV):')\n",
    "print(xgb_selector.ranking_)\n",
    "print('Number of conformations with rank = 1:')\n",
    "print((xgb_selector.ranking_ == 1).sum())"
   ]
  }
 ],
 "metadata": {
  "kernelspec": {
   "display_name": "Python 3",
   "language": "python",
   "name": "python3"
  },
  "language_info": {
   "codemirror_mode": {
    "name": "ipython",
    "version": 3
   },
   "file_extension": ".py",
   "mimetype": "text/x-python",
   "name": "python",
   "nbconvert_exporter": "python",
   "pygments_lexer": "ipython3",
   "version": "3.7.9"
  },
  "toc": {
   "base_numbering": 1,
   "nav_menu": {},
   "number_sections": true,
   "sideBar": true,
   "skip_h1_title": false,
   "title_cell": "Table of Contents",
   "title_sidebar": "Contents",
   "toc_cell": false,
   "toc_position": {},
   "toc_section_display": true,
   "toc_window_display": true
  }
 },
 "nbformat": 4,
 "nbformat_minor": 5
}
