{
 "cells": [
  {
   "cell_type": "markdown",
   "id": "c50e1317-97c1-4251-8d36-c41df84e4ae1",
   "metadata": {},
   "source": [
    "# Machine Learning Model Selection and Hyperparameter Optimization"
   ]
  },
  {
   "cell_type": "code",
   "execution_count": 1,
   "id": "47bb6e80-ac36-4345-b5db-0daa9aab02c9",
   "metadata": {},
   "outputs": [],
   "source": [
    "import pandas as pd\n",
    "import numpy as np\n",
    "import sys\n",
    "sys.path.append('../..')\n",
    "from helper_modules.plotting_metrics import PlotMetric"
   ]
  },
  {
   "cell_type": "markdown",
   "id": "d05f31bd-0d99-480d-b8e2-9945f833a7f5",
   "metadata": {},
   "source": [
    "## Docking Results"
   ]
  },
  {
   "cell_type": "code",
   "execution_count": 2,
   "id": "d8809a1c-2fe5-488d-b5f7-b26327b3399f",
   "metadata": {},
   "outputs": [
    {
     "data": {
      "text/plain": [
       "(6233, 136)"
      ]
     },
     "execution_count": 2,
     "metadata": {},
     "output_type": "execute_result"
    }
   ],
   "source": [
    "file_name = '../4_Ensemble_docking_results/df_DkSc_results_COCRYS_DEKOIS_DUD.pkl'\n",
    "df_dk_res = pd.read_pickle(file_name)\n",
    "\n",
    "# Extract the features columns: Docking scores\n",
    "X = df_dk_res.drop('activity', axis = 1)\n",
    "# Extract the response variable: Activity\n",
    "y = df_dk_res['activity']\n",
    "\n",
    "X.shape"
   ]
  },
  {
   "cell_type": "markdown",
   "id": "c5d849c3-2feb-42dc-9978-15ea606efecc",
   "metadata": {},
   "source": [
    "***\n",
    "<h3 style='color: black; background-color: #F9E5AB; padding: 5px;'>\n",
    "    Train-test split\n",
    "</h3>"
   ]
  },
  {
   "cell_type": "code",
   "execution_count": 3,
   "id": "582c696e-a6b0-4bf8-aaec-80fe10922715",
   "metadata": {},
   "outputs": [],
   "source": [
    "from sklearn.model_selection import GridSearchCV, RandomizedSearchCV\n",
    "from sklearn.model_selection import train_test_split\n",
    "from sklearn.metrics import roc_auc_score"
   ]
  },
  {
   "cell_type": "code",
   "execution_count": 4,
   "id": "1e39d065-f15e-4d62-93c6-c1990dd2772f",
   "metadata": {},
   "outputs": [],
   "source": [
    "# Stratified train-test split\n",
    "X_train, X_test, y_train, y_test = train_test_split(\n",
    "    X, y, test_size = 0.25, \n",
    "    stratify = y, random_state = 42\n",
    ")"
   ]
  },
  {
   "cell_type": "code",
   "execution_count": 5,
   "id": "8e8e7e4b-7913-4d88-bbb1-9846331b6a54",
   "metadata": {},
   "outputs": [
    {
     "name": "stdout",
     "output_type": "stream",
     "text": [
      "No. of molecules in train set: 4674 with 225 actives. R_a = 0.05\n",
      "No. of molecules in test set: 1559 with 75 actives. R_a = 0.05\n"
     ]
    }
   ],
   "source": [
    "# Verify stratified splitting\n",
    "n_train_mols    = y_train.shape[0]\n",
    "n_train_actives = y_train.sum()\n",
    "n_test_mols    = y_test.shape[0]\n",
    "n_test_actives = y_test.sum()\n",
    "print(f'No. of molecules in train set: {n_train_mols}', \n",
    "      f'with {n_train_actives} actives.',\n",
    "      f'R_a = {n_train_actives / n_train_mols:.2f}')\n",
    "print(f'No. of molecules in test set: {n_test_mols}', \n",
    "      f'with {n_test_actives} actives.',\n",
    "      f'R_a = {n_test_actives / n_test_mols:.2f}')"
   ]
  },
  {
   "cell_type": "code",
   "execution_count": 6,
   "id": "d3b62d7b-eaa6-4c43-9452-4b3e9242b6b7",
   "metadata": {},
   "outputs": [],
   "source": [
    "# We will define a simple function to report the GS results\n",
    "def GSCV_report(gs_fitted, X_train, X_test, y_train, y_test):\n",
    "    y_train_predict = gs_fitted.predict_proba(X_train)\n",
    "    y_test_predict  = gs_fitted.predict_proba(X_test)\n",
    "    mean_cv_roc     = gs_fitted.best_score_\n",
    "    train_roc       = roc_auc_score(y_train, y_train_predict[:, 1])\n",
    "    test_roc        = roc_auc_score(y_test, y_test_predict[:, 1])\n",
    "    best_params     = gs_fitted.best_params_\n",
    "\n",
    "    # Print results\n",
    "    print('*'*10, 'GRID SEARCH RESULTS', '*'*10)\n",
    "    print('- Mean CV ROC-AUC:\\t{:.3f}'.format(mean_cv_roc))\n",
    "    print('- Train ROC-AUC:  \\t{:.3f}'.format(train_roc))\n",
    "    print('- Test ROC-AUC:   \\t{:.3f}'.format(test_roc))\n",
    "    print('- Best hyperparameters', best_params)\n",
    "    print('**'*21)\n",
    "    print('')"
   ]
  },
  {
   "cell_type": "markdown",
   "id": "8cc595ff-4bad-48c3-afea-aa2244392aa2",
   "metadata": {},
   "source": [
    "***\n",
    "<h3 style='color: black; background-color: #F9E5AB; padding: 5px;'>\n",
    "    Grid Search: Logistic Regression\n",
    "</h3>"
   ]
  },
  {
   "cell_type": "code",
   "execution_count": 7,
   "id": "a1eedd09-86e1-41be-af48-9d41e2f78c53",
   "metadata": {},
   "outputs": [],
   "source": [
    "from sklearn.linear_model import LogisticRegression"
   ]
  },
  {
   "cell_type": "code",
   "execution_count": 8,
   "id": "192d8b69-906c-4378-ba71-fe18704778f8",
   "metadata": {},
   "outputs": [
    {
     "name": "stdout",
     "output_type": "stream",
     "text": [
      "********** GRID SEARCH RESULTS **********\n",
      "- Mean CV ROC-AUC:\t0.826\n",
      "- Train ROC-AUC:  \t0.870\n",
      "- Test ROC-AUC:   \t0.805\n",
      "- Best hyperparameters {'C': 0.01, 'penalty': 'l2'}\n",
      "******************************************\n",
      "\n",
      "CPU times: user 1.71 s, sys: 120 ms, total: 1.83 s\n",
      "Wall time: 6.08 s\n"
     ]
    }
   ],
   "source": [
    "%%time\n",
    "scoring          = 'roc_auc'\n",
    "estimator_name   = 'LogisticRegression'\n",
    "estimator        = LogisticRegression(\n",
    "                         max_iter = 400\n",
    "                   )\n",
    "estimator_hyprms = {\n",
    "    'C'       : np.geomspace(1e-6, 1e2, 5),\n",
    "    'penalty' : ['l1', 'l2', None]\n",
    "}\n",
    "\n",
    "# Grid search\n",
    "gs_lr = GridSearchCV(\n",
    "        estimator    = estimator,\n",
    "        param_grid   = estimator_hyprms,\n",
    "        cv           = 5,\n",
    "        scoring      = scoring,\n",
    "        n_jobs       = 4\n",
    ")\n",
    "\n",
    "# Fit and evaluate the estimator\n",
    "gs_lr.fit(X_train, y_train)\n",
    "\n",
    "# Report the results\n",
    "GSCV_report(gs_lr, \n",
    "            X_train, X_test, \n",
    "            y_train, y_test)"
   ]
  },
  {
   "cell_type": "code",
   "execution_count": 9,
   "id": "40d5e0fa-8b48-46d1-a87e-175dd933feee",
   "metadata": {},
   "outputs": [
    {
     "data": {
      "text/plain": [
       "{'C': 0.01, 'penalty': 'l2'}"
      ]
     },
     "execution_count": 9,
     "metadata": {},
     "output_type": "execute_result"
    }
   ],
   "source": [
    "gs_lr.best_params_"
   ]
  },
  {
   "cell_type": "code",
   "execution_count": 10,
   "id": "67eed830-589a-454e-8182-c0ab081b0370",
   "metadata": {},
   "outputs": [
    {
     "data": {
      "text/plain": [
       "LogisticRegression(C=0.01, max_iter=400)"
      ]
     },
     "execution_count": 10,
     "metadata": {},
     "output_type": "execute_result"
    }
   ],
   "source": [
    "gs_lr.best_estimator_"
   ]
  },
  {
   "cell_type": "markdown",
   "id": "78a5d14f-fcc6-4649-a83b-59133b56f309",
   "metadata": {},
   "source": [
    "***\n",
    "<h3 style='color: black; background-color: #F9E5AB; padding: 5px;'>\n",
    "    Randomized Search: Gradient Boosting Trees\n",
    "</h3>"
   ]
  },
  {
   "cell_type": "code",
   "execution_count": 11,
   "id": "a86798bc-1f8f-41b3-aab2-35992400414f",
   "metadata": {},
   "outputs": [],
   "source": [
    "from xgboost import XGBClassifier"
   ]
  },
  {
   "cell_type": "code",
   "execution_count": 12,
   "id": "3deb6df5-0410-477f-b801-1f2c96f59093",
   "metadata": {},
   "outputs": [
    {
     "name": "stdout",
     "output_type": "stream",
     "text": [
      "[16:49:38] WARNING: /Users/travis/build/dmlc/xgboost/src/learner.cc:1061: Starting in XGBoost 1.3.0, the default evaluation metric used with the objective 'binary:logistic' was changed from 'error' to 'logloss'. Explicitly set eval_metric if you'd like to restore the old behavior.\n",
      "********** GRID SEARCH RESULTS **********\n",
      "- Mean CV ROC-AUC:\t0.857\n",
      "- Train ROC-AUC:  \t1.000\n",
      "- Test ROC-AUC:   \t0.855\n",
      "- Best hyperparameters {'subsample': 0.5, 'n_estimators': 200, 'max_depth': 10, 'learning_rate': 0.1, 'gamma': 1, 'colsample_bytree': 1, 'alpha': 0.5}\n",
      "******************************************\n",
      "\n",
      "CPU times: user 24.5 s, sys: 469 ms, total: 25 s\n",
      "Wall time: 2min 18s\n"
     ]
    }
   ],
   "source": [
    "%%time\n",
    "scoring          = 'roc_auc'\n",
    "estimator_name   = 'XGB_tree'\n",
    "estimator = XGBClassifier(use_label_encoder=False)\n",
    "\n",
    "estimator_hyprms = {\n",
    "   'n_estimators'    : [200, 300, 500],\n",
    "   'max_depth'       : [3, 5, 10, 20],\n",
    "   'gamma'           : [0.01, 0.1, 0.5, 1],\n",
    "   'learning_rate'   : [0.05, 0.1],\n",
    "   'subsample'       : [0.3, 0.5, 0.6],\n",
    "   'alpha'           : [0.01, 0.1, 0.5, 1],\n",
    "   'colsample_bytree': [0.3, 0.5, 1]\n",
    "}\n",
    "\n",
    "# Grid search\n",
    "gs_gbt = RandomizedSearchCV(\n",
    "  estimator             = estimator,\n",
    "  param_distributions   = estimator_hyprms,\n",
    "  cv                    = 5,\n",
    "  scoring               = scoring,\n",
    "  n_jobs                = 4,\n",
    "  n_iter                = 50\n",
    ")\n",
    "\n",
    "# Fit and evaluate the estimator\n",
    "gs_gbt.fit(X_train, y_train)\n",
    "\n",
    "# Report the results\n",
    "GSCV_report(gs_gbt, \n",
    "            X_train, X_test, \n",
    "            y_train, y_test)"
   ]
  },
  {
   "cell_type": "code",
   "execution_count": 13,
   "id": "05f1fb1a-17e6-4f9e-9f1a-659a51ab31b9",
   "metadata": {},
   "outputs": [
    {
     "data": {
      "text/plain": [
       "{'subsample': 0.5,\n",
       " 'n_estimators': 200,\n",
       " 'max_depth': 10,\n",
       " 'learning_rate': 0.1,\n",
       " 'gamma': 1,\n",
       " 'colsample_bytree': 1,\n",
       " 'alpha': 0.5}"
      ]
     },
     "execution_count": 13,
     "metadata": {},
     "output_type": "execute_result"
    }
   ],
   "source": [
    "gs_gbt.best_params_"
   ]
  },
  {
   "cell_type": "code",
   "execution_count": 14,
   "id": "17ba86d1-0029-4f28-8a70-d46cf83723fa",
   "metadata": {},
   "outputs": [
    {
     "data": {
      "text/plain": [
       "XGBClassifier(alpha=0.5, base_score=0.5, booster='gbtree', colsample_bylevel=1,\n",
       "              colsample_bynode=1, colsample_bytree=1, gamma=1, gpu_id=-1,\n",
       "              importance_type='gain', interaction_constraints='',\n",
       "              learning_rate=0.1, max_delta_step=0, max_depth=10,\n",
       "              min_child_weight=1, missing=nan, monotone_constraints='()',\n",
       "              n_estimators=200, n_jobs=8, num_parallel_tree=1, random_state=0,\n",
       "              reg_alpha=0.5, reg_lambda=1, scale_pos_weight=1, subsample=0.5,\n",
       "              tree_method='exact', use_label_encoder=False,\n",
       "              validate_parameters=1, verbosity=None)"
      ]
     },
     "execution_count": 14,
     "metadata": {},
     "output_type": "execute_result"
    }
   ],
   "source": [
    "gs_gbt.best_estimator_"
   ]
  },
  {
   "cell_type": "markdown",
   "id": "eb5ed604",
   "metadata": {},
   "source": [
    "Finished!"
   ]
  }
 ],
 "metadata": {
  "kernelspec": {
   "display_name": "Python 3",
   "language": "python",
   "name": "python3"
  },
  "language_info": {
   "codemirror_mode": {
    "name": "ipython",
    "version": 3
   },
   "file_extension": ".py",
   "mimetype": "text/x-python",
   "name": "python",
   "nbconvert_exporter": "python",
   "pygments_lexer": "ipython3",
   "version": "3.7.9"
  },
  "toc": {
   "base_numbering": 1,
   "nav_menu": {},
   "number_sections": true,
   "sideBar": true,
   "skip_h1_title": false,
   "title_cell": "Table of Contents",
   "title_sidebar": "Contents",
   "toc_cell": false,
   "toc_position": {},
   "toc_section_display": true,
   "toc_window_display": true
  }
 },
 "nbformat": 4,
 "nbformat_minor": 5
}
