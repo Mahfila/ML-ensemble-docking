{
 "cells": [
  {
   "cell_type": "markdown",
   "id": "fb03591f-7882-4db5-b76c-11b2923d6abe",
   "metadata": {},
   "source": [
    "# Model crystalographic structures using Modeller"
   ]
  },
  {
   "cell_type": "code",
   "execution_count": 1,
   "id": "7b614380",
   "metadata": {},
   "outputs": [],
   "source": [
    "from pathlib import Path\n",
    "from glob import glob\n",
    "from prody import parsePDB\n",
    "import sys\n",
    "sys.path.append('../..')\n",
    "from helper_modules.run_modeller import *\n",
    "from helper_modules.get_pdb_ids_from_uniport import *"
   ]
  },
  {
   "cell_type": "markdown",
   "id": "1daf0df1-cbe9-47fd-b67c-f0c72f0e0700",
   "metadata": {},
   "source": [
    "- Define some basic properties of the target protein."
   ]
  },
  {
   "cell_type": "code",
   "execution_count": 2,
   "id": "a05fe047",
   "metadata": {},
   "outputs": [],
   "source": [
    "prot_name       = 'fxa'\n",
    "uniprot_id      = 'P00742'"
   ]
  },
  {
   "cell_type": "code",
   "execution_count": 3,
   "id": "c1a509ed",
   "metadata": {},
   "outputs": [
    {
     "name": "stdout",
     "output_type": "stream",
     "text": [
      "MGRPLHLVLLSASLAGLLLLGESLFIRREQANNILARVTRANSFLEEMKKGHLERECMEETCSYEEAREVFEDSDKTNEFWNKYKDGDQCETSPCQNQGKCKDGLGEYTCTCLEGFEGKNCELFTRKLCSLDNGDCDQFCHEEQNSVVCSCARGYTLADNGKACIPTGPYPCGKQTLERRKRSVAQATSSSGEAPDSITWKPYDAADLDPTENPFDLLDFNQTQPERGDNNLTRIVGGQECKDGECPWQALLINEENEGFCGGTILSEFYILTAAHCLYQAKRFKVRVGDRNTEQEEGGEAVHEVEVVIKHNRFTKETYDFDIAVLRLKTPITFRMNVAPACLPERDWAESTLMTQKTGIVSGFGRTHEKGRQSTRLKMLEVPYVDRNSCKLSSSFIITQNMFCAGYDTKQEDACQGDSGGPHVTRFKDTYFVTGIVSWGEGCARKGKYGIYTKVTAFLKWIDRSMKTRGLPKAKSHAPEVITSSPLK\n",
      "\n",
      "There are 488 residues.\n"
     ]
    }
   ],
   "source": [
    "seq_prot = get_seq_from_uniprot(uniprot_id)\n",
    "print(seq_prot)\n",
    "print(f'\\nThere are {len(seq_prot)} residues.')"
   ]
  },
  {
   "cell_type": "markdown",
   "id": "300ffea3-7bad-4d69-8ac5-36561b8b1067",
   "metadata": {},
   "source": [
    "<h3 style='color: black; background-color: #F9E5AB; padding: 5px;'>\n",
    "    Important!\n",
    "</h3>\n",
    "\n",
    "- We will used a subsequece of the FXa protein, as we are only interested in modeling the protein's active site."
   ]
  },
  {
   "cell_type": "code",
   "execution_count": 4,
   "id": "adc07bab-d89d-4842-91a2-4e684f70fb13",
   "metadata": {},
   "outputs": [
    {
     "data": {
      "text/plain": [
       "242"
      ]
     },
     "execution_count": 4,
     "metadata": {},
     "output_type": "execute_result"
    }
   ],
   "source": [
    "seq_prot = '''IVGGQECKDGECPWQALLINEENEGFCGGTILSEFYILTAAHCLYQAKR\n",
    "              FKVRVGDRNTEQEEGGEAVHEVEVVIKHNRFTKETYDFDIAVLRLKTPI\n",
    "              TFRMNVAPACLPERDWAESTLMTQKTGIVSGFGRTHEKGRQSTRLKMLE\n",
    "              VPYVDRNSCKLSSSFIITQNMFCAGYDTKQEDACQGDSGGPHVTRFKDT\n",
    "              YFVTGIVSWGEGCARKGKYGIYTKVTAFLKWIDRSMKTRGLPKAKS'''\n",
    "seq_prot = seq_prot.replace('\\n', '').replace(' ', '')\n",
    "len(seq_prot)"
   ]
  },
  {
   "cell_type": "markdown",
   "id": "b01c972d-fdb7-440b-b85b-2649800e42f6",
   "metadata": {},
   "source": [
    "## Start the Modelling process\n",
    "### Define the input and output directories"
   ]
  },
  {
   "cell_type": "code",
   "execution_count": 5,
   "id": "16d0bc5a",
   "metadata": {},
   "outputs": [],
   "source": [
    "OUT_MAIN   = './pdb_structures'\n",
    "\n",
    "# Get the list of input files\n",
    "INPUT_DIR = f'{OUT_MAIN}/pdb_chains'\n",
    "input_files = sorted(glob(f'{INPUT_DIR}/*pdb'))\n",
    "\n",
    "# Define the output directory\n",
    "OUTPUT_DIR = f'{OUT_MAIN}/pdb_modeled'\n",
    "Path(OUTPUT_DIR).mkdir(parents = True, exist_ok = True)"
   ]
  },
  {
   "cell_type": "code",
   "execution_count": 6,
   "id": "4f08b9c4",
   "metadata": {},
   "outputs": [
    {
     "name": "stdout",
     "output_type": "stream",
     "text": [
      "['ILE' 'ILE' 'ILE' ... 'LYS' 'LYS' 'LYS']\n",
      "./pdb_structures/pdb_chains/1c5m_A.pdb\n",
      "IVGGQECKDGECPWQALLINEENEGFCGGTILSEFYILTAAHCLYQAKRFKVRVGDRNTEQEEGGEAVHEVEVVIKHNRFTKETYDFDIAVLRLKTPITFRMNVAPACLPERDWAESTLMTQKTGIVSGFGRTHEKGRQSTRLKMLEVPYVDRNSCKLSSSFIITQNMFCAGYDTKQEDACQGDSGGPHVTRFKDTYFVTGIVSWGEGCARKGKYGIYTKVTAFLKWIDRSMKTRGLPKAK\n",
      "\n",
      "                         MODELLER 10.1, 2021/03/12, r12156\n",
      "\n",
      "     PROTEIN STRUCTURE MODELLING BY SATISFACTION OF SPATIAL RESTRAINTS\n",
      "\n",
      "\n",
      "                     Copyright(c) 1989-2021 Andrej Sali\n",
      "                            All Rights Reserved\n",
      "\n",
      "                             Written by A. Sali\n",
      "                               with help from\n",
      "              B. Webb, M.S. Madhusudhan, M-Y. Shen, G.Q. Dong,\n",
      "          M.A. Marti-Renom, N. Eswar, F. Alber, M. Topf, B. Oliva,\n",
      "             A. Fiser, R. Sanchez, B. Yerkovich, A. Badretdinov,\n",
      "                     F. Melo, J.P. Overington, E. Feyfant\n",
      "                 University of California, San Francisco, USA\n",
      "                    Rockefeller University, New York, USA\n",
      "                      Harvard University, Cambridge, USA\n",
      "                   Imperial Cancer Research Fund, London, UK\n",
      "              Birkbeck College, University of London, London, UK\n",
      "\n",
      "\n",
      "Kind, OS, HostName, Kernel, Processor: 4, Darwin MacBook-Pro-de-Joel.local 19.6.0 x86_64\n",
      "Date and time of compilation         : 2021/03/11 16:15:42\n",
      "MODELLER executable type             : mac10v4-intel64\n",
      "Job starting time (YY/MM/DD HH:MM:SS): 2021/04/29 22:59:30\n",
      "\n",
      "\n",
      "check_ali___> Checking the sequence-structure alignment. \n",
      "\n",
      "Implied intrachain target CA(i)-CA(i+1) distances longer than  8.0 angstroms:\n",
      "\n",
      "ALN_POS  TMPL  RID1  RID2  NAM1  NAM2     DIST\n",
      "----------------------------------------------\n",
      "END OF TABLE\n",
      "read_to_681_> topology.submodel read from topology file:        3\n",
      "patch_s_522_> Number of disulfides patched in MODEL:        4\n",
      "mdtrsr__446W> A potential that relies on one protein is used, yet you have at\n",
      "              least one known structure available. MDT, not library, potential is used.\n",
      "0 atoms in HETATM/BLK residues constrained\n",
      "to protein atoms within 2.30 angstroms\n",
      "and protein CA atoms within 10.00 angstroms\n",
      "0 atoms in residues without defined topology\n",
      "constrained to be rigid bodies\n",
      "condens_443_> Restraints marked for deletion were removed.\n",
      "              Total number of restraints before, now:    27232    25523\n",
      "21 (of 1912 total) atoms selected for optimization\n",
      "iupac_m_397W> Atoms were not swapped because of the uncertainty of how to handle the H atom.\n",
      "iupac_m_397W> Atoms were not swapped because of the uncertainty of how to handle the H atom.\n",
      "iupac_m_397W> Atoms were not swapped because of the uncertainty of how to handle the H atom.\n",
      "iupac_m_397W> Atoms were not swapped because of the uncertainty of how to handle the H atom.\n",
      "\n",
      "\n",
      ">> ENERGY; Differences between the model's features and restraints:\n",
      "Number of all residues in MODEL                   :      242\n",
      "Number of all, selected real atoms                :     1912      21\n",
      "Number of all, selected pseudo atoms              :        0       0\n",
      "Number of all static, selected restraints         :    25523     253\n",
      "COVALENT_CYS                                      :        F\n",
      "NONBONDED_SEL_ATOMS                               :        1\n",
      "Number of non-bonded pairs (excluding 1-2,1-3,1-4):       58\n",
      "Dynamic pairs routine                             : 5, NATM_SEL x NATM double loop\n",
      "Atomic shift for contacts update (UPDATE_DYNAMIC) :    0.390\n",
      "LENNARD_JONES_SWITCH                              :    6.500   7.500\n",
      "COULOMB_JONES_SWITCH                              :    6.500   7.500\n",
      "RESIDUE_SPAN_RANGE                                :        0   99999\n",
      "NLOGN_USE                                         :       15\n",
      "CONTACT_SHELL                                     :    4.000\n",
      "DYNAMIC_PAIRS,_SPHERE,_COULOMB,_LENNARD,_MODELLER :        T       T       F       F       F\n",
      "SPHERE_STDV                                       :    0.050\n",
      "RADII_FACTOR                                      :    0.820\n",
      "Current energy                                    :          31.5632\n",
      "\n",
      "\n",
      "\n",
      "\n",
      "\n",
      "Summary of the restraint violations: \n",
      "\n",
      "   NUM     ... number of restraints.\n",
      "   NUMVI   ... number of restraints with RVIOL > VIOL_REPORT_CUT[i].\n",
      "   RVIOL   ... relative difference from the best value.\n",
      "   NUMVP   ... number of restraints with -Ln(pdf) > VIOL_REPORT_CUT2[i].\n",
      "   RMS_1   ... RMS(feature, minimally_violated_basis_restraint, NUMB).\n",
      "   RMS_2   ... RMS(feature, best_value, NUMB).\n",
      "   MOL.PDF ... scaled contribution to -Ln(Molecular pdf).\n",
      "\n",
      " #                     RESTRAINT_GROUP      NUM   NUMVI  NUMVP   RMS_1   RMS_2         MOL.PDF     S_i\n",
      "------------------------------------------------------------------------------------------------------\n",
      " 1 Bond length potential              :      21       0      0   0.004   0.004     0.92785E-01   1.000\n",
      " 2 Bond angle potential               :      28       0      0   2.104   2.104      2.4966       1.000\n",
      " 3 Stereochemical cosine torsion poten:      12       0      1  69.889  69.889      8.0518       1.000\n",
      " 4 Stereochemical improper torsion pot:       7       0      0   1.686   1.686     0.49229       1.000\n",
      " 5 Soft-sphere overlap restraints     :      58       0      0   0.002   0.002     0.19180E-01   1.000\n",
      " 6 Lennard-Jones 6-12 potential       :       0       0      0   0.000   0.000      0.0000       1.000\n",
      " 7 Coulomb point-point electrostatic p:       0       0      0   0.000   0.000      0.0000       1.000\n",
      " 8 H-bonding potential                :       0       0      0   0.000   0.000      0.0000       1.000\n",
      " 9 Distance restraints 1 (CA-CA)      :      63       0      0   0.069   0.069     0.30242       1.000\n",
      "10 Distance restraints 2 (N-O)        :      67       0      0   0.200   0.200      1.9542       1.000\n",
      "11 Mainchain Phi dihedral restraints  :       0       0      0   0.000   0.000      0.0000       1.000\n",
      "12 Mainchain Psi dihedral restraints  :       0       0      0   0.000   0.000      0.0000       1.000\n",
      "13 Mainchain Omega dihedral restraints:       3       0      0   5.619   5.619      1.1170       1.000\n",
      "14 Sidechain Chi_1 dihedral restraints:       2       0      0  93.470  93.470     0.39229       1.000\n",
      "15 Sidechain Chi_2 dihedral restraints:       1       0      0 101.870 101.870     0.34148       1.000\n",
      "16 Sidechain Chi_3 dihedral restraints:       1       0      0   4.106   4.106     0.10804       1.000\n",
      "17 Sidechain Chi_4 dihedral restraints:       1       0      0 114.110 114.110     0.94025       1.000\n",
      "18 Disulfide distance restraints      :       0       0      0   0.000   0.000      0.0000       1.000\n",
      "19 Disulfide angle restraints         :       0       0      0   0.000   0.000      0.0000       1.000\n",
      "20 Disulfide dihedral angle restraints:       0       0      0   0.000   0.000      0.0000       1.000\n",
      "21 Lower bound distance restraints    :       0       0      0   0.000   0.000      0.0000       1.000\n",
      "22 Upper bound distance restraints    :       0       0      0   0.000   0.000      0.0000       1.000\n",
      "23 Distance restraints 3 (SDCH-MNCH)  :      28       0      0   0.090   0.090     0.60423E-02   1.000\n",
      "24 Sidechain Chi_5 dihedral restraints:       0       0      0   0.000   0.000      0.0000       1.000\n",
      "25 Phi/Psi pair of dihedral restraints:       3       2      2 106.990 172.208      15.223       1.000\n",
      "26 Distance restraints 4 (SDCH-SDCH)  :      16       0      0   0.113   0.113     0.26341E-01   1.000\n",
      "27 Distance restraints 5 (X-Y)        :       0       0      0   0.000   0.000      0.0000       1.000\n",
      "28 NMR distance restraints 6 (X-Y)    :       0       0      0   0.000   0.000      0.0000       1.000\n",
      "29 NMR distance restraints 7 (X-Y)    :       0       0      0   0.000   0.000      0.0000       1.000\n",
      "30 Minimal distance restraints        :       0       0      0   0.000   0.000      0.0000       1.000\n",
      "31 Non-bonded restraints              :       0       0      0   0.000   0.000      0.0000       1.000\n",
      "32 Atomic accessibility restraints    :       0       0      0   0.000   0.000      0.0000       1.000\n",
      "33 Atomic density restraints          :       0       0      0   0.000   0.000      0.0000       1.000\n",
      "34 Absolute position restraints       :       0       0      0   0.000   0.000      0.0000       1.000\n",
      "35 Dihedral angle difference restraint:       0       0      0   0.000   0.000      0.0000       1.000\n",
      "36 GBSA implicit solvent potential    :       0       0      0   0.000   0.000      0.0000       1.000\n",
      "37 EM density fitting potential       :       0       0      0   0.000   0.000      0.0000       1.000\n",
      "38 SAXS restraints                    :       0       0      0   0.000   0.000      0.0000       1.000\n",
      "39 Symmetry restraints                :       0       0      0   0.000   0.000      0.0000       1.000\n",
      "\n",
      "\n",
      "\n",
      "# Heavy relative violation of each residue is written to: 1c5m_A_mod.V99990001\n",
      "# The profile is NOT normalized by the number of restraints.\n",
      "# The profiles are smoothed over a window of residues:    1\n",
      "# The sum of all numbers in the file:     634.6514\n",
      "\n",
      "\n",
      "\n",
      "List of the violated restraints:\n",
      "   A restraint is violated when the relative difference\n",
      "   from the best value (RVIOL) is larger than CUTOFF.\n",
      "\n",
      "   ICSR   ... index of a restraint in the current set.\n",
      "   RESNO  ... residue numbers of the first two atoms.\n",
      "   ATM    ... IUPAC atom names of the first two atoms.\n",
      "   FEAT   ... the value of the feature in the model.\n",
      "   restr  ... the mean of the basis restraint with the smallest\n",
      "              difference from the model (local minimum).\n",
      "   viol   ... difference from the local minimum.\n",
      "   rviol  ... relative difference from the local minimum.\n",
      "   RESTR  ... the best value (global minimum).\n",
      "   VIOL   ... difference from the best value.\n",
      "   RVIOL  ... relative difference from the best value.\n",
      "\n",
      "\n",
      "-------------------------------------------------------------------------------------------------\n",
      "\n",
      "Feature 25                           : Phi/Psi pair of dihedral restraints     \n",
      "List of the RVIOL violations larger than   :       6.5000\n",
      "\n",
      "    #   ICSR  RESNO1/2 ATM1/2   INDATM1/2    FEAT   restr    viol   rviol   RESTR    VIOL   RVIOL\n",
      "    1   6852 238P 239K C   N    1881 1883   52.62  -70.20  126.83    9.95 -118.00  173.77    7.16\n",
      "    1        239K 239K N   CA   1883 1884  172.07  140.40                  139.10\n",
      "    2   6854 240A 241K C   N    1895 1897  112.31 -118.00  130.66    5.22  -62.90 -120.02   41.05\n",
      "    2        241K 241K N   CA   1897 1898  123.19  139.10                  -40.80\n",
      "\n",
      "\n",
      "report______> Distribution of short non-bonded contacts:\n",
      "\n",
      "\n",
      "DISTANCE1:  0.00 2.10 2.20 2.30 2.40 2.50 2.60 2.70 2.80 2.90 3.00 3.10 3.20 3.30 3.40\n",
      "DISTANCE2:  2.10 2.20 2.30 2.40 2.50 2.60 2.70 2.80 2.90 3.00 3.10 3.20 3.30 3.40 3.50\n",
      "FREQUENCY:     0    0    0    1    1    7   25   68   82  132  131  154  209  245  317\n",
      "\n",
      "\n",
      "<< end of ENERGY.\n",
      "\n",
      ">> Summary of successfully produced models:\n",
      "Filename                          molpdf\n",
      "----------------------------------------\n",
      "1c5m_A_mod.B99990001.pdb        31.56318\n",
      "\n",
      "16\n"
     ]
    }
   ],
   "source": [
    "# Model all molecules\n",
    "for pdb_file in input_files:\n",
    "    # Load the pdb file\n",
    "    pdb_chain = parsePDB(pdb_file)\n",
    "    \n",
    "    # Run modeller\n",
    "    run_modeller(\n",
    "                 pdb_file = pdb_file, \n",
    "                 seq_prot = seq_prot, \n",
    "                 output_dir = OUTPUT_DIR, \n",
    "                 keep_original_resnum = True,\n",
    "                 num_res_window = 2, \n",
    "                 max_var_iterations = 500, \n",
    "                 repeat_optimization = 2,\n",
    "                 chid = 'A',\n",
    "                 verbose = False\n",
    "                )"
   ]
  },
  {
   "cell_type": "markdown",
   "id": "e4071ff3-56db-4319-9896-4454df674db3",
   "metadata": {},
   "source": [
    "Finished!"
   ]
  }
 ],
 "metadata": {
  "kernelspec": {
   "display_name": "Python 3",
   "language": "python",
   "name": "python3"
  },
  "language_info": {
   "codemirror_mode": {
    "name": "ipython",
    "version": 3
   },
   "file_extension": ".py",
   "mimetype": "text/x-python",
   "name": "python",
   "nbconvert_exporter": "python",
   "pygments_lexer": "ipython3",
   "version": "3.7.9"
  },
  "toc": {
   "base_numbering": 1,
   "nav_menu": {},
   "number_sections": true,
   "sideBar": true,
   "skip_h1_title": false,
   "title_cell": "Table of Contents",
   "title_sidebar": "Contents",
   "toc_cell": false,
   "toc_position": {},
   "toc_section_display": true,
   "toc_window_display": true
  }
 },
 "nbformat": 4,
 "nbformat_minor": 5
}
