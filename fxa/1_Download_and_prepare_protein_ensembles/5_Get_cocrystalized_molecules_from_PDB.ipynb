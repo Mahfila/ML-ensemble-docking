{
 "cells": [
  {
   "cell_type": "markdown",
   "id": "b544b8e3",
   "metadata": {},
   "source": [
    "# Get cocrystalized molecules from PDB"
   ]
  },
  {
   "cell_type": "code",
   "execution_count": 1,
   "id": "55922334",
   "metadata": {},
   "outputs": [
    {
     "data": {
      "application/vnd.jupyter.widget-view+json": {
       "model_id": "de2d92e3069840978cdb691999e3c148",
       "version_major": 2,
       "version_minor": 0
      },
      "text/plain": []
     },
     "metadata": {},
     "output_type": "display_data"
    }
   ],
   "source": [
    "import pandas as pd\n",
    "import numpy as np\n",
    "from glob import glob\n",
    "import itertools\n",
    "from pathlib import Path\n",
    "from prody import parsePDB\n",
    "import sys\n",
    "sys.path.insert(0, '../..')\n",
    "from helper_modules.get_cocristalized_ligands \\\n",
    "     import get_pocket_ligand, PocketResidues"
   ]
  },
  {
   "cell_type": "code",
   "execution_count": 2,
   "id": "62c68b6b",
   "metadata": {},
   "outputs": [],
   "source": [
    "prot_name  = 'fxa'"
   ]
  },
  {
   "cell_type": "code",
   "execution_count": 3,
   "id": "d0247fe5",
   "metadata": {},
   "outputs": [
    {
     "data": {
      "text/html": [
       "<div>\n",
       "<style scoped>\n",
       "    .dataframe tbody tr th:only-of-type {\n",
       "        vertical-align: middle;\n",
       "    }\n",
       "\n",
       "    .dataframe tbody tr th {\n",
       "        vertical-align: top;\n",
       "    }\n",
       "\n",
       "    .dataframe thead th {\n",
       "        text-align: right;\n",
       "    }\n",
       "</style>\n",
       "<table border=\"1\" class=\"dataframe\">\n",
       "  <thead>\n",
       "    <tr style=\"text-align: right;\">\n",
       "      <th></th>\n",
       "      <th>Title</th>\n",
       "      <th>Date</th>\n",
       "      <th>Entities</th>\n",
       "      <th>ChainID</th>\n",
       "      <th>Resolution</th>\n",
       "      <th>Identity</th>\n",
       "      <th>Coverage</th>\n",
       "      <th>NumGaps</th>\n",
       "      <th>GapLen</th>\n",
       "      <th>GapPos</th>\n",
       "      <th>NumLigs</th>\n",
       "      <th>NameLigs</th>\n",
       "    </tr>\n",
       "    <tr>\n",
       "      <th>PDB_ID</th>\n",
       "      <th></th>\n",
       "      <th></th>\n",
       "      <th></th>\n",
       "      <th></th>\n",
       "      <th></th>\n",
       "      <th></th>\n",
       "      <th></th>\n",
       "      <th></th>\n",
       "      <th></th>\n",
       "      <th></th>\n",
       "      <th></th>\n",
       "      <th></th>\n",
       "    </tr>\n",
       "  </thead>\n",
       "  <tbody>\n",
       "    <tr>\n",
       "      <th>5k0h</th>\n",
       "      <td>human factor xa in complex with synthetic inhi...</td>\n",
       "      <td>2016-07-06</td>\n",
       "      <td>2</td>\n",
       "      <td>A</td>\n",
       "      <td>2.20</td>\n",
       "      <td>-</td>\n",
       "      <td>47.950820</td>\n",
       "      <td>2</td>\n",
       "      <td>[235, 21]</td>\n",
       "      <td>[[1, 235], [469, 489]]</td>\n",
       "      <td>2</td>\n",
       "      <td>[6PK, CA]</td>\n",
       "    </tr>\n",
       "    <tr>\n",
       "      <th>5voe</th>\n",
       "      <td>desgla-xas195a bound to aptamer 11f7t</td>\n",
       "      <td>2018-06-20</td>\n",
       "      <td>3</td>\n",
       "      <td>H</td>\n",
       "      <td>2.00</td>\n",
       "      <td>-</td>\n",
       "      <td>47.336066</td>\n",
       "      <td>3</td>\n",
       "      <td>[235, 3, 22]</td>\n",
       "      <td>[[1, 235], [370, 372], [467, 488]]</td>\n",
       "      <td>5</td>\n",
       "      <td>[CA, CFL, MG, NA, UFT]</td>\n",
       "    </tr>\n",
       "    <tr>\n",
       "      <th>5vof</th>\n",
       "      <td>desgla-xas195a bound to aptamer 11f7t and riva...</td>\n",
       "      <td>2018-06-13</td>\n",
       "      <td>3</td>\n",
       "      <td>H</td>\n",
       "      <td>2.25</td>\n",
       "      <td>-</td>\n",
       "      <td>47.336066</td>\n",
       "      <td>3</td>\n",
       "      <td>[235, 3, 22]</td>\n",
       "      <td>[[1, 235], [370, 372], [467, 488]]</td>\n",
       "      <td>6</td>\n",
       "      <td>[CA, CFL, MG, NA, RIV, UFT]</td>\n",
       "    </tr>\n",
       "  </tbody>\n",
       "</table>\n",
       "</div>"
      ],
      "text/plain": [
       "                                                    Title       Date  \\\n",
       "PDB_ID                                                                 \n",
       "5k0h    human factor xa in complex with synthetic inhi... 2016-07-06   \n",
       "5voe                desgla-xas195a bound to aptamer 11f7t 2018-06-20   \n",
       "5vof    desgla-xas195a bound to aptamer 11f7t and riva... 2018-06-13   \n",
       "\n",
       "        Entities ChainID  Resolution Identity   Coverage  NumGaps  \\\n",
       "PDB_ID                                                              \n",
       "5k0h           2       A        2.20        -  47.950820        2   \n",
       "5voe           3       H        2.00        -  47.336066        3   \n",
       "5vof           3       H        2.25        -  47.336066        3   \n",
       "\n",
       "              GapLen                              GapPos  NumLigs  \\\n",
       "PDB_ID                                                              \n",
       "5k0h       [235, 21]              [[1, 235], [469, 489]]        2   \n",
       "5voe    [235, 3, 22]  [[1, 235], [370, 372], [467, 488]]        5   \n",
       "5vof    [235, 3, 22]  [[1, 235], [370, 372], [467, 488]]        6   \n",
       "\n",
       "                           NameLigs  \n",
       "PDB_ID                               \n",
       "5k0h                      [6PK, CA]  \n",
       "5voe         [CA, CFL, MG, NA, UFT]  \n",
       "5vof    [CA, CFL, MG, NA, RIV, UFT]  "
      ]
     },
     "execution_count": 3,
     "metadata": {},
     "output_type": "execute_result"
    }
   ],
   "source": [
    "path_df_file = glob(f\"./TABLA_MTDATA_{prot_name.upper()}_*_crys.json\")[0]\n",
    "df_prot      = pd.read_json(path_df_file)\n",
    "df_prot.set_index('PDB_ID', inplace=True)\n",
    "df_prot.tail(3)"
   ]
  },
  {
   "cell_type": "markdown",
   "id": "6ffc314b",
   "metadata": {},
   "source": [
    "- How many PDB entries have a cocristalized molecule?"
   ]
  },
  {
   "cell_type": "code",
   "execution_count": 4,
   "id": "da8c4fe8",
   "metadata": {},
   "outputs": [
    {
     "name": "stdout",
     "output_type": "stream",
     "text": [
      "134 of 136 structures have at least one HETATM molecule.\n"
     ]
    }
   ],
   "source": [
    "df_prot_ligs = df_prot[df_prot.NumLigs > 0]\n",
    "print(F'{len(df_prot_ligs)} of {len(df_prot)} structures have at least one HETATM molecule.')"
   ]
  },
  {
   "cell_type": "markdown",
   "id": "5799cf23",
   "metadata": {},
   "source": [
    "- How many different small molecules (HETAMT) are there?"
   ]
  },
  {
   "cell_type": "code",
   "execution_count": 5,
   "id": "41402355",
   "metadata": {},
   "outputs": [
    {
     "name": "stdout",
     "output_type": "stream",
     "text": [
      "There are a total of 314 HETATM molecules (duplicates included).\n",
      "There are 147 unique HETATM molecules (without duplicates).\n"
     ]
    }
   ],
   "source": [
    "# How many cocrystalized molecules are there?\n",
    "# A set of all HETATM molecules\n",
    "lig_full_list = list( itertools.chain.from_iterable( df_prot.NameLigs ) )\n",
    "print(f'There are a total of {len(lig_full_list)}', \n",
    "       'HETATM molecules (duplicates included).')\n",
    "\n",
    "lig_all_list = list(set(lig_full_list))\n",
    "print(f'There are {len(lig_all_list)} unique', \n",
    "       'HETATM molecules (without duplicates).')"
   ]
  },
  {
   "cell_type": "markdown",
   "id": "cfd94c19",
   "metadata": {},
   "source": [
    "### Visualize the pocket residues"
   ]
  },
  {
   "cell_type": "code",
   "execution_count": 6,
   "id": "9417ca09",
   "metadata": {},
   "outputs": [],
   "source": [
    "# Use a reference structure to visualize the pocket residues\n",
    "ref_struc_id    = '1ezq'\n",
    "ref_ligand_name = 'RPR'"
   ]
  },
  {
   "cell_type": "code",
   "execution_count": 7,
   "id": "b18cf73b",
   "metadata": {},
   "outputs": [
    {
     "name": "stdout",
     "output_type": "stream",
     "text": [
      "Indices of pocket redsidues: 17 57 96 97 98 99 100 143 145 147 148 149 172 174 175 180 183 189 190 191 192 193 194 195 196 213 214 215 216 217 219 220 221 222 225 226 227 228\n"
     ]
    }
   ],
   "source": [
    "pkt_info = PocketResidues(ref_struc_id, 'RPR')\n",
    "pocket_residues_str = pkt_info.get_pocket_residues_as_list()\n",
    "print('Indices of pocket redsidues:', pocket_residues_str)"
   ]
  },
  {
   "cell_type": "code",
   "execution_count": 8,
   "id": "9de009cd",
   "metadata": {},
   "outputs": [
    {
     "data": {
      "application/vnd.jupyter.widget-view+json": {
       "model_id": "db6fa48587c241f7b284944cd696c7b3",
       "version_major": 2,
       "version_minor": 0
      },
      "text/plain": [
       "NGLWidget()"
      ]
     },
     "metadata": {},
     "output_type": "display_data"
    }
   ],
   "source": [
    "view = pkt_info.visualize_pocket()\n",
    "view"
   ]
  },
  {
   "cell_type": "code",
   "execution_count": 9,
   "id": "3ad1f7b6",
   "metadata": {},
   "outputs": [
    {
     "data": {
      "application/vnd.jupyter.widget-view+json": {
       "model_id": "5b836beea7854e4f925fd0de721a586a",
       "version_major": 2,
       "version_minor": 0
      },
      "text/plain": [
       "Image(value=b'', width='99%')"
      ]
     },
     "metadata": {},
     "output_type": "display_data"
    }
   ],
   "source": [
    "view.render_image()"
   ]
  },
  {
   "cell_type": "code",
   "execution_count": 10,
   "id": "eb1ffcb2",
   "metadata": {},
   "outputs": [
    {
     "data": {
      "image/png": "\n",
      "text/plain": [
       "<IPython.core.display.Image object>"
      ]
     },
     "execution_count": 10,
     "metadata": {},
     "output_type": "execute_result"
    }
   ],
   "source": [
    "view._display_image()"
   ]
  },
  {
   "cell_type": "markdown",
   "id": "f3299c69",
   "metadata": {},
   "source": [
    "## Carry out the Analysis\n",
    "- Define the input files and the output directory."
   ]
  },
  {
   "cell_type": "code",
   "execution_count": 11,
   "id": "5f1ad0e5",
   "metadata": {},
   "outputs": [],
   "source": [
    "# Define the output directories\n",
    "OUT_MAIN          = './pdb_structures'\n",
    "IN_DIR_ENSEMBLE   = f'{OUT_MAIN}/pdb_prepared'\n",
    "IN_DIR_RAW_LIGS   = f'{OUT_MAIN}/raw_ligands'\n",
    "OUT_DIR_PREP_LIGS = f'{OUT_MAIN}/pocket_ligands'\n",
    "\n",
    "# Create the output directory if it doesnt exists\n",
    "Path(OUT_DIR_PREP_LIGS).mkdir(parents = True, exist_ok = True)"
   ]
  },
  {
   "cell_type": "markdown",
   "id": "3ae21e55",
   "metadata": {},
   "source": [
    "- Update the main Dataframe with ligands information\n",
    " - Inhib: Name of the molecule found inside the pocket.\n",
    " - Inhib_mass: Molecular weight of the found molecule.\n",
    "Save the updated dataframe:"
   ]
  },
  {
   "cell_type": "code",
   "execution_count": 12,
   "id": "bd4d31de",
   "metadata": {},
   "outputs": [
    {
     "name": "stdout",
     "output_type": "stream",
     "text": [
      "The model 1c5m HAS NO LIGAND inside the pocket.\n",
      "Protein 1ezq:\n",
      "   Molecules found: ['CA' 'HOH' 'RPR'] -> ligand RPR saved.\n",
      "Protein 1f0r:\n",
      "   Molecules found: ['815' 'CA' 'HOH'] -> ligand 815 saved.\n",
      "Protein 1f0s:\n",
      "   Molecules found: ['CA' 'HOH' 'PR2'] -> ligand PR2 saved.\n",
      "Protein 1fax:\n",
      "   Molecules found: ['CA' 'DX9'] -> ligand DX9 saved.\n",
      "Protein 1fjs:\n",
      "   Molecules found: ['CA' 'CL' 'GOL' 'HOH' 'Z34'] -> ligand Z34 saved.\n",
      "Protein 1g2l:\n",
      "   Molecules found: ['CA' 'HOH' 'T87'] -> ligand T87 saved.\n",
      "Protein 1g2m:\n",
      "   Molecules found: ['CA' 'R11'] -> ligand R11 saved.\n",
      "The model 1hcg HAS NO LIGAND inside the pocket.\n",
      "Protein 1ioe:\n",
      "   Molecules found: ['CA' 'XMA'] -> ligand XMA saved.\n",
      "Protein 1iqe:\n",
      "   Molecules found: ['CA' 'XMB'] -> ligand XMB saved.\n",
      "Protein 1iqf:\n",
      "   Molecules found: ['CA' 'XMD'] -> ligand XMD saved.\n",
      "Protein 1iqg:\n",
      "   Molecules found: ['CA' 'HOH' 'XME'] -> ligand XME saved.\n",
      "Protein 1iqh:\n",
      "   Molecules found: ['CA' 'XMF'] -> ligand XMF saved.\n",
      "Protein 1iqi:\n",
      "   Molecules found: ['CA' 'XMG'] -> ligand XMG saved.\n",
      "Protein 1iqj:\n",
      "   Molecules found: ['CA' 'XMH'] -> ligand XMH saved.\n",
      "Protein 1iqk:\n",
      "   Molecules found: ['CA' 'XMI'] -> ligand XMI saved.\n",
      "Protein 1iql:\n",
      "   Molecules found: ['CA' 'XMJ'] -> ligand XMJ saved.\n",
      "Protein 1iqm:\n",
      "   Molecules found: ['CA' 'HOH' 'XMK'] -> ligand XMK saved.\n",
      "Protein 1iqn:\n",
      "   Molecules found: ['CA' 'HOH' 'XMC'] -> ligand XMC saved.\n",
      "Protein 1ksn:\n",
      "   Molecules found: ['CA' 'FXV' 'HOH'] -> ligand FXV saved.\n",
      "Protein 1lpg:\n",
      "   Molecules found: ['CA' 'HOH' 'IMA'] -> ligand IMA saved.\n",
      "Protein 1lpk:\n",
      "   Molecules found: ['CA' 'CBB' 'HOH'] -> ligand CBB saved.\n",
      "Protein 1lpz:\n",
      "   Molecules found: ['CA' 'CMB' 'HOH'] -> ligand CMB saved.\n",
      "Protein 1lqd:\n",
      "   Molecules found: ['CA' 'CMI' 'HOH'] -> ligand CMI saved.\n",
      "Protein 1mq5:\n",
      "   Molecules found: ['CA' 'GOL' 'HOH' 'XLC'] -> ligand XLC saved.\n",
      "Protein 1mq6:\n",
      "   Molecules found: ['CA' 'GOL' 'HOH' 'XLD'] -> ligand XLD saved.\n",
      "Protein 1nfu:\n",
      "   Molecules found: ['CA' 'HOH' 'RRP'] -> ligand RRP saved.\n",
      "Protein 1nfw:\n",
      "   Molecules found: ['CA' 'HOH' 'RRR'] -> ligand RRR saved.\n",
      "Protein 1nfx:\n",
      "   Molecules found: ['CA' 'HOH' 'RDR'] -> ligand RDR saved.\n",
      "...\n"
     ]
    }
   ],
   "source": [
    "# We will add two new columns to the dataframe\n",
    "df_prot[\"Inhib\"] = \"\"\n",
    "df_prot[\"Inhib_mass\"] = np.nan\n",
    "\n",
    "# Get all pocket ligands\n",
    "for pdb_id in df_prot.index:\n",
    "    inhibidor = get_pocket_ligand(\n",
    "                        pdb_id = pdb_id, \n",
    "                        pocket_residues = pocket_residues_str,\n",
    "                        raw_lig_dir     = IN_DIR_RAW_LIGS,\n",
    "                        prot_chain_dir  = IN_DIR_ENSEMBLE,\n",
    "                        pk_ligs_dir = OUT_DIR_PREP_LIGS,\n",
    "                        write_files = True, \n",
    "                        cutoff      = 8,\n",
    "                        min_weight  = 97\n",
    "                 )\n",
    "\n",
    "    df_prot.at[str(pdb_id), 'Inhib'] = inhibidor[0]\n",
    "    df_prot.at[pdb_id, 'Inhib_mass'] = inhibidor[1]\n",
    "print('...')"
   ]
  },
  {
   "cell_type": "markdown",
   "id": "14980c35",
   "metadata": {},
   "source": [
    "### Updated Dataframe"
   ]
  },
  {
   "cell_type": "code",
   "execution_count": 13,
   "id": "8d90a46f",
   "metadata": {},
   "outputs": [
    {
     "data": {
      "text/html": [
       "<div>\n",
       "<style scoped>\n",
       "    .dataframe tbody tr th:only-of-type {\n",
       "        vertical-align: middle;\n",
       "    }\n",
       "\n",
       "    .dataframe tbody tr th {\n",
       "        vertical-align: top;\n",
       "    }\n",
       "\n",
       "    .dataframe thead th {\n",
       "        text-align: right;\n",
       "    }\n",
       "</style>\n",
       "<table border=\"1\" class=\"dataframe\">\n",
       "  <thead>\n",
       "    <tr style=\"text-align: right;\">\n",
       "      <th></th>\n",
       "      <th>Title</th>\n",
       "      <th>Date</th>\n",
       "      <th>Entities</th>\n",
       "      <th>ChainID</th>\n",
       "      <th>Resolution</th>\n",
       "      <th>Identity</th>\n",
       "      <th>Coverage</th>\n",
       "      <th>NumGaps</th>\n",
       "      <th>GapLen</th>\n",
       "      <th>GapPos</th>\n",
       "      <th>NumLigs</th>\n",
       "      <th>NameLigs</th>\n",
       "      <th>Inhib</th>\n",
       "      <th>Inhib_mass</th>\n",
       "    </tr>\n",
       "  </thead>\n",
       "  <tbody>\n",
       "    <tr>\n",
       "      <th>1c5m</th>\n",
       "      <td>structural basis for selectivity of a small mo...</td>\n",
       "      <td>2000-12-22</td>\n",
       "      <td>2</td>\n",
       "      <td>D</td>\n",
       "      <td>1.95</td>\n",
       "      <td>-</td>\n",
       "      <td>49.385246</td>\n",
       "      <td>2</td>\n",
       "      <td>[235, 14]</td>\n",
       "      <td>[[1, 235], [475, 488]]</td>\n",
       "      <td>0</td>\n",
       "      <td>[]</td>\n",
       "      <td>None</td>\n",
       "      <td>NaN</td>\n",
       "    </tr>\n",
       "    <tr>\n",
       "      <th>1ezq</th>\n",
       "      <td>crystal structure of human coagulation factor ...</td>\n",
       "      <td>2000-09-20</td>\n",
       "      <td>2</td>\n",
       "      <td>A</td>\n",
       "      <td>2.20</td>\n",
       "      <td>-</td>\n",
       "      <td>47.950820</td>\n",
       "      <td>2</td>\n",
       "      <td>[235, 21]</td>\n",
       "      <td>[[1, 235], [469, 489]]</td>\n",
       "      <td>2</td>\n",
       "      <td>[CA, RPR]</td>\n",
       "      <td>RPR</td>\n",
       "      <td>428.0</td>\n",
       "    </tr>\n",
       "    <tr>\n",
       "      <th>1f0r</th>\n",
       "      <td>crystal structure of human coagulation factor ...</td>\n",
       "      <td>2000-09-20</td>\n",
       "      <td>2</td>\n",
       "      <td>A</td>\n",
       "      <td>2.10</td>\n",
       "      <td>-</td>\n",
       "      <td>47.950820</td>\n",
       "      <td>2</td>\n",
       "      <td>[235, 21]</td>\n",
       "      <td>[[1, 235], [469, 489]]</td>\n",
       "      <td>2</td>\n",
       "      <td>[815, CA]</td>\n",
       "      <td>815</td>\n",
       "      <td>434.0</td>\n",
       "    </tr>\n",
       "    <tr>\n",
       "      <th>1f0s</th>\n",
       "      <td>crystal structure of human coagulation factor ...</td>\n",
       "      <td>2000-09-20</td>\n",
       "      <td>2</td>\n",
       "      <td>A</td>\n",
       "      <td>2.10</td>\n",
       "      <td>-</td>\n",
       "      <td>47.950820</td>\n",
       "      <td>2</td>\n",
       "      <td>[235, 21]</td>\n",
       "      <td>[[1, 235], [469, 489]]</td>\n",
       "      <td>2</td>\n",
       "      <td>[CA, PR2]</td>\n",
       "      <td>PR2</td>\n",
       "      <td>410.0</td>\n",
       "    </tr>\n",
       "    <tr>\n",
       "      <th>1fax</th>\n",
       "      <td>coagulation factor xa inhibitor complex</td>\n",
       "      <td>1997-10-29</td>\n",
       "      <td>2</td>\n",
       "      <td>A</td>\n",
       "      <td>3.00</td>\n",
       "      <td>-</td>\n",
       "      <td>48.155738</td>\n",
       "      <td>2</td>\n",
       "      <td>[235, 20]</td>\n",
       "      <td>[[1, 235], [470, 489]]</td>\n",
       "      <td>2</td>\n",
       "      <td>[CA, DX9]</td>\n",
       "      <td>DX9</td>\n",
       "      <td>422.0</td>\n",
       "    </tr>\n",
       "  </tbody>\n",
       "</table>\n",
       "</div>"
      ],
      "text/plain": [
       "                                                  Title       Date  Entities  \\\n",
       "1c5m  structural basis for selectivity of a small mo... 2000-12-22         2   \n",
       "1ezq  crystal structure of human coagulation factor ... 2000-09-20         2   \n",
       "1f0r  crystal structure of human coagulation factor ... 2000-09-20         2   \n",
       "1f0s  crystal structure of human coagulation factor ... 2000-09-20         2   \n",
       "1fax            coagulation factor xa inhibitor complex 1997-10-29         2   \n",
       "\n",
       "     ChainID  Resolution Identity   Coverage  NumGaps     GapLen  \\\n",
       "1c5m       D        1.95        -  49.385246        2  [235, 14]   \n",
       "1ezq       A        2.20        -  47.950820        2  [235, 21]   \n",
       "1f0r       A        2.10        -  47.950820        2  [235, 21]   \n",
       "1f0s       A        2.10        -  47.950820        2  [235, 21]   \n",
       "1fax       A        3.00        -  48.155738        2  [235, 20]   \n",
       "\n",
       "                      GapPos  NumLigs   NameLigs Inhib  Inhib_mass  \n",
       "1c5m  [[1, 235], [475, 488]]        0         []  None         NaN  \n",
       "1ezq  [[1, 235], [469, 489]]        2  [CA, RPR]   RPR       428.0  \n",
       "1f0r  [[1, 235], [469, 489]]        2  [815, CA]   815       434.0  \n",
       "1f0s  [[1, 235], [469, 489]]        2  [CA, PR2]   PR2       410.0  \n",
       "1fax  [[1, 235], [470, 489]]        2  [CA, DX9]   DX9       422.0  "
      ]
     },
     "execution_count": 13,
     "metadata": {},
     "output_type": "execute_result"
    }
   ],
   "source": [
    "file = f'TABLA_MTDATA_{prot_name.upper()}_136_crys_LIGS_INFO.json'\n",
    "if Path(file).exists():\n",
    "    df_prot = pd.read_json(file)\n",
    "else:\n",
    "    df_prot.to_json(file)\n",
    "df_prot.head()"
   ]
  },
  {
   "cell_type": "markdown",
   "id": "9d82f02a",
   "metadata": {},
   "source": [
    "Finished!"
   ]
  }
 ],
 "metadata": {
  "kernelspec": {
   "display_name": "Python 3",
   "language": "python",
   "name": "python3"
  },
  "language_info": {
   "codemirror_mode": {
    "name": "ipython",
    "version": 3
   },
   "file_extension": ".py",
   "mimetype": "text/x-python",
   "name": "python",
   "nbconvert_exporter": "python",
   "pygments_lexer": "ipython3",
   "version": "3.7.9"
  },
  "toc": {
   "base_numbering": 1,
   "nav_menu": {},
   "number_sections": true,
   "sideBar": true,
   "skip_h1_title": false,
   "title_cell": "Table of Contents",
   "title_sidebar": "Contents",
   "toc_cell": false,
   "toc_position": {},
   "toc_section_display": true,
   "toc_window_display": true
  }
 },
 "nbformat": 4,
 "nbformat_minor": 5
}
