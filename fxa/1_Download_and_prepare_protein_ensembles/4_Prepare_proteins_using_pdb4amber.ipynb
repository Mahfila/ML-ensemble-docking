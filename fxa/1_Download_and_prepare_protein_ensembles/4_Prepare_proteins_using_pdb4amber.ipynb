{
 "cells": [
  {
   "cell_type": "markdown",
   "metadata": {},
   "source": [
    "# Prepare protein conformations using `pdb4amber`"
   ]
  },
  {
   "cell_type": "code",
   "execution_count": 1,
   "metadata": {},
   "outputs": [],
   "source": [
    "from pathlib import Path\n",
    "from glob import glob\n",
    "import pdb4amber\n",
    "import os"
   ]
  },
  {
   "cell_type": "markdown",
   "metadata": {},
   "source": [
    "- List the input files.\n",
    "- Define the output directory."
   ]
  },
  {
   "cell_type": "code",
   "execution_count": 2,
   "metadata": {},
   "outputs": [],
   "source": [
    "OUT_MAIN   = './pdb_structures'\n",
    "\n",
    "# Get the list of input files from modeled pdbs\n",
    "INPUT_DIR = f'{OUT_MAIN}/pdb_modeled'\n",
    "input_files = sorted(glob(f'{INPUT_DIR}/*pdb'))\n",
    "\n",
    "# Define the output directory\n",
    "OUTPUT_DIR = f'{OUT_MAIN}/pdb_prepared'\n",
    "Path(OUTPUT_DIR).mkdir(parents = True, exist_ok = True)"
   ]
  },
  {
   "cell_type": "markdown",
   "metadata": {},
   "source": [
    "### Perform the preparation"
   ]
  },
  {
   "cell_type": "code",
   "execution_count": 3,
   "metadata": {},
   "outputs": [
    {
     "name": "stdout",
     "output_type": "stream",
     "text": [
      "Preparing the 1c5m structure.\n"
     ]
    }
   ],
   "source": [
    "for pdb_file in input_files:\n",
    "    pdb_id = Path(pdb_file).stem.rsplit('_')[0]\n",
    "    print(F\"Preparing the {pdb_id} structure.\")\n",
    "\n",
    "    ensamble_file = f'{OUTPUT_DIR}/{pdb_id}_ENS.pdb'\n",
    "    pdb4amber.run(arg_pdbin = pdb_file,\n",
    "                  arg_add_missing_atoms = True, \n",
    "                  arg_pdbout = ensamble_file)\n",
    "    # Remove the unnecessary files\n",
    "    os.remove(f'{OUTPUT_DIR}/{pdb_id}_ENS_nonprot.pdb')\n",
    "    os.remove(f'{OUTPUT_DIR}/{pdb_id}_ENS_sslink')\n",
    "    os.remove(f'{OUTPUT_DIR}/{pdb_id}_ENS_renum.txt')"
   ]
  },
  {
   "cell_type": "markdown",
   "metadata": {},
   "source": [
    "Finished!"
   ]
  }
 ],
 "metadata": {
  "kernelspec": {
   "display_name": "Python 3",
   "language": "python",
   "name": "python3"
  },
  "language_info": {
   "codemirror_mode": {
    "name": "ipython",
    "version": 3
   },
   "file_extension": ".py",
   "mimetype": "text/x-python",
   "name": "python",
   "nbconvert_exporter": "python",
   "pygments_lexer": "ipython3",
   "version": "3.7.9"
  },
  "toc": {
   "base_numbering": 1,
   "nav_menu": {},
   "number_sections": true,
   "sideBar": true,
   "skip_h1_title": false,
   "title_cell": "Table of Contents",
   "title_sidebar": "Contents",
   "toc_cell": false,
   "toc_position": {},
   "toc_section_display": true,
   "toc_window_display": true
  }
 },
 "nbformat": 4,
 "nbformat_minor": 4
}
