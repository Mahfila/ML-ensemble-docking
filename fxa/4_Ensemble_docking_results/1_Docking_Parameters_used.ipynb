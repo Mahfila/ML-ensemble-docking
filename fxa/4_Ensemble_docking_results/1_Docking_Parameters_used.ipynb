{
 "cells": [
  {
   "cell_type": "markdown",
   "id": "24cabca9-3db4-484c-8147-de7e88c2564a",
   "metadata": {},
   "source": [
    "# Docking Parameters used to perform the Ensemble Docking Procedure\n",
    "\n",
    "1. FXa conformations were aligned using the $\\alpha$ Carbons of pocket residues. \n"
   ]
  },
  {
   "cell_type": "code",
   "execution_count": 1,
   "id": "42ed33f0",
   "metadata": {},
   "outputs": [
    {
     "data": {
      "application/vnd.jupyter.widget-view+json": {
       "model_id": "8709457342fd409d86885ca68ded53d1",
       "version_major": 2,
       "version_minor": 0
      },
      "text/plain": []
     },
     "metadata": {},
     "output_type": "display_data"
    }
   ],
   "source": [
    "import sys\n",
    "sys.path.insert(0, '../..')\n",
    "from helper_modules.get_cocristalized_ligands \\\n",
    "     import get_pocket_ligand, PocketResidues"
   ]
  },
  {
   "cell_type": "code",
   "execution_count": 2,
   "id": "d9aebe31-899a-45c8-9977-217bf62b7ace",
   "metadata": {},
   "outputs": [
    {
     "name": "stdout",
     "output_type": "stream",
     "text": [
      "Pocket's residues positions used for the structural alignment:\n"
     ]
    },
    {
     "data": {
      "text/plain": [
       "'17 57 96 97 98 99 100 143 145 147 148 149 172 174 175 180 183 189 190 191 192 193 194 195 196 213 214 215 216 217 219 220 221 222 225 226 227 228'"
      ]
     },
     "execution_count": 2,
     "metadata": {},
     "output_type": "execute_result"
    }
   ],
   "source": [
    "prot_name = 'fxa'\n",
    "ref_struc_id    = '1ezq'\n",
    "ref_ligand_name = 'RPR'\n",
    "\n",
    "pkt_info = PocketResidues(ref_struc_id, ref_ligand_name)\n",
    "pocket_subseq = pkt_info.get_pocket_residues_as_list(cutoff = 5)\n",
    "\n",
    "print(\"Pocket's residues positions used for the structural alignment:\")\n",
    "pocket_subseq"
   ]
  },
  {
   "cell_type": "markdown",
   "id": "54ba75c2-7035-4d2d-a489-9057986c568e",
   "metadata": {},
   "source": [
    "2. All conformations were aligned to the same reference structure: [1fin](https://www.rcsb.org/structure/1FIN)."
   ]
  },
  {
   "cell_type": "code",
   "execution_count": 3,
   "id": "d9656dd7-1cb9-48de-aceb-92a85aef4d89",
   "metadata": {},
   "outputs": [
    {
     "data": {
      "application/vnd.jupyter.widget-view+json": {
       "model_id": "f6ce8a8dcc384550bc236f53511687bc",
       "version_major": 2,
       "version_minor": 0
      },
      "text/plain": [
       "NGLWidget(max_frame=135)"
      ]
     },
     "metadata": {},
     "output_type": "display_data"
    }
   ],
   "source": [
    "import pytraj as pyt\n",
    "import nglview as nv\n",
    "ens_traj = pyt.load('../3_Protein_Ensembles_Analysis/PDB_136_fxa_POCKET_ALL.dcd',\n",
    "                    top = '../3_Protein_Ensembles_Analysis/1ezq_ENS.pdb')\n",
    "nv.show_pytraj(ens_traj)"
   ]
  },
  {
   "cell_type": "markdown",
   "id": "9129acca-9d46-4544-883b-b16791738950",
   "metadata": {},
   "source": [
    "3. Docking was performed using [SMINA](https://github.com/mwojcikowski/smina), with the following parameters:\n",
    "    \n",
    "```shell\n",
    "# Search space\n",
    "  --center_x       7.0\n",
    "  --center_y       63.0\n",
    "  --center_z       72.0\n",
    "  --size_x         24\n",
    "  --size_y         22\n",
    "  --size_z         22\n",
    "\n",
    "# Scoring and minimization options:\n",
    "  --scoring        \"vinardo\"\n",
    "  --factor         100\n",
    "  \n",
    "# Misc\n",
    "  --num_modes      3\n",
    "  --exhaustiveness 16\n",
    "```"
   ]
  },
  {
   "cell_type": "markdown",
   "id": "9254ed38-c418-4f1f-9bb3-72ffe74524c5",
   "metadata": {},
   "source": [
    "Finished!"
   ]
  }
 ],
 "metadata": {
  "kernelspec": {
   "display_name": "Python 3",
   "language": "python",
   "name": "python3"
  },
  "language_info": {
   "codemirror_mode": {
    "name": "ipython",
    "version": 3
   },
   "file_extension": ".py",
   "mimetype": "text/x-python",
   "name": "python",
   "nbconvert_exporter": "python",
   "pygments_lexer": "ipython3",
   "version": "3.7.9"
  },
  "toc": {
   "base_numbering": 1,
   "nav_menu": {},
   "number_sections": true,
   "sideBar": true,
   "skip_h1_title": false,
   "title_cell": "Table of Contents",
   "title_sidebar": "Contents",
   "toc_cell": false,
   "toc_position": {},
   "toc_section_display": true,
   "toc_window_display": true
  }
 },
 "nbformat": 4,
 "nbformat_minor": 5
}
