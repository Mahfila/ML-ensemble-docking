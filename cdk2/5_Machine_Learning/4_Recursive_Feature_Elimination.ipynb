{
 "cells": [
  {
   "cell_type": "markdown",
   "id": "82f175a6-3d0e-42b6-a4e3-4578d6a99138",
   "metadata": {},
   "source": [
    "# Recursive Feature Elimination using XGB"
   ]
  },
  {
   "cell_type": "code",
   "execution_count": 1,
   "id": "a8f60b6c-4f01-4675-aeaf-e93766d4672d",
   "metadata": {},
   "outputs": [],
   "source": [
    "import pandas as pd\n",
    "import numpy as np\n",
    "import sys\n",
    "sys.path.append('../..')"
   ]
  },
  {
   "cell_type": "code",
   "execution_count": 2,
   "id": "6f94dad3-5c2e-4eae-a204-44149f1d41b6",
   "metadata": {},
   "outputs": [
    {
     "name": "stderr",
     "output_type": "stream",
     "text": [
      "/Users/joelricci/miniconda/envs/mds/lib/python3.7/site-packages/outdated/utils.py:18: OutdatedPackageWarning: The package outdated is out of date. Your version is 0.2.0, the latest is 0.2.1.\n",
      "Set the environment variable OUTDATED_IGNORE=1 to disable these warnings.\n",
      "  **kwargs\n",
      "/Users/joelricci/miniconda/envs/mds/lib/python3.7/site-packages/outdated/utils.py:18: OutdatedPackageWarning: The package pingouin is out of date. Your version is 0.3.10, the latest is 0.3.11.\n",
      "Set the environment variable OUTDATED_IGNORE=1 to disable these warnings.\n",
      "  **kwargs\n"
     ]
    }
   ],
   "source": [
    "%run ./1_Helper_functions.ipynb"
   ]
  },
  {
   "cell_type": "code",
   "execution_count": 3,
   "id": "93a7a2b9-8711-40a9-91d9-f612c25000c6",
   "metadata": {},
   "outputs": [],
   "source": [
    "protein_name = 'cdk2'\n",
    "file_name = '../4_Ensemble_docking_results/' + \\\n",
    "            'df_DkSc_results_COCRYS_CSAR_DEKOIS_DUD.pkl'\n",
    "df_dk_res = pd.read_pickle(file_name)\n",
    "\n",
    "# Extract the features columns: Docking scores\n",
    "X = df_dk_res.drop('activity', axis = 1).values\n",
    "# Extract the response variable: Activity\n",
    "y = df_dk_res['activity'].values"
   ]
  },
  {
   "cell_type": "markdown",
   "id": "e285310c-0ffe-4fc1-97bd-8b915b06c68e",
   "metadata": {},
   "source": [
    "### Set a GBT as a base estimator"
   ]
  },
  {
   "cell_type": "code",
   "execution_count": 4,
   "id": "a638fc72-667e-4c22-a3e2-fe19b8ad4940",
   "metadata": {},
   "outputs": [],
   "source": [
    "from xgboost import XGBClassifier\n",
    "\n",
    "hyparams = {'subsample': 0.5, \n",
    "            'n_estimators': 200, \n",
    "            'max_depth': 20, \n",
    "            'learning_rate': 0.05,\n",
    "            'alpha': 0.01,\n",
    "            'gamma': 0.01, \n",
    "            'colsample_bytree': 0.5}\n",
    "xgb = XGBClassifier(**hyparams)"
   ]
  },
  {
   "cell_type": "markdown",
   "id": "db1b7b58-8813-4586-91cc-98d341a60c15",
   "metadata": {},
   "source": [
    "### Recursive Feature Elimination to rank protein conformations \n",
    "\n",
    "- This result was used to rank protein conformations."
   ]
  },
  {
   "cell_type": "code",
   "execution_count": 5,
   "id": "6c5920d2-2068-4a02-8647-bfb3c5270566",
   "metadata": {},
   "outputs": [],
   "source": [
    "from sklearn.feature_selection import RFE"
   ]
  },
  {
   "cell_type": "code",
   "execution_count": 6,
   "id": "82e9b58e-9728-4f95-9965-57f24206a029",
   "metadata": {},
   "outputs": [
    {
     "name": "stdout",
     "output_type": "stream",
     "text": [
      "File loaded: ./cachedir/rfe_selectors/RFE_xgb_cdk2.joblib\n"
     ]
    }
   ],
   "source": [
    "# This wrapper function let us to run the RFE\n",
    "# and save the results to a file\n",
    "xgb_slector_ranks = RFE_wrapper(\n",
    "    filename  = f'./cachedir/rfe_selectors/RFE_xgb_{protein_name}.joblib',\n",
    "    estimator = xgb,\n",
    "    n_features_to_select = 1,\n",
    "    X         = X,\n",
    "    y         = y,\n",
    "    step      = 1,\n",
    "    verbose   = 2 \n",
    ")"
   ]
  },
  {
   "cell_type": "code",
   "execution_count": 7,
   "id": "652921fc-304b-40ab-b341-a9474d49cb6f",
   "metadata": {},
   "outputs": [
    {
     "data": {
      "text/plain": [
       "array([123, 227, 277, 105, 319, 119,  70, 146, 161, 133,  94, 396,  27,\n",
       "       293, 343,  61, 131, 297, 308, 128,  73, 356, 148, 393, 142, 151,\n",
       "       326, 216,  91, 248, 113, 189, 118, 314, 190, 269, 108, 310, 249,\n",
       "       364,  36, 338, 125,  55,  17, 402, 299, 226, 271,  85, 309, 177,\n",
       "       153,  93,  98,  75, 349, 273, 260, 112, 186, 211, 306,  97,  22,\n",
       "       362,  50, 187,  23, 259, 115, 195, 240, 221,  44, 228, 238,  40,\n",
       "       307, 191, 192, 231, 178, 160, 291,  32, 132,  89, 374, 209, 156,\n",
       "       224, 104, 173, 168, 109, 136, 111, 274, 253, 255, 246, 210,  81,\n",
       "       230, 201, 233, 179, 371, 316,  80, 245, 158, 311, 335, 262, 182,\n",
       "       281, 317, 251, 286, 169,   5,  49,  34, 196,   7, 302, 235, 165,\n",
       "       348, 263, 166, 154, 399, 137,  28, 124, 193,   2, 205, 330, 337,\n",
       "       351, 324, 354, 358, 219, 239,  45, 176, 303, 385,  11,  65, 318,\n",
       "       340, 252, 171, 398, 143,  88, 298, 295, 203, 222, 236,  18, 296,\n",
       "       368, 301, 223, 101, 167, 140, 242, 350, 339, 315,   9, 379,  53,\n",
       "       284,  30, 332, 117, 174, 266, 327, 305,  19, 392, 155,  84, 261,\n",
       "       290, 152, 366, 110, 380, 344, 312,  29,   8, 265,  67,  42, 185,\n",
       "       275, 323,  95, 360, 363, 180,  60, 200,  21,  39, 134,  16, 388,\n",
       "       378,  43, 333, 267, 278, 313,  62, 241, 184, 150, 369, 387,  58,\n",
       "       213, 220, 400, 331, 135, 256,  24, 285, 147, 247, 214, 328, 103,\n",
       "        79,  31, 359,  59, 197,  87, 357,  48, 322,  92, 243, 114,  20,\n",
       "        46,  83, 215,  74, 381, 384, 194, 372, 287, 341, 377, 254, 162,\n",
       "       361, 225, 321,  77, 229, 367, 342,  99, 181, 375, 346, 292,  33,\n",
       "       270, 282, 100,  25, 244, 257, 145,   3, 401,  38, 258, 325, 234,\n",
       "       347, 355, 202, 250,   1, 126, 320,  96, 122, 237, 139, 218,   4,\n",
       "        72, 383, 288, 208,  68, 283, 206,  14,  41, 149, 129,  13,  57,\n",
       "        26,  35, 164, 268,  78, 394, 390,  90,  37, 279, 345,  64,  71,\n",
       "        66, 127, 199, 373, 389, 106, 232,  86,  51, 175, 300, 120, 294,\n",
       "       157, 395, 276,  15, 102,  56, 212, 144, 336,  82, 304, 365, 207,\n",
       "       386, 116, 382, 352, 329,  52,  54, 170, 397,  10,  63, 376,   6,\n",
       "       272, 141, 130, 204, 370,  12, 163, 353, 138, 289,  69, 159, 183,\n",
       "        76, 198, 121, 391, 334, 172, 107,  47, 188, 217, 264, 280])"
      ]
     },
     "execution_count": 7,
     "metadata": {},
     "output_type": "execute_result"
    }
   ],
   "source": [
    "xgb_slector_ranks.ranking_"
   ]
  },
  {
   "cell_type": "markdown",
   "id": "d94489c2-4cad-4750-a4f6-110006e33a5f",
   "metadata": {},
   "source": [
    "### Instantiate the RFE with Cross Validation"
   ]
  },
  {
   "cell_type": "code",
   "execution_count": 8,
   "id": "8117901d-9486-49cd-a21f-63116b42420a",
   "metadata": {},
   "outputs": [],
   "source": [
    "from sklearn.feature_selection import RFECV"
   ]
  },
  {
   "cell_type": "code",
   "execution_count": 9,
   "id": "4cc84e71-a387-46d1-923e-ef9a0fb93d51",
   "metadata": {},
   "outputs": [
    {
     "name": "stdout",
     "output_type": "stream",
     "text": [
      "File loaded: ./cachedir/rfe_selectors/RFECV_xgb_cdk2.joblib\n"
     ]
    }
   ],
   "source": [
    "# This wrapper function let us to run the RFECV\n",
    "# and save the results to a file\n",
    "xgb_selector  = REFCV_wrapper(\n",
    "    filename  = f'./cachedir/rfe_selectors/RFECV_xgb_{protein_name}.joblib',\n",
    "    estimator = xgb,\n",
    "    min_features_to_select = 1,\n",
    "    X_train   = X,\n",
    "    y_train   = y,\n",
    "    scoring   = 'roc_auc',\n",
    "    cv        = 4, \n",
    "    step      = 2,\n",
    "    verbose   = 2,\n",
    "    n_jobs    = 4\n",
    ")"
   ]
  },
  {
   "cell_type": "code",
   "execution_count": 10,
   "id": "a9c82a68-5f3f-4ad7-982a-8516ef4a93b6",
   "metadata": {},
   "outputs": [
    {
     "name": "stdout",
     "output_type": "stream",
     "text": [
      "Conformations ranking (RFECV):\n",
      "[ 1  1  1  1  1  1  1  1  1  1  1  1  1  1  1  1  1  1  1  1  1  1  1  1\n",
      "  1  1  4  1  1  1  1  1  1  1  1  1  1  1  1  1  1  1  1  1  1 12  1  1\n",
      "  1  1  1  1  1  1  1  1  1  1  1  1  1  1  1  1  1  1  1  1  1  1  1  1\n",
      "  1  1  1  1  1  1  1  1  1  1  1  1  1  1  1  1  1  1  1  1  1  1  1  1\n",
      "  1  1  1  1  1  1  1  1  1  1  1  1  1  1  1  1  1  1  1  1  1  1  1  1\n",
      "  1  1  1  1  1  1  1  1  1  1  1  1  1  1  1  1  1  1  9  1  6  1  1 11\n",
      "  1  1  1  1  3  1  1  1  5  1  1  1  1  1  1  1  1  1  3  1  1  7  1  1\n",
      "  1  1  1  1  1  1  1  1  1  1  2  1  1  1  1  1  1  1  1  1 10  1  1  1\n",
      "  1  1  1  1  1  1  1  1  1  1  1  1 11  1  1  1  1  9  1 12  1  1  1  1\n",
      "  1  1  1  1  1  1  1  1  1  1  1  1 10  1  1  1  1  1  1  1  1  1  1  1\n",
      "  1  1  1  1  1  1  1  1  1  8  1  1  1  1  1  1  1  1  1  1  1  1  8  1\n",
      "  7  1  1  1  1  1  1  5  1  1  1  1  1  1  2  1  1  1  1  1  1  1  1  1\n",
      "  1  1  1  6  1  1  1  1  1  1  1  1  1  1  1  1  1  1  1  1  1  1  1  1\n",
      "  1  1  1  1  1  1  1  1  1  1  1  1  1  1  1  1  1  1  1  1  1  1  1  4\n",
      "  1  1  1  1  1  1  1  1  1  1  1  1  1  1  1  1  1  1  1  1  1  1  1  1\n",
      "  1  1  1  1  1  1  1  1  1  1  1  1  1  1  1  1  1  1  1  1  1  1  1  1\n",
      "  1  1  1  1  1  1  1  1  1  1  1  1  1  1  1  1  1  1]\n",
      "Number of conformations with rank = 1:\n",
      "380\n"
     ]
    }
   ],
   "source": [
    "# Visualize the rank of each conformation\n",
    "print('Conformations ranking (RFECV):')\n",
    "print(xgb_selector.ranking_)\n",
    "print('Number of conformations with rank = 1:')\n",
    "print((xgb_selector.ranking_ == 1).sum())"
   ]
  }
 ],
 "metadata": {
  "kernelspec": {
   "display_name": "Python 3",
   "language": "python",
   "name": "python3"
  },
  "language_info": {
   "codemirror_mode": {
    "name": "ipython",
    "version": 3
   },
   "file_extension": ".py",
   "mimetype": "text/x-python",
   "name": "python",
   "nbconvert_exporter": "python",
   "pygments_lexer": "ipython3",
   "version": "3.7.9"
  }
 },
 "nbformat": 4,
 "nbformat_minor": 5
}
