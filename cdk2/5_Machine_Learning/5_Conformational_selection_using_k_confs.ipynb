{
 "cells": [
  {
   "cell_type": "markdown",
   "id": "5d39fd14-0ef6-4db0-b757-e7e83904796b",
   "metadata": {},
   "source": [
    "# Conformational Selection using *k* conformations\n",
    "\n",
    "- We will test the Machine Learning Classifiers and the Consensus Strategies"
   ]
  },
  {
   "cell_type": "code",
   "execution_count": 1,
   "id": "2e32bf37-0c6b-4853-b278-e781ee791a5b",
   "metadata": {},
   "outputs": [],
   "source": [
    "import pandas as pd\n",
    "import numpy as np\n",
    "from pathlib import Path\n",
    "import sys\n",
    "sys.path.append('../..')"
   ]
  },
  {
   "cell_type": "code",
   "execution_count": 2,
   "id": "ca5c1c00-98ee-41bb-9e44-69e6a39459cb",
   "metadata": {},
   "outputs": [
    {
     "name": "stderr",
     "output_type": "stream",
     "text": [
      "/Users/joelricci/miniconda/envs/mds/lib/python3.7/site-packages/outdated/utils.py:18: OutdatedPackageWarning: The package pingouin is out of date. Your version is 0.3.10, the latest is 0.3.11.\n",
      "Set the environment variable OUTDATED_IGNORE=1 to disable these warnings.\n",
      "  **kwargs\n",
      "/Users/joelricci/miniconda/envs/mds/lib/python3.7/site-packages/outdated/utils.py:18: OutdatedPackageWarning: The package outdated is out of date. Your version is 0.2.0, the latest is 0.2.1.\n",
      "Set the environment variable OUTDATED_IGNORE=1 to disable these warnings.\n",
      "  **kwargs\n"
     ]
    }
   ],
   "source": [
    "# Load some auxiliary functions\n",
    "%run 1_Helper_functions.ipynb"
   ]
  },
  {
   "cell_type": "markdown",
   "id": "e5b5694c-0d58-45ea-8da2-ec3693881103",
   "metadata": {},
   "source": [
    "## Compute the SBVS methods performances\n",
    "### Load docking results"
   ]
  },
  {
   "cell_type": "code",
   "execution_count": 3,
   "id": "82642fd2-7016-4b45-97ed-e43ad7fe421d",
   "metadata": {},
   "outputs": [],
   "source": [
    "prot_name = 'cdk2'\n",
    "file_name = '../4_Ensemble_docking_results/' + \\\n",
    "            'df_DkSc_results_COCRYS_CSAR_DEKOIS_DUD.pkl'\n",
    "df_dk_res = pd.read_pickle(file_name)\n",
    "\n",
    "# Extract the features columns: Docking scores\n",
    "X_dksc = df_dk_res.drop('activity', axis = 1)\n",
    "X = X_dksc.values\n",
    "# Extract the response variable: Activity\n",
    "y = df_dk_res['activity'].values"
   ]
  },
  {
   "cell_type": "code",
   "execution_count": 4,
   "id": "477e6c92-63e7-4dfc-a331-73400cc54151",
   "metadata": {},
   "outputs": [],
   "source": [
    "# Proportion of active molecules R_2\n",
    "R_a = round(y.sum() / len(y), 4)"
   ]
  },
  {
   "cell_type": "markdown",
   "id": "b7736b24-1a9e-44f6-b808-1054b37725de",
   "metadata": {},
   "source": [
    "### Machine Learning Classifiers"
   ]
  },
  {
   "cell_type": "code",
   "execution_count": 5,
   "id": "706541b8-15dd-4fca-8dc0-abc83c8b62c1",
   "metadata": {},
   "outputs": [],
   "source": [
    "from sklearn.dummy import DummyClassifier\n",
    "\n",
    "hyparams = {'strategy': \"stratified\"}\n",
    "dclf = DummyClassifier(**hyparams)"
   ]
  },
  {
   "cell_type": "code",
   "execution_count": 6,
   "id": "8bd30eee-915f-49fb-afb3-c20394b3c957",
   "metadata": {},
   "outputs": [],
   "source": [
    "from sklearn.linear_model import LogisticRegression \n",
    "\n",
    "hyparams = {'C': 0.01, \n",
    "            'penalty': 'l2', \n",
    "            'solver': 'lbfgs', \n",
    "            'max_iter':400}\n",
    "lr = LogisticRegression(**hyparams)"
   ]
  },
  {
   "cell_type": "code",
   "execution_count": 7,
   "id": "42051e50-512e-4f36-ada8-d231a1c509cb",
   "metadata": {},
   "outputs": [],
   "source": [
    "from xgboost import XGBClassifier\n",
    "\n",
    "hyparams = {'subsample': 0.5, \n",
    "            'n_estimators': 200, \n",
    "            'max_depth': 20, \n",
    "            'learning_rate': 0.05,\n",
    "            'alpha': 0.01,\n",
    "            'gamma': 0.01, \n",
    "            'colsample_bytree': 0.5}\n",
    "xgb = XGBClassifier(**hyparams)"
   ]
  },
  {
   "cell_type": "code",
   "execution_count": 8,
   "id": "e8a210a0-90da-4188-b4b8-6f64402dd4d0",
   "metadata": {},
   "outputs": [],
   "source": [
    "# ML Classifiers\n",
    "ml_classifiers = {\n",
    "    'ml_lr': lr,\n",
    "    'ml_xgb': xgb,\n",
    "    'ml_dclf': dclf\n",
    "}"
   ]
  },
  {
   "cell_type": "markdown",
   "id": "6305bba0-cf82-4fa0-984d-abde1b667d86",
   "metadata": {},
   "source": [
    "### Consensus Strategies"
   ]
  },
  {
   "cell_type": "code",
   "execution_count": 9,
   "id": "093ad8c0-3ca6-4bb0-8384-86f28884b352",
   "metadata": {},
   "outputs": [],
   "source": [
    "from helper_modules.consensus_strategies import \\\n",
    "    get_mean_score, get_min_score, get_geom_mean_score"
   ]
  },
  {
   "cell_type": "code",
   "execution_count": 10,
   "id": "3c90c0a2-eb80-49aa-9764-db93bc271f82",
   "metadata": {},
   "outputs": [],
   "source": [
    "cs_functions = {\n",
    "    'cs_MEAN': get_mean_score,\n",
    "    'cs_GEOM': get_geom_mean_score,\n",
    "    'cs_MIN': get_min_score\n",
    "}"
   ]
  },
  {
   "cell_type": "markdown",
   "id": "1089aa0d-8130-4d9e-94d2-4182fffed513",
   "metadata": {},
   "source": [
    "### SBVS methods (estimators) dictionary"
   ]
  },
  {
   "cell_type": "code",
   "execution_count": 11,
   "id": "fdee26ab-8149-4ca3-9c17-842e8a3b8a15",
   "metadata": {},
   "outputs": [
    {
     "data": {
      "text/plain": [
       "{'ml_lr': 'LR',\n",
       " 'ml_xgb': 'GBT',\n",
       " 'ml_dclf': 'DClf',\n",
       " 'cs_MEAN': 'csAVG',\n",
       " 'cs_GEOM': 'csGEO',\n",
       " 'cs_MIN': 'csMIN'}"
      ]
     },
     "execution_count": 11,
     "metadata": {},
     "output_type": "execute_result"
    }
   ],
   "source": [
    "estimators = {**ml_classifiers, **cs_functions}\n",
    "\n",
    "# Map new names for each VS method, for plotting\n",
    "full_names = ['LR', 'GBT', 'DClf', \n",
    "              'csAVG', 'csGEO', 'csMIN']\n",
    "sbvs_names = dict(zip(\n",
    "    estimators.keys(),\n",
    "    full_names))\n",
    "sbvs_names"
   ]
  },
  {
   "cell_type": "markdown",
   "id": "3ccd10c5-ba45-4c1f-b642-dd94f38fa468",
   "metadata": {},
   "source": [
    "### Evaluation metrics"
   ]
  },
  {
   "cell_type": "code",
   "execution_count": 12,
   "id": "4249f2b5-cb30-471e-8c62-dd44e1b97c5e",
   "metadata": {},
   "outputs": [],
   "source": [
    "metrics = dict(\n",
    "    # AUC-ROC\n",
    "    roc_auc   = {'metric_name': 'roc_auc'},\n",
    "    # Normalized Enrichment Factor\n",
    "    nef_12_Ra = {'metric_name': 'ef', \n",
    "                 'fraction'   : R_a, \n",
    "                 'method'     : 'normalized'}\n",
    "    )"
   ]
  },
  {
   "cell_type": "markdown",
   "id": "7f339de7-dfd1-430a-8cf5-5fd85cc80ffd",
   "metadata": {},
   "source": [
    "## 30x4-fold Validation using k conformations"
   ]
  },
  {
   "cell_type": "code",
   "execution_count": 13,
   "id": "c98fd694-b2d2-41a8-bb31-ea6b05fadd60",
   "metadata": {},
   "outputs": [],
   "source": [
    "# Save the results to a file to ommit repeate the analysis\n",
    "@run_or_load_joblib\n",
    "def nk_rep_cross_validation_SAVE(filename, **kwargs):\n",
    "    return nk_rep_cross_validation(**kwargs)"
   ]
  },
  {
   "cell_type": "code",
   "execution_count": 14,
   "id": "3608350c-f8dc-457e-b15d-279c66067801",
   "metadata": {},
   "outputs": [],
   "source": [
    "# Define the filenames to save the results and the k values\n",
    "main_dir = f'./cachedir/k_confs_30x4cv/{prot_name}'\n",
    "Path(main_dir).mkdir(parents=True, exist_ok=True)\n",
    "\n",
    "max_confs = X.shape[1]\n",
    "k_values = [1, 2, 4, 8, 16, 32, 64, 128, 256, max_confs]\n",
    "\n",
    "n_reps = 30\n",
    "n_splits = 4\n",
    "full_results = {}"
   ]
  },
  {
   "cell_type": "markdown",
   "id": "430cf59a-4be7-40b2-ac2f-3399d9304e5f",
   "metadata": {},
   "source": [
    "## Selection Criteria\n",
    "1. Random Selection\n",
    "2. Recursive Feature Elimination Ranking\n",
    "3. Best to worst AUC-ROC conformations (single-conformation docking)\n",
    "4. Worst to best AUC-ROC conformations (single-conformation docking)\n",
    "5. Conformations with bigger ligands to smaller (or no ligands)\n",
    "6. Conformations from largest to smallest pocket volume"
   ]
  },
  {
   "cell_type": "markdown",
   "id": "8761240a-92fd-47a1-9949-e706fbc84ca9",
   "metadata": {},
   "source": [
    "### Random Selection"
   ]
  },
  {
   "cell_type": "code",
   "execution_count": 15,
   "id": "f9afb220-008a-4f5f-91d6-67804177c6c7",
   "metadata": {},
   "outputs": [
    {
     "name": "stdout",
     "output_type": "stream",
     "text": [
      "File loaded: ./cachedir/k_confs_30x4cv/cdk2/k-confs-random_30_reps_cdk2_nConfs-1\n",
      "Evaluation with k=1 finished.\n",
      "File loaded: ./cachedir/k_confs_30x4cv/cdk2/k-confs-random_30_reps_cdk2_nConfs-2\n",
      "Evaluation with k=2 finished.\n",
      "File loaded: ./cachedir/k_confs_30x4cv/cdk2/k-confs-random_30_reps_cdk2_nConfs-4\n",
      "Evaluation with k=4 finished.\n",
      "File loaded: ./cachedir/k_confs_30x4cv/cdk2/k-confs-random_30_reps_cdk2_nConfs-8\n",
      "Evaluation with k=8 finished.\n",
      "File loaded: ./cachedir/k_confs_30x4cv/cdk2/k-confs-random_30_reps_cdk2_nConfs-16\n",
      "Evaluation with k=16 finished.\n",
      "File loaded: ./cachedir/k_confs_30x4cv/cdk2/k-confs-random_30_reps_cdk2_nConfs-32\n",
      "Evaluation with k=32 finished.\n",
      "File loaded: ./cachedir/k_confs_30x4cv/cdk2/k-confs-random_30_reps_cdk2_nConfs-64\n",
      "Evaluation with k=64 finished.\n",
      "File loaded: ./cachedir/k_confs_30x4cv/cdk2/k-confs-random_30_reps_cdk2_nConfs-128\n",
      "Evaluation with k=128 finished.\n",
      "File loaded: ./cachedir/k_confs_30x4cv/cdk2/k-confs-random_30_reps_cdk2_nConfs-256\n",
      "Evaluation with k=256 finished.\n",
      "File loaded: ./cachedir/k_confs_30x4cv/cdk2/k-confs-random_30_reps_cdk2_nConfs-402\n",
      "Evaluation with k=402 finished.\n"
     ]
    }
   ],
   "source": [
    "# ************\n",
    "test_name = 'random'\n",
    "full_results[test_name] = {}\n",
    "# ************\n",
    "evaluation_name = f'k-confs-{test_name}_{n_reps}_reps'\n",
    "\n",
    "for k in k_values:\n",
    "    # Name the output file\n",
    "    filename = f'{main_dir}/{evaluation_name}_{prot_name}_nConfs-{k}'\n",
    "    \n",
    "    results = nk_rep_cross_validation_RANDOM_CONFS_SAVE(\n",
    "                        filename  = filename,\n",
    "                        X = X,  y = y, \n",
    "                        n_reps    = n_reps, \n",
    "                        n_splits  = n_splits,\n",
    "                        k = k, \n",
    "                        max_confs = max_confs, \n",
    "                        metrics   = metrics\n",
    "    )\n",
    "        \n",
    "    print(f'Evaluation with k={k} finished.')\n",
    "    # *******************************\n",
    "    full_results[test_name][f'k_{k}'] = results"
   ]
  },
  {
   "cell_type": "markdown",
   "id": "4f7775dc-816b-4ff5-98a4-2092955a062b",
   "metadata": {},
   "source": [
    "### Recursive Feature Elimination (with GBT)"
   ]
  },
  {
   "cell_type": "code",
   "execution_count": 16,
   "id": "3ecbc61b-b386-4856-9f54-da16d226e157",
   "metadata": {},
   "outputs": [],
   "source": [
    "# Open RFE_estimator\n",
    "dataset    = 'MERGED'\n",
    "model_name = 'XGB_tree'\n",
    "split      = 'random'\n",
    "filename   = f'./cachedir/rfe_selectors/RFE_xgb_{prot_name}.joblib'\n",
    "# Load the RFE selector (computed in the previos notebook)\n",
    "rfe_selector = joblib.load(filename)\n",
    "# Create a dataframe with the protein rankings\n",
    "df_ranks     = pd.DataFrame({\n",
    "                     'pdb_id'     : X_dksc.columns, \n",
    "                     'rfe_ranking': rfe_selector.ranking_\n",
    "               })\n",
    "df_ranks     = df_ranks.sort_values('rfe_ranking')"
   ]
  },
  {
   "cell_type": "code",
   "execution_count": 17,
   "id": "e33ff8e9-362a-43bc-aab8-44b3de49a5b1",
   "metadata": {},
   "outputs": [
    {
     "name": "stdout",
     "output_type": "stream",
     "text": [
      "File loaded: ./cachedir/k_confs_30x4cv/cdk2/k-confs-RFExgb_30_reps_cdk2_nConfs-1\n",
      "Evaluation with k=1 finished.\n",
      "File loaded: ./cachedir/k_confs_30x4cv/cdk2/k-confs-RFExgb_30_reps_cdk2_nConfs-2\n",
      "Evaluation with k=2 finished.\n",
      "File loaded: ./cachedir/k_confs_30x4cv/cdk2/k-confs-RFExgb_30_reps_cdk2_nConfs-4\n",
      "Evaluation with k=4 finished.\n",
      "File loaded: ./cachedir/k_confs_30x4cv/cdk2/k-confs-RFExgb_30_reps_cdk2_nConfs-8\n",
      "Evaluation with k=8 finished.\n",
      "File loaded: ./cachedir/k_confs_30x4cv/cdk2/k-confs-RFExgb_30_reps_cdk2_nConfs-16\n",
      "Evaluation with k=16 finished.\n",
      "File loaded: ./cachedir/k_confs_30x4cv/cdk2/k-confs-RFExgb_30_reps_cdk2_nConfs-32\n",
      "Evaluation with k=32 finished.\n",
      "File loaded: ./cachedir/k_confs_30x4cv/cdk2/k-confs-RFExgb_30_reps_cdk2_nConfs-64\n",
      "Evaluation with k=64 finished.\n",
      "File loaded: ./cachedir/k_confs_30x4cv/cdk2/k-confs-RFExgb_30_reps_cdk2_nConfs-128\n",
      "Evaluation with k=128 finished.\n",
      "File loaded: ./cachedir/k_confs_30x4cv/cdk2/k-confs-RFExgb_30_reps_cdk2_nConfs-256\n",
      "Evaluation with k=256 finished.\n",
      "File loaded: ./cachedir/k_confs_30x4cv/cdk2/k-confs-RFExgb_30_reps_cdk2_nConfs-402\n",
      "Evaluation with k=402 finished.\n"
     ]
    }
   ],
   "source": [
    "# ************\n",
    "test_name = 'RFExgb'\n",
    "full_results[test_name] = {}\n",
    "# ************\n",
    "evaluation_name = f'k-confs-{test_name}_{n_reps}_reps'\n",
    "\n",
    "for k in k_values:\n",
    "    # Name the output file\n",
    "    filename = f'{main_dir}/{evaluation_name}_{prot_name}_nConfs-{k}'\n",
    "    \n",
    "    results = nk_rep_cross_validation_RANDOM_CONFS_SAVE(\n",
    "                        filename  = filename,\n",
    "                        X = X,  y = y, \n",
    "                        n_reps    = n_reps, \n",
    "                        n_splits  = n_splits,\n",
    "                        k = k, \n",
    "                        max_confs = max_confs, \n",
    "                        metrics   = metrics\n",
    "    )\n",
    "        \n",
    "    print(f'Evaluation with k={k} finished.')\n",
    "    # *******************************\n",
    "    full_results[test_name][f'k_{k}'] = results"
   ]
  },
  {
   "cell_type": "markdown",
   "id": "b526e13a-1043-41ea-8638-faf6d6eb06f4",
   "metadata": {},
   "source": [
    "### Best to worst AUC-ROC conformations (single-conformation docking)"
   ]
  },
  {
   "cell_type": "code",
   "execution_count": 18,
   "id": "c667052d-c9db-4693-b03c-f1703202f73f",
   "metadata": {},
   "outputs": [
    {
     "data": {
      "text/html": [
       "<div>\n",
       "<style scoped>\n",
       "    .dataframe tbody tr th:only-of-type {\n",
       "        vertical-align: middle;\n",
       "    }\n",
       "\n",
       "    .dataframe tbody tr th {\n",
       "        vertical-align: top;\n",
       "    }\n",
       "\n",
       "    .dataframe thead th {\n",
       "        text-align: right;\n",
       "    }\n",
       "</style>\n",
       "<table border=\"1\" class=\"dataframe\">\n",
       "  <thead>\n",
       "    <tr style=\"text-align: right;\">\n",
       "      <th></th>\n",
       "      <th>index</th>\n",
       "      <th>Resolution</th>\n",
       "      <th>Inhib. MW</th>\n",
       "      <th>Pk. Volume</th>\n",
       "      <th>Pk. SASA</th>\n",
       "      <th>Apo</th>\n",
       "      <th>Single Entity</th>\n",
       "      <th>AUC-ROC</th>\n",
       "      <th>NEF</th>\n",
       "    </tr>\n",
       "  </thead>\n",
       "  <tbody>\n",
       "    <tr>\n",
       "      <th>0</th>\n",
       "      <td>1aq1</td>\n",
       "      <td>2.0</td>\n",
       "      <td>440.0</td>\n",
       "      <td>887.0</td>\n",
       "      <td>628.0</td>\n",
       "      <td>holo</td>\n",
       "      <td>single</td>\n",
       "      <td>0.62262</td>\n",
       "      <td>0.24337</td>\n",
       "    </tr>\n",
       "    <tr>\n",
       "      <th>1</th>\n",
       "      <td>1b38</td>\n",
       "      <td>2.0</td>\n",
       "      <td>398.0</td>\n",
       "      <td>698.0</td>\n",
       "      <td>587.0</td>\n",
       "      <td>holo</td>\n",
       "      <td>single</td>\n",
       "      <td>0.59115</td>\n",
       "      <td>0.21205</td>\n",
       "    </tr>\n",
       "    <tr>\n",
       "      <th>2</th>\n",
       "      <td>1b39</td>\n",
       "      <td>2.1</td>\n",
       "      <td>398.0</td>\n",
       "      <td>672.0</td>\n",
       "      <td>559.0</td>\n",
       "      <td>holo</td>\n",
       "      <td>single</td>\n",
       "      <td>0.61789</td>\n",
       "      <td>0.27711</td>\n",
       "    </tr>\n",
       "  </tbody>\n",
       "</table>\n",
       "</div>"
      ],
      "text/plain": [
       "  index  Resolution  Inhib. MW  Pk. Volume  Pk. SASA   Apo Single Entity  \\\n",
       "0  1aq1         2.0      440.0       887.0     628.0  holo        single   \n",
       "1  1b38         2.0      398.0       698.0     587.0  holo        single   \n",
       "2  1b39         2.1      398.0       672.0     559.0  holo        single   \n",
       "\n",
       "   AUC-ROC      NEF  \n",
       "0  0.62262  0.24337  \n",
       "1  0.59115  0.21205  \n",
       "2  0.61789  0.27711  "
      ]
     },
     "execution_count": 18,
     "metadata": {},
     "output_type": "execute_result"
    }
   ],
   "source": [
    "# Import the conformations features table\n",
    "DIR     = '../4_Ensemble_docking_results//'\n",
    "file    = f'{DIR}/TABLE_Confs_Features_and_performances_cdk2.pkl'\n",
    "df_feat = pd.read_pickle(file)\n",
    "\n",
    "# Reset index to access each conformation per idx position\n",
    "df_feat = df_feat.reset_index()\n",
    "df_feat.head(3)"
   ]
  },
  {
   "cell_type": "code",
   "execution_count": 19,
   "id": "2f81497e-d7e5-4a45-a85d-dbb00d265f37",
   "metadata": {},
   "outputs": [
    {
     "name": "stdout",
     "output_type": "stream",
     "text": [
      "File loaded: ./cachedir/k_confs_30x4cv/cdk2/k-confs-singConfAUC_30_reps_cdk2_nConfs-1\n",
      "Evaluation with k=1 finished.\n",
      "File loaded: ./cachedir/k_confs_30x4cv/cdk2/k-confs-singConfAUC_30_reps_cdk2_nConfs-2\n",
      "Evaluation with k=2 finished.\n",
      "File loaded: ./cachedir/k_confs_30x4cv/cdk2/k-confs-singConfAUC_30_reps_cdk2_nConfs-4\n",
      "Evaluation with k=4 finished.\n",
      "File loaded: ./cachedir/k_confs_30x4cv/cdk2/k-confs-singConfAUC_30_reps_cdk2_nConfs-8\n",
      "Evaluation with k=8 finished.\n",
      "File loaded: ./cachedir/k_confs_30x4cv/cdk2/k-confs-singConfAUC_30_reps_cdk2_nConfs-16\n",
      "Evaluation with k=16 finished.\n",
      "File loaded: ./cachedir/k_confs_30x4cv/cdk2/k-confs-singConfAUC_30_reps_cdk2_nConfs-32\n",
      "Evaluation with k=32 finished.\n",
      "File loaded: ./cachedir/k_confs_30x4cv/cdk2/k-confs-singConfAUC_30_reps_cdk2_nConfs-64\n",
      "Evaluation with k=64 finished.\n",
      "File loaded: ./cachedir/k_confs_30x4cv/cdk2/k-confs-singConfAUC_30_reps_cdk2_nConfs-128\n",
      "Evaluation with k=128 finished.\n",
      "File loaded: ./cachedir/k_confs_30x4cv/cdk2/k-confs-singConfAUC_30_reps_cdk2_nConfs-256\n",
      "Evaluation with k=256 finished.\n",
      "File loaded: ./cachedir/k_confs_30x4cv/cdk2/k-confs-singConfAUC_30_reps_cdk2_nConfs-402\n",
      "Evaluation with k=402 finished.\n"
     ]
    }
   ],
   "source": [
    "# ************\n",
    "test_name = 'singConfAUC'\n",
    "full_results[test_name] = {}\n",
    "# ************\n",
    "evaluation_name = f'k-confs-{test_name}_{n_reps}_reps'\n",
    "\n",
    "# This will determine which conf. will be selected\n",
    "df_ranks = df_feat.sort_values('AUC-ROC', \n",
    "                               ascending = False)\n",
    "\n",
    "for k in k_values:\n",
    "    # Name the output file\n",
    "    filename = f'{main_dir}/{evaluation_name}_{prot_name}_nConfs-{k}'\n",
    "    \n",
    "    # Get the conformations using the selector\n",
    "    conformations = df_ranks.index[:k]\n",
    "    X_sub = X[:, conformations]\n",
    "    \n",
    "    results = nk_rep_cross_validation_RANDOM_CONFS_SAVE(\n",
    "                        filename  = filename,\n",
    "                        X = X,  y = y, \n",
    "                        n_reps    = n_reps, \n",
    "                        n_splits  = n_splits,\n",
    "                        k = k, \n",
    "                        max_confs = max_confs, \n",
    "                        metrics   = metrics\n",
    "    )\n",
    "        \n",
    "    print(f'Evaluation with k={k} finished.')\n",
    "    # *******************************\n",
    "    full_results[test_name][f'k_{k}'] = results"
   ]
  },
  {
   "cell_type": "markdown",
   "id": "2ca5f223-471e-40df-aaac-e568f936085a",
   "metadata": {},
   "source": [
    "### Worst to best AUC-ROC conformations (single-conformation docking)"
   ]
  },
  {
   "cell_type": "code",
   "execution_count": 20,
   "id": "5a3d1f23-d6d8-43c7-bd57-6e123997b876",
   "metadata": {},
   "outputs": [
    {
     "name": "stdout",
     "output_type": "stream",
     "text": [
      "File loaded: ./cachedir/k_confs_30x4cv/cdk2/k-confs-singConfAUC-Worst_30_reps_cdk2_nConfs-1\n",
      "Evaluation with k=1 finished.\n",
      "File loaded: ./cachedir/k_confs_30x4cv/cdk2/k-confs-singConfAUC-Worst_30_reps_cdk2_nConfs-2\n",
      "Evaluation with k=2 finished.\n",
      "File loaded: ./cachedir/k_confs_30x4cv/cdk2/k-confs-singConfAUC-Worst_30_reps_cdk2_nConfs-4\n",
      "Evaluation with k=4 finished.\n",
      "File loaded: ./cachedir/k_confs_30x4cv/cdk2/k-confs-singConfAUC-Worst_30_reps_cdk2_nConfs-8\n",
      "Evaluation with k=8 finished.\n",
      "File loaded: ./cachedir/k_confs_30x4cv/cdk2/k-confs-singConfAUC-Worst_30_reps_cdk2_nConfs-16\n",
      "Evaluation with k=16 finished.\n",
      "File loaded: ./cachedir/k_confs_30x4cv/cdk2/k-confs-singConfAUC-Worst_30_reps_cdk2_nConfs-32\n",
      "Evaluation with k=32 finished.\n",
      "File loaded: ./cachedir/k_confs_30x4cv/cdk2/k-confs-singConfAUC-Worst_30_reps_cdk2_nConfs-64\n",
      "Evaluation with k=64 finished.\n",
      "File loaded: ./cachedir/k_confs_30x4cv/cdk2/k-confs-singConfAUC-Worst_30_reps_cdk2_nConfs-128\n",
      "Evaluation with k=128 finished.\n",
      "File loaded: ./cachedir/k_confs_30x4cv/cdk2/k-confs-singConfAUC-Worst_30_reps_cdk2_nConfs-256\n",
      "Evaluation with k=256 finished.\n",
      "File loaded: ./cachedir/k_confs_30x4cv/cdk2/k-confs-singConfAUC-Worst_30_reps_cdk2_nConfs-402\n",
      "Evaluation with k=402 finished.\n"
     ]
    }
   ],
   "source": [
    "# ************\n",
    "test_name = 'singConfAUC-Worst'\n",
    "full_results[test_name] = {}\n",
    "# ************\n",
    "evaluation_name = f'k-confs-{test_name}_{n_reps}_reps'\n",
    "\n",
    "# This will determine which conf. will be selected\n",
    "df_ranks = df_feat.sort_values('AUC-ROC', \n",
    "                               ascending = True)\n",
    "\n",
    "for k in k_values:\n",
    "    # Name the output file\n",
    "    filename = f'{main_dir}/{evaluation_name}_{prot_name}_nConfs-{k}'\n",
    "    \n",
    "    # Get the conformations using the selector\n",
    "    conformations = df_ranks.index[:k]\n",
    "    X_sub = X[:, conformations]\n",
    "    \n",
    "    results = nk_rep_cross_validation_RANDOM_CONFS_SAVE(\n",
    "                        filename  = filename,\n",
    "                        X = X,  y = y, \n",
    "                        n_reps    = n_reps, \n",
    "                        n_splits  = n_splits,\n",
    "                        k = k, \n",
    "                        max_confs = max_confs, \n",
    "                        metrics   = metrics\n",
    "    )\n",
    "        \n",
    "    print(f'Evaluation with k={k} finished.')\n",
    "    # *******************************\n",
    "    full_results[test_name][f'k_{k}'] = results"
   ]
  },
  {
   "cell_type": "markdown",
   "id": "4b4d4b22-6825-4f83-bb99-7e83baf1868c",
   "metadata": {},
   "source": [
    "### Conformations with bigger ligands to smaller (or no ligands)"
   ]
  },
  {
   "cell_type": "code",
   "execution_count": 21,
   "id": "2ad4f8e1-81ab-427d-93cf-dac18bff8d3c",
   "metadata": {},
   "outputs": [
    {
     "name": "stdout",
     "output_type": "stream",
     "text": [
      "File loaded: ./cachedir/k_confs_30x4cv/cdk2/k-confs-bigLigMW_30_reps_cdk2_nConfs-1\n",
      "Evaluation with k=1 finished.\n",
      "File loaded: ./cachedir/k_confs_30x4cv/cdk2/k-confs-bigLigMW_30_reps_cdk2_nConfs-2\n",
      "Evaluation with k=2 finished.\n",
      "File loaded: ./cachedir/k_confs_30x4cv/cdk2/k-confs-bigLigMW_30_reps_cdk2_nConfs-4\n",
      "Evaluation with k=4 finished.\n",
      "File loaded: ./cachedir/k_confs_30x4cv/cdk2/k-confs-bigLigMW_30_reps_cdk2_nConfs-8\n",
      "Evaluation with k=8 finished.\n",
      "File loaded: ./cachedir/k_confs_30x4cv/cdk2/k-confs-bigLigMW_30_reps_cdk2_nConfs-16\n",
      "Evaluation with k=16 finished.\n",
      "File loaded: ./cachedir/k_confs_30x4cv/cdk2/k-confs-bigLigMW_30_reps_cdk2_nConfs-32\n",
      "Evaluation with k=32 finished.\n",
      "File loaded: ./cachedir/k_confs_30x4cv/cdk2/k-confs-bigLigMW_30_reps_cdk2_nConfs-64\n",
      "Evaluation with k=64 finished.\n",
      "File loaded: ./cachedir/k_confs_30x4cv/cdk2/k-confs-bigLigMW_30_reps_cdk2_nConfs-128\n",
      "Evaluation with k=128 finished.\n",
      "File loaded: ./cachedir/k_confs_30x4cv/cdk2/k-confs-bigLigMW_30_reps_cdk2_nConfs-256\n",
      "Evaluation with k=256 finished.\n",
      "File loaded: ./cachedir/k_confs_30x4cv/cdk2/k-confs-bigLigMW_30_reps_cdk2_nConfs-402\n",
      "Evaluation with k=402 finished.\n"
     ]
    }
   ],
   "source": [
    "# ************\n",
    "test_name = 'bigLigMW'\n",
    "full_results[test_name] = {}\n",
    "# ************\n",
    "evaluation_name = f'k-confs-{test_name}_{n_reps}_reps'\n",
    "\n",
    "# This will determine which conf. will be selected\n",
    "df_ranks = df_feat.sort_values('Inhib. MW', \n",
    "                               ascending = False)\n",
    "\n",
    "for k in k_values:\n",
    "    # Name the output file\n",
    "    filename = f'{main_dir}/{evaluation_name}_{prot_name}_nConfs-{k}'\n",
    "    \n",
    "    # Get the conformations using the selector\n",
    "    conformations = df_ranks.index[:k]\n",
    "    X_sub = X[:, conformations]\n",
    "    \n",
    "    results = nk_rep_cross_validation_RANDOM_CONFS_SAVE(\n",
    "                        filename  = filename,\n",
    "                        X = X,  y = y, \n",
    "                        n_reps    = n_reps, \n",
    "                        n_splits  = n_splits,\n",
    "                        k = k, \n",
    "                        max_confs = max_confs, \n",
    "                        metrics   = metrics\n",
    "    )\n",
    "        \n",
    "    print(f'Evaluation with k={k} finished.')\n",
    "    # *******************************\n",
    "    full_results[test_name][f'k_{k}'] = results"
   ]
  },
  {
   "cell_type": "markdown",
   "id": "e4ab0352-c9a4-4a1f-8d55-5d5259470c6c",
   "metadata": {},
   "source": [
    "### Conformations from largest to smallest pocket volume"
   ]
  },
  {
   "cell_type": "code",
   "execution_count": 22,
   "id": "ff55ff2f-3678-4b4c-80b4-3c0486535c3f",
   "metadata": {},
   "outputs": [
    {
     "name": "stdout",
     "output_type": "stream",
     "text": [
      "File loaded: ./cachedir/k_confs_30x4cv/cdk2/k-confs-bigPkVolume_30_reps_cdk2_nConfs-1\n",
      "Evaluation with k=1 finished.\n",
      "File loaded: ./cachedir/k_confs_30x4cv/cdk2/k-confs-bigPkVolume_30_reps_cdk2_nConfs-2\n",
      "Evaluation with k=2 finished.\n",
      "File loaded: ./cachedir/k_confs_30x4cv/cdk2/k-confs-bigPkVolume_30_reps_cdk2_nConfs-4\n",
      "Evaluation with k=4 finished.\n",
      "File loaded: ./cachedir/k_confs_30x4cv/cdk2/k-confs-bigPkVolume_30_reps_cdk2_nConfs-8\n",
      "Evaluation with k=8 finished.\n",
      "File loaded: ./cachedir/k_confs_30x4cv/cdk2/k-confs-bigPkVolume_30_reps_cdk2_nConfs-16\n",
      "Evaluation with k=16 finished.\n",
      "File loaded: ./cachedir/k_confs_30x4cv/cdk2/k-confs-bigPkVolume_30_reps_cdk2_nConfs-32\n",
      "Evaluation with k=32 finished.\n",
      "File loaded: ./cachedir/k_confs_30x4cv/cdk2/k-confs-bigPkVolume_30_reps_cdk2_nConfs-64\n",
      "Evaluation with k=64 finished.\n",
      "File loaded: ./cachedir/k_confs_30x4cv/cdk2/k-confs-bigPkVolume_30_reps_cdk2_nConfs-128\n",
      "Evaluation with k=128 finished.\n",
      "File loaded: ./cachedir/k_confs_30x4cv/cdk2/k-confs-bigPkVolume_30_reps_cdk2_nConfs-256\n",
      "Evaluation with k=256 finished.\n",
      "File loaded: ./cachedir/k_confs_30x4cv/cdk2/k-confs-bigPkVolume_30_reps_cdk2_nConfs-402\n",
      "Evaluation with k=402 finished.\n"
     ]
    }
   ],
   "source": [
    "# ************\n",
    "test_name = 'bigPkVolume'\n",
    "full_results[test_name] = {}\n",
    "# ************\n",
    "evaluation_name = f'k-confs-{test_name}_{n_reps}_reps'\n",
    "\n",
    "# This will determine which conf. will be selected\n",
    "df_ranks = df_feat.sort_values('Pk. Volume', \n",
    "                               ascending=False)\n",
    "\n",
    "for k in k_values:\n",
    "    # Name the output file\n",
    "    filename = f'{main_dir}/{evaluation_name}_{prot_name}_nConfs-{k}'\n",
    "    \n",
    "    # Get the conformations using the selector\n",
    "    conformations = df_ranks.index[:k]\n",
    "    X_sub = X[:, conformations]\n",
    "    \n",
    "    results = nk_rep_cross_validation_RANDOM_CONFS_SAVE(\n",
    "                        filename  = filename,\n",
    "                        X = X,  y = y, \n",
    "                        n_reps    = n_reps, \n",
    "                        n_splits  = n_splits,\n",
    "                        k = k, \n",
    "                        max_confs = max_confs, \n",
    "                        metrics   = metrics\n",
    "    )\n",
    "        \n",
    "    print(f'Evaluation with k={k} finished.')\n",
    "    # *******************************\n",
    "    full_results[test_name][f'k_{k}'] = results"
   ]
  },
  {
   "cell_type": "markdown",
   "id": "aa401d32-c19a-419a-9948-fbda9c92246d",
   "metadata": {},
   "source": [
    "## Save the results"
   ]
  },
  {
   "cell_type": "code",
   "execution_count": 23,
   "id": "057a3523-4f50-4af4-88e1-be7586de9a69",
   "metadata": {},
   "outputs": [],
   "source": [
    "import joblib\n",
    "path_to_file = './conformational_selection_30x4cv_using_k_confs.obj'\n",
    "\n",
    "if not Path(path_to_file).exists():\n",
    "    with open(path_to_file, 'wb') as f:\n",
    "        joblib.dump(value = full_results, filename = f)"
   ]
  }
 ],
 "metadata": {
  "kernelspec": {
   "display_name": "Python 3",
   "language": "python",
   "name": "python3"
  },
  "language_info": {
   "codemirror_mode": {
    "name": "ipython",
    "version": 3
   },
   "file_extension": ".py",
   "mimetype": "text/x-python",
   "name": "python",
   "nbconvert_exporter": "python",
   "pygments_lexer": "ipython3",
   "version": "3.7.9"
  }
 },
 "nbformat": 4,
 "nbformat_minor": 5
}
