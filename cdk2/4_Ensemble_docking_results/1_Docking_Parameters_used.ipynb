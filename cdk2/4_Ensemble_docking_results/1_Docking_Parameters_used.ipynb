{
 "cells": [
  {
   "cell_type": "markdown",
   "id": "24cabca9-3db4-484c-8147-de7e88c2564a",
   "metadata": {},
   "source": [
    "# Docking Parameters used to perform the Ensemble Docking Procedure\n",
    "\n",
    "1. CDK2 conformations were aligned using the $\\alpha$ Carbons of pocket residues. \n"
   ]
  },
  {
   "cell_type": "code",
   "execution_count": 1,
   "id": "d9aebe31-899a-45c8-9977-217bf62b7ace",
   "metadata": {},
   "outputs": [
    {
     "name": "stdout",
     "output_type": "stream",
     "text": [
      "Pocket's esidues positions used for the structural alignment:\n"
     ]
    },
    {
     "data": {
      "text/plain": [
       "'8,9,10,11,12,13,14,15,16,17,18,19,30,31,32,33,64,65,79,80,81,82,83,84,85,86,87,88,89,90,129,130,131,132,133,134,143,144,145,146'"
      ]
     },
     "execution_count": 1,
     "metadata": {},
     "output_type": "execute_result"
    }
   ],
   "source": [
    "%run ../helper_modules/protein_subsequences.py\n",
    "print(\"Pocket's esidues positions used for the structural alignment:\")\n",
    "get_pocket_residues(sep = ',')"
   ]
  },
  {
   "cell_type": "markdown",
   "id": "54ba75c2-7035-4d2d-a489-9057986c568e",
   "metadata": {},
   "source": [
    "2. All conformations were aligned to the same reference structure: [1fin](https://www.rcsb.org/structure/1FIN)."
   ]
  },
  {
   "cell_type": "code",
   "execution_count": 2,
   "id": "d9656dd7-1cb9-48de-aceb-92a85aef4d89",
   "metadata": {},
   "outputs": [
    {
     "data": {
      "application/vnd.jupyter.widget-view+json": {
       "model_id": "140694b81d0b4ea1b1c08e169b872c3d",
       "version_major": 2,
       "version_minor": 0
      },
      "text/plain": []
     },
     "metadata": {},
     "output_type": "display_data"
    },
    {
     "data": {
      "application/vnd.jupyter.widget-view+json": {
       "model_id": "bdf28eec238f425b8296bd0c5f15662a",
       "version_major": 2,
       "version_minor": 0
      },
      "text/plain": [
       "NGLWidget(max_frame=401)"
      ]
     },
     "metadata": {},
     "output_type": "display_data"
    }
   ],
   "source": [
    "import pytraj as pyt\n",
    "import nglview as nv\n",
    "ens_traj = pyt.load('../3_Protein_Ensembles_Analysis/PDB_402_cdk2_POCKET_ALL.dcd',\n",
    "                    top = '../3_Protein_Ensembles_Analysis/1fin_ENS.pdb')\n",
    "nv.show_pytraj(ens_traj)"
   ]
  },
  {
   "cell_type": "markdown",
   "id": "9129acca-9d46-4544-883b-b16791738950",
   "metadata": {},
   "source": [
    "3. Docking was performed using [SMINA](https://github.com/mwojcikowski/smina), with the following parameters:\n",
    "    \n",
    "```shell\n",
    "# Search space\n",
    "  --center_x       -13.5\n",
    "  --center_y       207.5\n",
    "  --center_z       114.5\n",
    "  --size_x         26\n",
    "  --size_y         24\n",
    "  --size_z         22\n",
    "\n",
    "# Scoring and minimization options:\n",
    "  --scoring        \"vinardo\"\n",
    "  --factor         100\n",
    "  \n",
    "# Misc\n",
    "  --num_modes      3\n",
    "  --exhaustiveness 16\n",
    "```"
   ]
  },
  {
   "cell_type": "markdown",
   "id": "9254ed38-c418-4f1f-9bb3-72ffe74524c5",
   "metadata": {},
   "source": [
    "Finished!"
   ]
  }
 ],
 "metadata": {
  "kernelspec": {
   "display_name": "Python 3",
   "language": "python",
   "name": "python3"
  },
  "language_info": {
   "codemirror_mode": {
    "name": "ipython",
    "version": 3
   },
   "file_extension": ".py",
   "mimetype": "text/x-python",
   "name": "python",
   "nbconvert_exporter": "python",
   "pygments_lexer": "ipython3",
   "version": "3.7.9"
  },
  "toc": {
   "base_numbering": 1,
   "nav_menu": {},
   "number_sections": true,
   "sideBar": true,
   "skip_h1_title": false,
   "title_cell": "Table of Contents",
   "title_sidebar": "Contents",
   "toc_cell": false,
   "toc_position": {},
   "toc_section_display": true,
   "toc_window_display": true
  }
 },
 "nbformat": 4,
 "nbformat_minor": 5
}
