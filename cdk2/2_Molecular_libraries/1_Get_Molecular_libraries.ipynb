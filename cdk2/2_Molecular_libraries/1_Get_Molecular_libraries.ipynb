{
 "cells": [
  {
   "cell_type": "markdown",
   "metadata": {},
   "source": [
    "# Get Molecular Libraries\n",
    "\n",
    "- `obabel` is assumed to be installed: https://anaconda.org/openbabel/openbabel\n",
    "- Molecules will be exported into `sdf` and `mol2` formats for loading with `rdkit` and docking with [SMINA](https://sourceforge.net/projects/smina/), respectively."
   ]
  },
  {
   "cell_type": "code",
   "execution_count": 1,
   "metadata": {},
   "outputs": [],
   "source": [
    "import wget\n",
    "import gzip\n",
    "import shutil\n",
    "import tarfile\n",
    "import pandas as pd\n",
    "from glob import glob\n",
    "import subprocess as sp\n",
    "from pathlib import Path"
   ]
  },
  {
   "cell_type": "code",
   "execution_count": 2,
   "metadata": {},
   "outputs": [],
   "source": [
    "LIB_DIR = './datasets/'"
   ]
  },
  {
   "cell_type": "markdown",
   "metadata": {},
   "source": [
    "<h4 style='color: black; background-color: #F9E5AB; padding: 5px;'>\n",
    "    Important!\n",
    "</h4>\n",
    "\n",
    "- The `prot_name` is used to download the specific protein target's dataset.\n",
    "- To proceed with a new protein different to CDK2, FXa, EGFR, and HSP90, please double check the name of the protein as it appears in the respective dataset."
   ]
  },
  {
   "cell_type": "code",
   "execution_count": 3,
   "metadata": {},
   "outputs": [],
   "source": [
    "prot_name = 'cdk2'"
   ]
  },
  {
   "cell_type": "markdown",
   "metadata": {},
   "source": [
    "## DEKOIS 2.0\n",
    "\n",
    "Downloaded from: http://www.pharmchem.uni-tuebingen.de/dekois/"
   ]
  },
  {
   "cell_type": "code",
   "execution_count": 4,
   "metadata": {},
   "outputs": [],
   "source": [
    "# Datasets url\n",
    "DEKOIS_URL = 'http://www.pharmchem.uni-tuebingen.de/dekois/data/'\n",
    "dekois_actives_url = f'{DEKOIS_URL}/DEKOIS2_actives/{prot_name.upper()}.sdf.gz'\n",
    "dekois_decoys_url  = f'{DEKOIS_URL}/DEKOIS2_decoys/{prot_name.upper()}_Celling-v1.12_decoyset.sdf.gz'\n",
    "\n",
    "# Output directory\n",
    "DEKOIS_DIR = f'{LIB_DIR}/DEKOIS2/'\n",
    "Path(DEKOIS_DIR).mkdir(exist_ok = True, parents = True)\n",
    "\n",
    "# Download and extract each file\n",
    "for lib_set in [dekois_actives_url, dekois_decoys_url]:\n",
    "    # Download it\n",
    "    set_path = Path(DEKOIS_DIR, lib_set.split('/')[-1])\n",
    "    if not set_path.exists():\n",
    "        wget.download(lib_set, out = DEKOIS_DIR)\n",
    "\n",
    "    # Extract the files\n",
    "    with gzip.open(str(set_path)) as f_in, \\\n",
    "          open(str(set_path).split('.gz')[0], 'wb') as f_out:\n",
    "        shutil.copyfileobj(f_in, f_out)\n",
    "        \n",
    "# Create the output directories\n",
    "Path(f'{DEKOIS_DIR}/mol2').mkdir(exist_ok = True)\n",
    "Path(f'{DEKOIS_DIR}/sdf').mkdir(exist_ok = True)"
   ]
  },
  {
   "cell_type": "code",
   "execution_count": 4,
   "metadata": {},
   "outputs": [
    {
     "name": "stderr",
     "output_type": "stream",
     "text": [
      "40 molecules converted\n",
      "40 files output. The first is ./datasets//DEKOIS2//mol2/ligand_1.mol2\n",
      "1200 molecules converted\n",
      "1200 files output. The first is ./datasets//DEKOIS2//mol2/decoy_1.mol2\n"
     ]
    }
   ],
   "source": [
    "%%bash -s $DEKOIS_DIR \n",
    "# Split the molecules into individual files\n",
    "\n",
    "# MOL2 Files\n",
    "# Actives\n",
    "obabel $1/CDK2.sdf -O $1/mol2/ligand_.mol2 -m \n",
    "# Decoys\n",
    "obabel $1/CDK2_Celling-v1.12_decoyset.sdf -O $1/mol2/decoy_.mol2 -m \n",
    "\n",
    "# SDF Files\n",
    "# Actives\n",
    "obabel $1/CDK2.sdf -O $1/sdf/ligand_.sdf -m \n",
    "# Decoys\n",
    "obabel $1/CDK2_Celling-v1.12_decoyset.sdf -O $1/sdf/decoy_.sdf -m "
   ]
  },
  {
   "cell_type": "markdown",
   "metadata": {},
   "source": [
    "## DUD-2006\n",
    "\n",
    "Downloaded from: http://dud.docking.org/inhibox.html"
   ]
  },
  {
   "cell_type": "code",
   "execution_count": 5,
   "metadata": {},
   "outputs": [],
   "source": [
    "# Datasets url\n",
    "DUD_URL = 'http://dud.docking.org/inhibox/allDUDfiles_Gasteiger.tar.gz'\n",
    "\n",
    "# Output directory\n",
    "DUD_DIR = f'{LIB_DIR}/DUD/'\n",
    "Path(DUD_DIR).mkdir(exist_ok = True)\n",
    "\n",
    "# Download the file\n",
    "set_path = Path(DUD_DIR, DUD_URL.split('/')[-1])\n",
    "if not set_path.exists():\n",
    "    wget.download(DUD_URL, out = DUD_DIR)\n",
    "\n",
    "# Extract the molecules file\n",
    "with tarfile.open(str(set_path)) as t:\n",
    "    # ligands\n",
    "    ligands_file = f'{prot_name}_ligands_Gasteiger.mol2'\n",
    "    f_in = t.extract(f'allDUDfiles_Gasteiger/{ligands_file}', path = DUD_DIR)\n",
    "\n",
    "    # decoys \n",
    "    decoys_file = f'{prot_name}_decoys_Gasteiger.mol2'\n",
    "    f_in = t.extract(f'allDUDfiles_Gasteiger/{decoys_file}', path = DUD_DIR)\n",
    "\n",
    "# Create the output directories\n",
    "Path(f'{DUD_DIR}/mol2').mkdir(exist_ok = True)\n",
    "Path(f'{DUD_DIR}/sdf').mkdir(exist_ok = True)"
   ]
  },
  {
   "cell_type": "code",
   "execution_count": 6,
   "metadata": {},
   "outputs": [],
   "source": [
    "%%bash -s $DUD_DIR/allDUDfiles_Gasteiger $ligands_file $decoys_file\n",
    "# Split the molecules into individual files\n",
    "\n",
    "# MOL2 Files\n",
    "# Actives\n",
    "obabel $1/$2 -O $1/../mol2/ligand_.mol2 -m --gen3d\n",
    "# Decoys\n",
    "obabel $1/$3 -O $1/../mol2/decoy_.mol2 -m --gen3d\n",
    "\n",
    "# SDF Files\n",
    "# Actives\n",
    "obabel $1/$2 -O $1/../sdf/ligand_.sdf -m --gen3d\n",
    "# Decoys\n",
    "obabel $1/$3 -O $1/../sdf/decoy_.sdf -m --gen3d"
   ]
  },
  {
   "cell_type": "markdown",
   "metadata": {},
   "source": [
    "## CSAR Library\n",
    "\n",
    "Downloaded from: https://drugdesigndata.org/about/datasets/220\n",
    "\n",
    "```python\n",
    "# Install the openpyxl package to read the xlsx file \n",
    "!pip install openpyxl \n",
    "```"
   ]
  },
  {
   "cell_type": "code",
   "execution_count": 4,
   "metadata": {},
   "outputs": [
    {
     "name": "stderr",
     "output_type": "stream",
     "text": [
      "/Users/joelricci/miniconda/envs/mds/lib/python3.7/site-packages/openpyxl/worksheet/_reader.py:312: UserWarning: Unknown extension is not supported and will be removed\n",
      "  warn(msg)\n"
     ]
    }
   ],
   "source": [
    "# Download the CSAR dataset\n",
    "CSAR_URL = 'https://drugdesigndata.org/php/file-download.php?type=extended&id=99'\n",
    "\n",
    "# Output directory\n",
    "CSAR_DIR = f'{LIB_DIR}/CSAR/'\n",
    "Path(CSAR_DIR).mkdir(exist_ok = True)\n",
    "\n",
    "# Download the file\n",
    "set_path = Path(CSAR_DIR, \n",
    "                'CDK2_Binding_Data_Corrected_2016AUG18.xlsx.xlsx')\n",
    "if not set_path.exists():\n",
    "    wget.download(CSAR_URL, out = CSAR_DIR)\n",
    "    \n",
    "# Read the xlsx file and extract the SMILES\n",
    "csar_data = pd.read_excel(set_path, engine='openpyxl')\n",
    "csar_data[\"ActiveInactive\"].fillna(\"Active\", inplace=True)\n",
    "csar_data['activity'] = csar_data[\"ActiveInactive\"]\\\n",
    "                           .apply(lambda x: 1 if x == 'Active' else 0)\n",
    "# Drop null values\n",
    "csar_data.dropna(inplace = True, subset = ['Compound_ID'])\n",
    "# Save the dataset\n",
    "csar_data.to_csv(f'{CSAR_DIR}/csar_dataset.csv')\n",
    "# Clean SMILES column\n",
    "csar_data.SMILES = csar_data.SMILES.apply(lambda x: x.split(' ')[0])\n",
    "\n",
    "# Save the smiles to a text file\n",
    "csar_data[['SMILES', 'Compound_ID']]\\\n",
    "                .to_csv(f'{CSAR_DIR}/CSAR_SMILES.smi', \n",
    "                        header = False, index = False, sep = ' ')\n",
    "\n",
    "# Create the output directories\n",
    "Path(f'{CSAR_DIR}/mol2').mkdir(exist_ok = True)\n",
    "Path(f'{CSAR_DIR}/sdf').mkdir(exist_ok = True)"
   ]
  },
  {
   "cell_type": "code",
   "execution_count": 5,
   "metadata": {},
   "outputs": [
    {
     "name": "stderr",
     "output_type": "stream",
     "text": [
      "==============================\n",
      "*** Open Babel Error  in Do\n",
      "  3D coordinate generation failed\n",
      "==============================\n",
      "*** Open Babel Error  in Do\n",
      "  3D coordinate generation failed\n",
      "==============================\n",
      "*** Open Babel Error  in Do\n",
      "  3D coordinate generation failed\n",
      "==============================\n",
      "*** Open Babel Error  in Do\n",
      "  3D coordinate generation failed\n",
      "111 molecules converted\n",
      "111 files output. The first is ./datasets//CSAR//mol2/temp_1.mol2\n"
     ]
    }
   ],
   "source": [
    "%%bash -s $CSAR_DIR \n",
    "# Split the molecules into individual files\n",
    "# MOL2 Files\n",
    "obabel \\\n",
    "    -ismi $1/CSAR_SMILES.smi \\\n",
    "    -omol2 -O $1/mol2/temp_.mol2 -m \\\n",
    "    -p 7.0 --partialcharge gasteiger \\\n",
    "    --gen3d\n",
    "\n",
    "# Rename the molecules using the original name\n",
    "for lig in $1/mol2/*mol2;\n",
    "do\n",
    "    name=`head -n 2 $lig | tail -n 1`\n",
    "    path=${lig%/temp*mol2}\n",
    "    mv $lig $path/$name.mol2\n",
    "done"
   ]
  },
  {
   "cell_type": "code",
   "execution_count": 8,
   "metadata": {},
   "outputs": [
    {
     "name": "stderr",
     "output_type": "stream",
     "text": [
      "==============================\n",
      "*** Open Babel Error  in Do\n",
      "  3D coordinate generation failed\n",
      "==============================\n",
      "*** Open Babel Warning  in WriteMolecule\n",
      "  No 2D or 3D coordinates exist. Stereochemical information will be stored using an Open Babel extension. To generate 2D or 3D coordinates instead use --gen2D or --gen3D.\n",
      "==============================\n",
      "*** Open Babel Error  in Do\n",
      "  3D coordinate generation failed\n",
      "==============================\n",
      "*** Open Babel Warning  in WriteMolecule\n",
      "  No 2D or 3D coordinates exist. Stereochemical information will be stored using an Open Babel extension. To generate 2D or 3D coordinates instead use --gen2D or --gen3D.\n",
      "==============================\n",
      "*** Open Babel Error  in Do\n",
      "  3D coordinate generation failed\n",
      "==============================\n",
      "*** Open Babel Warning  in WriteMolecule\n",
      "  No 2D or 3D coordinates exist. Stereochemical information will be stored using an Open Babel extension. To generate 2D or 3D coordinates instead use --gen2D or --gen3D.\n",
      "==============================\n",
      "*** Open Babel Error  in Do\n",
      "  3D coordinate generation failed\n",
      "==============================\n",
      "*** Open Babel Warning  in WriteMolecule\n",
      "  No 2D or 3D coordinates exist. Stereochemical information will be stored using an Open Babel extension. To generate 2D or 3D coordinates instead use --gen2D or --gen3D.\n",
      "111 molecules converted\n",
      "111 files output. The first is ./datasets//CSAR//sdf/temp_1.sdf\n",
      "mv: rename ./datasets//CSAR//sdf/CS1.sdf to ./datasets//CSAR//sdf/CS1.sdf/CS1.sdf: Not a directory\n",
      "mv: rename ./datasets//CSAR//sdf/CS10.sdf to ./datasets//CSAR//sdf/CS10.sdf/CS10.sdf: Not a directory\n",
      "mv: rename ./datasets//CSAR//sdf/CS100.sdf to ./datasets//CSAR//sdf/CS100.sdf/CS100.sdf: Not a directory\n",
      "mv: rename ./datasets//CSAR//sdf/CS102.sdf to ./datasets//CSAR//sdf/CS102.sdf/CS102.sdf: Not a directory\n",
      "mv: rename ./datasets//CSAR//sdf/CS104.sdf to ./datasets//CSAR//sdf/CS104.sdf/CS104.sdf: Not a directory\n",
      "mv: rename ./datasets//CSAR//sdf/CS105.sdf to ./datasets//CSAR//sdf/CS105.sdf/CS105.sdf: Not a directory\n",
      "mv: rename ./datasets//CSAR//sdf/CS109.sdf to ./datasets//CSAR//sdf/CS109.sdf/CS109.sdf: Not a directory\n",
      "mv: rename ./datasets//CSAR//sdf/CS11.sdf to ./datasets//CSAR//sdf/CS11.sdf/CS11.sdf: Not a directory\n",
      "mv: rename ./datasets//CSAR//sdf/CS110.sdf to ./datasets//CSAR//sdf/CS110.sdf/CS110.sdf: Not a directory\n",
      "mv: rename ./datasets//CSAR//sdf/CS112.sdf to ./datasets//CSAR//sdf/CS112.sdf/CS112.sdf: Not a directory\n",
      "mv: rename ./datasets//CSAR//sdf/CS115.sdf to ./datasets//CSAR//sdf/CS115.sdf/CS115.sdf: Not a directory\n",
      "mv: rename ./datasets//CSAR//sdf/CS116.sdf to ./datasets//CSAR//sdf/CS116.sdf/CS116.sdf: Not a directory\n",
      "mv: rename ./datasets//CSAR//sdf/CS119.sdf to ./datasets//CSAR//sdf/CS119.sdf/CS119.sdf: Not a directory\n",
      "mv: rename ./datasets//CSAR//sdf/CS12.sdf to ./datasets//CSAR//sdf/CS12.sdf/CS12.sdf: Not a directory\n",
      "mv: rename ./datasets//CSAR//sdf/CS13.sdf to ./datasets//CSAR//sdf/CS13.sdf/CS13.sdf: Not a directory\n",
      "mv: rename ./datasets//CSAR//sdf/CS130.sdf to ./datasets//CSAR//sdf/CS130.sdf/CS130.sdf: Not a directory\n",
      "mv: rename ./datasets//CSAR//sdf/CS14.sdf to ./datasets//CSAR//sdf/CS14.sdf/CS14.sdf: Not a directory\n",
      "mv: rename ./datasets//CSAR//sdf/CS140.sdf to ./datasets//CSAR//sdf/CS140.sdf/CS140.sdf: Not a directory\n",
      "mv: rename ./datasets//CSAR//sdf/CS142.sdf to ./datasets//CSAR//sdf/CS142.sdf/CS142.sdf: Not a directory\n",
      "mv: rename ./datasets//CSAR//sdf/CS148.sdf to ./datasets//CSAR//sdf/CS148.sdf/CS148.sdf: Not a directory\n",
      "mv: rename ./datasets//CSAR//sdf/CS15.sdf to ./datasets//CSAR//sdf/CS15.sdf/CS15.sdf: Not a directory\n",
      "mv: rename ./datasets//CSAR//sdf/CS150.sdf to ./datasets//CSAR//sdf/CS150.sdf/CS150.sdf: Not a directory\n",
      "mv: rename ./datasets//CSAR//sdf/CS152.sdf to ./datasets//CSAR//sdf/CS152.sdf/CS152.sdf: Not a directory\n",
      "mv: rename ./datasets//CSAR//sdf/CS154.sdf to ./datasets//CSAR//sdf/CS154.sdf/CS154.sdf: Not a directory\n",
      "mv: rename ./datasets//CSAR//sdf/CS16.sdf to ./datasets//CSAR//sdf/CS16.sdf/CS16.sdf: Not a directory\n",
      "mv: rename ./datasets//CSAR//sdf/CS160.sdf to ./datasets//CSAR//sdf/CS160.sdf/CS160.sdf: Not a directory\n",
      "mv: rename ./datasets//CSAR//sdf/CS165.sdf to ./datasets//CSAR//sdf/CS165.sdf/CS165.sdf: Not a directory\n",
      "mv: rename ./datasets//CSAR//sdf/CS166.sdf to ./datasets//CSAR//sdf/CS166.sdf/CS166.sdf: Not a directory\n",
      "mv: rename ./datasets//CSAR//sdf/CS169.sdf to ./datasets//CSAR//sdf/CS169.sdf/CS169.sdf: Not a directory\n",
      "mv: rename ./datasets//CSAR//sdf/CS17.sdf to ./datasets//CSAR//sdf/CS17.sdf/CS17.sdf: Not a directory\n",
      "mv: rename ./datasets//CSAR//sdf/CS173.sdf to ./datasets//CSAR//sdf/CS173.sdf/CS173.sdf: Not a directory\n",
      "mv: rename ./datasets//CSAR//sdf/CS175.sdf to ./datasets//CSAR//sdf/CS175.sdf/CS175.sdf: Not a directory\n",
      "mv: rename ./datasets//CSAR//sdf/CS177.sdf to ./datasets//CSAR//sdf/CS177.sdf/CS177.sdf: Not a directory\n",
      "mv: rename ./datasets//CSAR//sdf/CS18.sdf to ./datasets//CSAR//sdf/CS18.sdf/CS18.sdf: Not a directory\n",
      "mv: rename ./datasets//CSAR//sdf/CS184.sdf to ./datasets//CSAR//sdf/CS184.sdf/CS184.sdf: Not a directory\n",
      "mv: rename ./datasets//CSAR//sdf/CS188.sdf to ./datasets//CSAR//sdf/CS188.sdf/CS188.sdf: Not a directory\n",
      "mv: rename ./datasets//CSAR//sdf/CS189.sdf to ./datasets//CSAR//sdf/CS189.sdf/CS189.sdf: Not a directory\n",
      "mv: rename ./datasets//CSAR//sdf/CS19.sdf to ./datasets//CSAR//sdf/CS19.sdf/CS19.sdf: Not a directory\n",
      "mv: rename ./datasets//CSAR//sdf/CS196.sdf to ./datasets//CSAR//sdf/CS196.sdf/CS196.sdf: Not a directory\n",
      "mv: rename ./datasets//CSAR//sdf/CS197.sdf to ./datasets//CSAR//sdf/CS197.sdf/CS197.sdf: Not a directory\n",
      "mv: rename ./datasets//CSAR//sdf/CS198.sdf to ./datasets//CSAR//sdf/CS198.sdf/CS198.sdf: Not a directory\n",
      "mv: rename ./datasets//CSAR//sdf/CS2.sdf to ./datasets//CSAR//sdf/CS2.sdf/CS2.sdf: Not a directory\n",
      "mv: rename ./datasets//CSAR//sdf/CS20.sdf to ./datasets//CSAR//sdf/CS20.sdf/CS20.sdf: Not a directory\n",
      "mv: rename ./datasets//CSAR//sdf/CS200.sdf to ./datasets//CSAR//sdf/CS200.sdf/CS200.sdf: Not a directory\n",
      "mv: rename ./datasets//CSAR//sdf/CS202.sdf to ./datasets//CSAR//sdf/CS202.sdf/CS202.sdf: Not a directory\n",
      "mv: rename ./datasets//CSAR//sdf/CS204.sdf to ./datasets//CSAR//sdf/CS204.sdf/CS204.sdf: Not a directory\n",
      "mv: rename ./datasets//CSAR//sdf/CS208.sdf to ./datasets//CSAR//sdf/CS208.sdf/CS208.sdf: Not a directory\n",
      "mv: rename ./datasets//CSAR//sdf/CS209.sdf to ./datasets//CSAR//sdf/CS209.sdf/CS209.sdf: Not a directory\n",
      "mv: rename ./datasets//CSAR//sdf/CS213.sdf to ./datasets//CSAR//sdf/CS213.sdf/CS213.sdf: Not a directory\n",
      "mv: rename ./datasets//CSAR//sdf/CS222.sdf to ./datasets//CSAR//sdf/CS222.sdf/CS222.sdf: Not a directory\n",
      "mv: rename ./datasets//CSAR//sdf/CS230.sdf to ./datasets//CSAR//sdf/CS230.sdf/CS230.sdf: Not a directory\n",
      "mv: rename ./datasets//CSAR//sdf/CS231.sdf to ./datasets//CSAR//sdf/CS231.sdf/CS231.sdf: Not a directory\n",
      "mv: rename ./datasets//CSAR//sdf/CS232.sdf to ./datasets//CSAR//sdf/CS232.sdf/CS232.sdf: Not a directory\n",
      "mv: rename ./datasets//CSAR//sdf/CS234.sdf to ./datasets//CSAR//sdf/CS234.sdf/CS234.sdf: Not a directory\n",
      "mv: rename ./datasets//CSAR//sdf/CS236.sdf to ./datasets//CSAR//sdf/CS236.sdf/CS236.sdf: Not a directory\n",
      "mv: rename ./datasets//CSAR//sdf/CS237.sdf to ./datasets//CSAR//sdf/CS237.sdf/CS237.sdf: Not a directory\n",
      "mv: rename ./datasets//CSAR//sdf/CS238.sdf to ./datasets//CSAR//sdf/CS238.sdf/CS238.sdf: Not a directory\n",
      "mv: rename ./datasets//CSAR//sdf/CS241.sdf to ./datasets//CSAR//sdf/CS241.sdf/CS241.sdf: Not a directory\n",
      "mv: rename ./datasets//CSAR//sdf/CS242.sdf to ./datasets//CSAR//sdf/CS242.sdf/CS242.sdf: Not a directory\n",
      "mv: rename ./datasets//CSAR//sdf/CS244.sdf to ./datasets//CSAR//sdf/CS244.sdf/CS244.sdf: Not a directory\n",
      "mv: rename ./datasets//CSAR//sdf/CS245.sdf to ./datasets//CSAR//sdf/CS245.sdf/CS245.sdf: Not a directory\n",
      "mv: rename ./datasets//CSAR//sdf/CS246.sdf to ./datasets//CSAR//sdf/CS246.sdf/CS246.sdf: Not a directory\n",
      "mv: rename ./datasets//CSAR//sdf/CS247.sdf to ./datasets//CSAR//sdf/CS247.sdf/CS247.sdf: Not a directory\n",
      "mv: rename ./datasets//CSAR//sdf/CS248.sdf to ./datasets//CSAR//sdf/CS248.sdf/CS248.sdf: Not a directory\n",
      "mv: rename ./datasets//CSAR//sdf/CS260.sdf to ./datasets//CSAR//sdf/CS260.sdf/CS260.sdf: Not a directory\n",
      "mv: rename ./datasets//CSAR//sdf/CS261.sdf to ./datasets//CSAR//sdf/CS261.sdf/CS261.sdf: Not a directory\n",
      "mv: rename ./datasets//CSAR//sdf/CS262.sdf to ./datasets//CSAR//sdf/CS262.sdf/CS262.sdf: Not a directory\n",
      "mv: rename ./datasets//CSAR//sdf/CS27.sdf to ./datasets//CSAR//sdf/CS27.sdf/CS27.sdf: Not a directory\n",
      "mv: rename ./datasets//CSAR//sdf/CS29.sdf to ./datasets//CSAR//sdf/CS29.sdf/CS29.sdf: Not a directory\n",
      "mv: rename ./datasets//CSAR//sdf/CS3.sdf to ./datasets//CSAR//sdf/CS3.sdf/CS3.sdf: Not a directory\n",
      "mv: rename ./datasets//CSAR//sdf/CS31.sdf to ./datasets//CSAR//sdf/CS31.sdf/CS31.sdf: Not a directory\n",
      "mv: rename ./datasets//CSAR//sdf/CS32.sdf to ./datasets//CSAR//sdf/CS32.sdf/CS32.sdf: Not a directory\n",
      "mv: rename ./datasets//CSAR//sdf/CS33.sdf to ./datasets//CSAR//sdf/CS33.sdf/CS33.sdf: Not a directory\n",
      "mv: rename ./datasets//CSAR//sdf/CS34.sdf to ./datasets//CSAR//sdf/CS34.sdf/CS34.sdf: Not a directory\n",
      "mv: rename ./datasets//CSAR//sdf/CS36.sdf to ./datasets//CSAR//sdf/CS36.sdf/CS36.sdf: Not a directory\n",
      "mv: rename ./datasets//CSAR//sdf/CS37.sdf to ./datasets//CSAR//sdf/CS37.sdf/CS37.sdf: Not a directory\n",
      "mv: rename ./datasets//CSAR//sdf/CS38.sdf to ./datasets//CSAR//sdf/CS38.sdf/CS38.sdf: Not a directory\n",
      "mv: rename ./datasets//CSAR//sdf/CS4.sdf to ./datasets//CSAR//sdf/CS4.sdf/CS4.sdf: Not a directory\n",
      "mv: rename ./datasets//CSAR//sdf/CS41.sdf to ./datasets//CSAR//sdf/CS41.sdf/CS41.sdf: Not a directory\n",
      "mv: rename ./datasets//CSAR//sdf/CS46.sdf to ./datasets//CSAR//sdf/CS46.sdf/CS46.sdf: Not a directory\n",
      "mv: rename ./datasets//CSAR//sdf/CS47.sdf to ./datasets//CSAR//sdf/CS47.sdf/CS47.sdf: Not a directory\n",
      "mv: rename ./datasets//CSAR//sdf/CS49.sdf to ./datasets//CSAR//sdf/CS49.sdf/CS49.sdf: Not a directory\n",
      "mv: rename ./datasets//CSAR//sdf/CS5.sdf to ./datasets//CSAR//sdf/CS5.sdf/CS5.sdf: Not a directory\n",
      "mv: rename ./datasets//CSAR//sdf/CS53.sdf to ./datasets//CSAR//sdf/CS53.sdf/CS53.sdf: Not a directory\n",
      "mv: rename ./datasets//CSAR//sdf/CS55.sdf to ./datasets//CSAR//sdf/CS55.sdf/CS55.sdf: Not a directory\n",
      "mv: rename ./datasets//CSAR//sdf/CS58.sdf to ./datasets//CSAR//sdf/CS58.sdf/CS58.sdf: Not a directory\n",
      "mv: rename ./datasets//CSAR//sdf/CS59.sdf to ./datasets//CSAR//sdf/CS59.sdf/CS59.sdf: Not a directory\n",
      "mv: rename ./datasets//CSAR//sdf/CS64.sdf to ./datasets//CSAR//sdf/CS64.sdf/CS64.sdf: Not a directory\n",
      "mv: rename ./datasets//CSAR//sdf/CS65.sdf to ./datasets//CSAR//sdf/CS65.sdf/CS65.sdf: Not a directory\n",
      "mv: rename ./datasets//CSAR//sdf/CS66.sdf to ./datasets//CSAR//sdf/CS66.sdf/CS66.sdf: Not a directory\n",
      "mv: rename ./datasets//CSAR//sdf/CS67.sdf to ./datasets//CSAR//sdf/CS67.sdf/CS67.sdf: Not a directory\n",
      "mv: rename ./datasets//CSAR//sdf/CS68.sdf to ./datasets//CSAR//sdf/CS68.sdf/CS68.sdf: Not a directory\n",
      "mv: rename ./datasets//CSAR//sdf/CS69.sdf to ./datasets//CSAR//sdf/CS69.sdf/CS69.sdf: Not a directory\n",
      "mv: rename ./datasets//CSAR//sdf/CS70.sdf to ./datasets//CSAR//sdf/CS70.sdf/CS70.sdf: Not a directory\n",
      "mv: rename ./datasets//CSAR//sdf/CS71.sdf to ./datasets//CSAR//sdf/CS71.sdf/CS71.sdf: Not a directory\n",
      "mv: rename ./datasets//CSAR//sdf/CS72.sdf to ./datasets//CSAR//sdf/CS72.sdf/CS72.sdf: Not a directory\n",
      "mv: rename ./datasets//CSAR//sdf/CS73.sdf to ./datasets//CSAR//sdf/CS73.sdf/CS73.sdf: Not a directory\n",
      "mv: rename ./datasets//CSAR//sdf/CS74.sdf to ./datasets//CSAR//sdf/CS74.sdf/CS74.sdf: Not a directory\n",
      "mv: rename ./datasets//CSAR//sdf/CS76.sdf to ./datasets//CSAR//sdf/CS76.sdf/CS76.sdf: Not a directory\n",
      "mv: rename ./datasets//CSAR//sdf/CS77.sdf to ./datasets//CSAR//sdf/CS77.sdf/CS77.sdf: Not a directory\n",
      "mv: rename ./datasets//CSAR//sdf/CS78.sdf to ./datasets//CSAR//sdf/CS78.sdf/CS78.sdf: Not a directory\n",
      "mv: rename ./datasets//CSAR//sdf/CS80.sdf to ./datasets//CSAR//sdf/CS80.sdf/CS80.sdf: Not a directory\n",
      "mv: rename ./datasets//CSAR//sdf/CS81.sdf to ./datasets//CSAR//sdf/CS81.sdf/CS81.sdf: Not a directory\n",
      "mv: rename ./datasets//CSAR//sdf/CS82.sdf to ./datasets//CSAR//sdf/CS82.sdf/CS82.sdf: Not a directory\n",
      "mv: rename ./datasets//CSAR//sdf/CS85.sdf to ./datasets//CSAR//sdf/CS85.sdf/CS85.sdf: Not a directory\n",
      "mv: rename ./datasets//CSAR//sdf/CS9.sdf to ./datasets//CSAR//sdf/CS9.sdf/CS9.sdf: Not a directory\n",
      "mv: rename ./datasets//CSAR//sdf/CS92.sdf to ./datasets//CSAR//sdf/CS92.sdf/CS92.sdf: Not a directory\n",
      "mv: rename ./datasets//CSAR//sdf/CS93.sdf to ./datasets//CSAR//sdf/CS93.sdf/CS93.sdf: Not a directory\n",
      "mv: rename ./datasets//CSAR//sdf/CS95.sdf to ./datasets//CSAR//sdf/CS95.sdf/CS95.sdf: Not a directory\n",
      "mv: rename ./datasets//CSAR//sdf/CS96.sdf to ./datasets//CSAR//sdf/CS96.sdf/CS96.sdf: Not a directory\n",
      "mv: rename ./datasets//CSAR//sdf/CS98.sdf to ./datasets//CSAR//sdf/CS98.sdf/CS98.sdf: Not a directory\n"
     ]
    }
   ],
   "source": [
    "%%bash -s $CSAR_DIR \n",
    "# Split the molecules into individual files\n",
    "# SDF Files\n",
    "obabel \\\n",
    "    -ismi $1/CSAR_SMILES.smi \\\n",
    "    -osdf -O $1/sdf/temp_.sdf -m \\\n",
    "    -p 7.0 --partialcharge gasteiger \\\n",
    "    --gen3d\n",
    "\n",
    "# Rename the molecules using the original name\n",
    "for lig in $1/sdf/*sdf;\n",
    "do\n",
    "    name=`head -n 1 $lig`\n",
    "    path=${lig%/temp*sdf}\n",
    "    mv $lig $path/$name.sdf\n",
    "done"
   ]
  },
  {
   "cell_type": "markdown",
   "metadata": {},
   "source": [
    "## Cocrystalized molecules\n",
    "Molecules obtained with the notebook `../1_Download_and_prepare_protein_ensembles/5_Get_cocrystalized_molecules_from_PDB`."
   ]
  },
  {
   "cell_type": "code",
   "execution_count": 9,
   "metadata": {},
   "outputs": [
    {
     "name": "stdout",
     "output_type": "stream",
     "text": [
      "140 unique compounds of 140 cocrystalized molecules\n"
     ]
    }
   ],
   "source": [
    "# Cocrystalized ligands directory\n",
    "DIR_MAIN      = '../1_Download_and_prepare_protein_ensembles/pdb_structures'\n",
    "DIR_PREP_LIGS = f'{DIR_MAIN}/pocket_ligands'\n",
    "\n",
    "\n",
    "# Output directory\n",
    "COCRYS_DIR = f'{LIB_DIR}/COCRYS/'\n",
    "Path(COCRYS_DIR).mkdir(exist_ok = True)\n",
    "\n",
    "# List all available files and create a \n",
    "# dictionary with the molecule name as key\n",
    "# Duplicates will be removed in futher notebooks\n",
    "list_of_files = sorted(glob(f'{DIR_PREP_LIGS}/*pdb'))\n",
    "cocrys_mols = {file.split('/')[-1].split('.pdb')[0]: file \n",
    "                 for file in list_of_files\n",
    "              }\n",
    "print(f'{len(cocrys_mols)} unique compounds of ' +\\\n",
    "      f'{len(list_of_files)} cocrystalized molecules')\n",
    "\n",
    "# MOL2 Files\n",
    "Path(f'{COCRYS_DIR}/mol2').mkdir(exist_ok = True)\n",
    "# Convert the molecules to mol2 using obabel\n",
    "for name, file in cocrys_mols.items():\n",
    "    sp.run(\n",
    "        f'''\n",
    "        obabel -ipdb {file} \\\n",
    "            -omol2 -O {COCRYS_DIR}/mol2/{name}.mol2 \\\n",
    "            -p 7.0 --gen3d --partialcharge gasteiger\n",
    "        ''',\n",
    "        shell = True\n",
    "    )\n",
    "\n",
    "# SDF Files\n",
    "Path(f'{COCRYS_DIR}/sdf').mkdir(exist_ok = True)\n",
    "# Convert the molecules to sdf using obabel\n",
    "for name, file in cocrys_mols.items():\n",
    "    sp.run(\n",
    "        f'''\n",
    "        obabel -ipdb {file} \\\n",
    "            -osdf -O {COCRYS_DIR}/sdf/{name}.sdf \\\n",
    "            -p 7.0 --gen3d --partialcharge gasteiger\n",
    "        ''',\n",
    "        shell = True\n",
    "    )"
   ]
  },
  {
   "cell_type": "markdown",
   "metadata": {},
   "source": [
    "Finished!"
   ]
  }
 ],
 "metadata": {
  "kernelspec": {
   "display_name": "Python 3",
   "language": "python",
   "name": "python3"
  },
  "language_info": {
   "codemirror_mode": {
    "name": "ipython",
    "version": 3
   },
   "file_extension": ".py",
   "mimetype": "text/x-python",
   "name": "python",
   "nbconvert_exporter": "python",
   "pygments_lexer": "ipython3",
   "version": "3.7.9"
  },
  "toc": {
   "base_numbering": 1,
   "nav_menu": {},
   "number_sections": true,
   "sideBar": true,
   "skip_h1_title": false,
   "title_cell": "Table of Contents",
   "title_sidebar": "Contents",
   "toc_cell": false,
   "toc_position": {},
   "toc_section_display": true,
   "toc_window_display": true
  }
 },
 "nbformat": 4,
 "nbformat_minor": 4
}
