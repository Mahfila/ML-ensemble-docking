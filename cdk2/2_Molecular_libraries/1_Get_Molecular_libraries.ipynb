{
 "cells": [
  {
   "cell_type": "markdown",
   "metadata": {},
   "source": [
    "# Get Molecular Libraries\n",
    "\n",
    "- `obabel` is assumed to be installed: https://anaconda.org/openbabel/openbabel\n",
    "- Molecules will be exported into `sdf` and `mol2` formats for loading with `rdkit` and docking with [SMINA](https://sourceforge.net/projects/smina/), respectively."
   ]
  },
  {
   "cell_type": "code",
   "execution_count": 1,
   "metadata": {},
   "outputs": [],
   "source": [
    "import wget\n",
    "import gzip\n",
    "import shutil\n",
    "import tarfile\n",
    "import pandas as pd\n",
    "from glob import glob\n",
    "import subprocess as sp\n",
    "from pathlib import Path"
   ]
  },
  {
   "cell_type": "code",
   "execution_count": 2,
   "metadata": {},
   "outputs": [],
   "source": [
    "LIB_DIR = './datasets/'"
   ]
  },
  {
   "cell_type": "markdown",
   "metadata": {},
   "source": [
    "## DEKOIS 2.0\n",
    "\n",
    "Downloaded from: http://www.pharmchem.uni-tuebingen.de/dekois/"
   ]
  },
  {
   "cell_type": "code",
   "execution_count": 4,
   "metadata": {},
   "outputs": [],
   "source": [
    "# Datasets url\n",
    "DEKOIS_URL = 'http://www.pharmchem.uni-tuebingen.de/dekois/data/'\n",
    "dekois_actives_url = f'{DEKOIS_URL}/DEKOIS2_actives/CDK2.sdf.gz'\n",
    "dekois_decoys_url  = f'{DEKOIS_URL}/DEKOIS2_decoys/CDK2_Celling-v1.12_decoyset.sdf.gz'\n",
    "\n",
    "# Output directory\n",
    "DEKOIS_DIR = f'{LIB_DIR}/DEKOIS2/'\n",
    "Path(DEKOIS_DIR).mkdir(exist_ok = True, parents = True)\n",
    "\n",
    "# Download and extract each file\n",
    "for lib_set in [dekois_actives_url, dekois_decoys_url]:\n",
    "    # Download it\n",
    "    set_path = Path(DEKOIS_DIR, lib_set.split('/')[-1])\n",
    "    if not set_path.exists():\n",
    "        wget.download(lib_set, out = DEKOIS_DIR)\n",
    "\n",
    "    # Extract the files\n",
    "    with gzip.open(str(set_path)) as f_in, \\\n",
    "          open(str(set_path).split('.gz')[0], 'wb') as f_out:\n",
    "        shutil.copyfileobj(f_in, f_out)\n",
    "        \n",
    "# Create the output directories\n",
    "Path(f'{DEKOIS_DIR}/mol2').mkdir(exist_ok = True)\n",
    "Path(f'{DEKOIS_DIR}/sdf').mkdir(exist_ok = True)"
   ]
  },
  {
   "cell_type": "code",
   "execution_count": 4,
   "metadata": {},
   "outputs": [
    {
     "name": "stderr",
     "output_type": "stream",
     "text": [
      "40 molecules converted\n",
      "40 files output. The first is ./datasets//DEKOIS2//mol2/ligand_1.mol2\n",
      "1200 molecules converted\n",
      "1200 files output. The first is ./datasets//DEKOIS2//mol2/decoy_1.mol2\n"
     ]
    }
   ],
   "source": [
    "%%bash -s $DEKOIS_DIR \n",
    "# Split the molecules into individual files\n",
    "\n",
    "# MOL2 Files\n",
    "# Actives\n",
    "obabel $1/CDK2.sdf -O $1/mol2/ligand_.mol2 -m \n",
    "# Decoys\n",
    "obabel $1/CDK2_Celling-v1.12_decoyset.sdf -O $1/mol2/decoy_.mol2 -m \n",
    "\n",
    "# SDF Files\n",
    "# Actives\n",
    "obabel $1/CDK2.sdf -O $1/sdf/ligand_.sdf -m \n",
    "# Decoys\n",
    "obabel $1/CDK2_Celling-v1.12_decoyset.sdf -O $1/sdf/decoy_.sdf -m "
   ]
  },
  {
   "cell_type": "markdown",
   "metadata": {},
   "source": [
    "## DUD-2006\n",
    "\n",
    "Downloaded from: http://dud.docking.org/inhibox.html"
   ]
  },
  {
   "cell_type": "code",
   "execution_count": 5,
   "metadata": {},
   "outputs": [],
   "source": [
    "# Datasets url\n",
    "DUD_URL = 'http://dud.docking.org/inhibox/allDUDfiles_Gasteiger.tar.gz'\n",
    "\n",
    "# Output directory\n",
    "DUD_DIR = f'{LIB_DIR}/DUD/'\n",
    "Path(DUD_DIR).mkdir(exist_ok = True)\n",
    "\n",
    "# Download the file\n",
    "set_path = Path(DUD_DIR, DUD_URL.split('/')[-1])\n",
    "if not set_path.exists():\n",
    "    wget.download(DUD_URL, out = DUD_DIR)\n",
    "\n",
    "# Extract the molecules file\n",
    "with tarfile.open(str(set_path)) as t:\n",
    "    # ligands\n",
    "    ligands_file = 'cdk2_ligands_Gasteiger.mol2'\n",
    "    f_in = t.extract(f'allDUDfiles_Gasteiger/{ligands_file}', path = DUD_DIR)\n",
    "\n",
    "    # decoys \n",
    "    decoys_file = 'cdk2_decoys_Gasteiger.mol2'\n",
    "    f_in = t.extract(f'allDUDfiles_Gasteiger/{decoys_file}', path = DUD_DIR)\n",
    "\n",
    "# Create the output directories\n",
    "Path(f'{DUD_DIR}/mol2').mkdir(exist_ok = True)\n",
    "Path(f'{DUD_DIR}/sdf').mkdir(exist_ok = True)"
   ]
  },
  {
   "cell_type": "code",
   "execution_count": 6,
   "metadata": {},
   "outputs": [],
   "source": [
    "%%bash -s $DUD_DIR/allDUDfiles_Gasteiger $ligands_file $decoys_file\n",
    "# Split the molecules into individual files\n",
    "\n",
    "# MOL2 Files\n",
    "# Actives\n",
    "obabel $1/$2 -O $1/../mol2/ligand_.mol2 -m --gen3d\n",
    "# Decoys\n",
    "obabel $1/$3 -O $1/../mol2/decoy_.mol2 -m --gen3d\n",
    "\n",
    "# SDF Files\n",
    "# Actives\n",
    "obabel $1/$2 -O $1/../sdf/ligand_.sdf -m --gen3d\n",
    "# Decoys\n",
    "obabel $1/$3 -O $1/../sdf/decoy_.sdf -m --gen3d"
   ]
  },
  {
   "cell_type": "markdown",
   "metadata": {},
   "source": [
    "## CSAR Library\n",
    "\n",
    "Downloaded from: https://drugdesigndata.org/about/datasets/220\n",
    "\n",
    "```python\n",
    "# Install the openpyxl package to read the xlsx file \n",
    "!pip install openpyxl \n",
    "```"
   ]
  },
  {
   "cell_type": "code",
   "execution_count": 7,
   "metadata": {},
   "outputs": [
    {
     "name": "stderr",
     "output_type": "stream",
     "text": [
      "/Users/joelricci/miniconda/envs/mds/lib/python3.7/site-packages/openpyxl/worksheet/_reader.py:312: UserWarning: Unknown extension is not supported and will be removed\n",
      "  warn(msg)\n"
     ]
    }
   ],
   "source": [
    "# Download the CSAR dataset\n",
    "CSAR_URL = 'https://drugdesigndata.org/php/file-download.php?type=extended&id=99'\n",
    "\n",
    "# Output directory\n",
    "CSAR_DIR = f'{LIB_DIR}/CSAR/'\n",
    "Path(CSAR_DIR).mkdir(exist_ok = True)\n",
    "\n",
    "# Download the file\n",
    "set_path = Path(CSAR_DIR, \n",
    "                'CDK2_Binding_Data_Corrected_2016AUG18.xlsx.xlsx')\n",
    "if not set_path.exists():\n",
    "    wget.download(CSAR_URL, out = CSAR_DIR)\n",
    "    \n",
    "# Read the xlsx file and extract the SMILES\n",
    "csar_data = pd.read_excel(set_path, engine='openpyxl')\n",
    "csar_data[\"ActiveInactive\"].fillna(\"Active\", inplace=True)\n",
    "csar_data['activity'] = csar_data[\"ActiveInactive\"]\\\n",
    "                           .apply(lambda x: 1 if x == 'Active' else 0)\n",
    "# Drop null values\n",
    "csar_data.dropna(inplace = True, subset = ['Compound_ID'])\n",
    "# Save the dataset\n",
    "csar_data.to_csv(f'{CSAR_DIR}/csar_dataset.csv')\n",
    "# Clean SMILES column\n",
    "csar_data.SMILES = csar_data.SMILES.apply(lambda x: x.split(' ')[0])\n",
    "\n",
    "# Save the smiles to a text file\n",
    "csar_data[['SMILES', 'Compound_ID']]\\\n",
    "                .to_csv(f'{CSAR_DIR}/CSAR_SMILES.smi', \n",
    "                        header = False, index = False, sep = ' ')\n",
    "\n",
    "# Create the output directories\n",
    "Path(f'{CSAR_DIR}/mol2').mkdir(exist_ok = True)\n",
    "Path(f'{CSAR_DIR}/sdf').mkdir(exist_ok = True)"
   ]
  },
  {
   "cell_type": "code",
   "execution_count": 8,
   "metadata": {},
   "outputs": [],
   "source": [
    "%%bash -s $CSAR_DIR \n",
    "# Split the molecules into individual files\n",
    "# MOL2 Files\n",
    "obabel \\\n",
    "    -ismi $1/CSAR_SMILES.smi \\\n",
    "    -omol2 -O $1/mol2/temp_.mol2 -m \\\n",
    "    -p 7.0 --partialcharge gasteiger \\\n",
    "    --gen3d\n",
    "\n",
    "# Rename the molecules using the original name\n",
    "for lig in $1/mol2/*mol2;\n",
    "do\n",
    "    name=`head -n 2 $lig | tail -n 1`\n",
    "    path=${lig%/temp*mol2}\n",
    "    mv $lig $path/$name.mol2\n",
    "done"
   ]
  },
  {
   "cell_type": "code",
   "execution_count": 9,
   "metadata": {},
   "outputs": [],
   "source": [
    "%%bash -s $CSAR_DIR \n",
    "# Split the molecules into individual files\n",
    "# SDF Files\n",
    "obabel \\\n",
    "    -ismi $1/CSAR_SMILES.smi \\\n",
    "    -osdf -O $1/sdf/temp_.sdf -m \\\n",
    "    -p 7.0 --partialcharge gasteiger \\\n",
    "    --gen3d\n",
    "\n",
    "Rename the molecules using the original name\n",
    "for lig in $1/sdf/*sdf;\n",
    "do\n",
    "    name=`head -n 1 $lig`\n",
    "    path=${lig%/temp*sdf}\n",
    "    mv $lig $path/$name.sdf\n",
    "done"
   ]
  },
  {
   "cell_type": "markdown",
   "metadata": {},
   "source": [
    "## Cocrystalized molecules\n",
    "Molecules obtained with the notebook `../1_Download_and_prepare_protein_ensembles/5_Get_cocrystalized_molecules_from_PDB`."
   ]
  },
  {
   "cell_type": "code",
   "execution_count": 5,
   "metadata": {},
   "outputs": [
    {
     "name": "stdout",
     "output_type": "stream",
     "text": [
      "140 unique compounds of 140 cocrystalized molecules\n"
     ]
    }
   ],
   "source": [
    "# Cocrystalized ligands directory\n",
    "DIR_MAIN      = '../1_Download_and_prepare_protein_ensembles/pdb_structures'\n",
    "DIR_PREP_LIGS = f'{DIR_MAIN}/pocket_ligands'\n",
    "\n",
    "\n",
    "# Output directory\n",
    "COCRYS_DIR = f'{LIB_DIR}/COCRYS/'\n",
    "Path(COCRYS_DIR).mkdir(exist_ok = True)\n",
    "\n",
    "# List all available files and create a \n",
    "# dictionary with the molecule name as key\n",
    "# Duplicates will be removed in futher notebooks\n",
    "list_of_files = sorted(glob(f'{DIR_PREP_LIGS}/*pdb'))\n",
    "cocrys_mols = {file.split('/')[-1].split('.pdb')[0]: file \n",
    "                 for file in list_of_files\n",
    "              }\n",
    "print(f'{len(cocrys_mols)} unique compounds of ' +\\\n",
    "      f'{len(list_of_files)} cocrystalized molecules')\n",
    "\n",
    "# MOL2 Files\n",
    "Path(f'{COCRYS_DIR}/mol2').mkdir(exist_ok = True)\n",
    "# Convert the molecules to mol2 using obabel\n",
    "for name, file in cocrys_mols.items():\n",
    "    sp.run(\n",
    "        f'''\n",
    "        obabel -ipdb {file} \\\n",
    "            -omol2 -O {COCRYS_DIR}/mol2/{name}.mol2 \\\n",
    "            -p 7.0 --gen3d --partialcharge gasteiger\n",
    "        ''',\n",
    "        shell = True\n",
    "    )\n",
    "\n",
    "# SDF Files\n",
    "Path(f'{COCRYS_DIR}/sdf').mkdir(exist_ok = True)\n",
    "# Convert the molecules to sdf using obabel\n",
    "for name, file in cocrys_mols.items():\n",
    "    sp.run(\n",
    "        f'''\n",
    "        obabel -ipdb {file} \\\n",
    "            -osdf -O {COCRYS_DIR}/sdf/{name}.sdf \\\n",
    "            -p 7.0 --gen3d --partialcharge gasteiger\n",
    "        ''',\n",
    "        shell = True\n",
    "    )"
   ]
  },
  {
   "cell_type": "markdown",
   "metadata": {},
   "source": [
    "Finished!"
   ]
  }
 ],
 "metadata": {
  "kernelspec": {
   "display_name": "Python 3",
   "language": "python",
   "name": "python3"
  },
  "language_info": {
   "codemirror_mode": {
    "name": "ipython",
    "version": 3
   },
   "file_extension": ".py",
   "mimetype": "text/x-python",
   "name": "python",
   "nbconvert_exporter": "python",
   "pygments_lexer": "ipython3",
   "version": "3.7.9"
  },
  "toc": {
   "base_numbering": 1,
   "nav_menu": {},
   "number_sections": true,
   "sideBar": true,
   "skip_h1_title": false,
   "title_cell": "Table of Contents",
   "title_sidebar": "Contents",
   "toc_cell": false,
   "toc_position": {},
   "toc_section_display": true,
   "toc_window_display": true
  }
 },
 "nbformat": 4,
 "nbformat_minor": 4
}
