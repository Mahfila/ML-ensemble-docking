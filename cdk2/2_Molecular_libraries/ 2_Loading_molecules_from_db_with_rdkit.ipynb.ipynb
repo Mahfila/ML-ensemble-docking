{
 "cells": [
  {
   "cell_type": "markdown",
   "id": "a985eeea-054b-4467-abef-287ae4a77204",
   "metadata": {},
   "source": [
    "# Load and process molecules with `rdkit`"
   ]
  },
  {
   "cell_type": "markdown",
   "id": "c445378e-bd5d-4952-99b6-1dcd58b7740a",
   "metadata": {},
   "source": [
    "This notebook does the following:\n",
    "- Molecules downloaded in the [previous notebook](./ 1_Get_Molecular_libraries.ipynb) are processed using `rdkit`.\n",
    "\n",
    "The output of this notebook is a the file `rdKit_db_molecules.obj`, which is a pandas data frame containing the rdkit object of each molecule."
   ]
  },
  {
   "cell_type": "code",
   "execution_count": 1,
   "id": "dfd78974-206f-43cf-9f6b-432124c1f411",
   "metadata": {},
   "outputs": [],
   "source": [
    "import pandas as pd\n",
    "import numpy as np\n",
    "from glob import glob\n",
    "from pathlib import Path\n",
    "from rdkit import Chem\n",
    "from rdkit.Chem import AllChem\n",
    "from rdkit import RDLogger\n",
    "RDLogger.DisableLog('rdApp.*')\n",
    "import sys\n",
    "sys.path.append('../..')\n",
    "from helper_modules.analyze_molecules_with_rdkit import *"
   ]
  },
  {
   "cell_type": "markdown",
   "id": "b731d492-283c-42c0-b968-25c67f3bea02",
   "metadata": {},
   "source": [
    "## DEKOIS Molecules"
   ]
  },
  {
   "cell_type": "code",
   "execution_count": 2,
   "id": "8aab5741-b773-4ac0-bf0e-418d96915dac",
   "metadata": {},
   "outputs": [
    {
     "data": {
      "text/html": [
       "<div>\n",
       "<style scoped>\n",
       "    .dataframe tbody tr th:only-of-type {\n",
       "        vertical-align: middle;\n",
       "    }\n",
       "\n",
       "    .dataframe tbody tr th {\n",
       "        vertical-align: top;\n",
       "    }\n",
       "\n",
       "    .dataframe thead th {\n",
       "        text-align: right;\n",
       "    }\n",
       "</style>\n",
       "<table border=\"1\" class=\"dataframe\">\n",
       "  <thead>\n",
       "    <tr style=\"text-align: right;\">\n",
       "      <th></th>\n",
       "      <th>Activity</th>\n",
       "      <th>mol_rdk</th>\n",
       "      <th>sanitized</th>\n",
       "    </tr>\n",
       "  </thead>\n",
       "  <tbody>\n",
       "    <tr>\n",
       "      <th>ligand_1</th>\n",
       "      <td>active</td>\n",
       "      <td>&lt;rdkit.Chem.rdchem.Mol object at 0x7f9f0d0db7b0&gt;</td>\n",
       "      <td>True</td>\n",
       "    </tr>\n",
       "    <tr>\n",
       "      <th>ligand_2</th>\n",
       "      <td>active</td>\n",
       "      <td>&lt;rdkit.Chem.rdchem.Mol object at 0x7f9f0d0db850&gt;</td>\n",
       "      <td>True</td>\n",
       "    </tr>\n",
       "    <tr>\n",
       "      <th>ligand_3</th>\n",
       "      <td>active</td>\n",
       "      <td>&lt;rdkit.Chem.rdchem.Mol object at 0x7f9f0d0db8a0&gt;</td>\n",
       "      <td>True</td>\n",
       "    </tr>\n",
       "    <tr>\n",
       "      <th>ligand_4</th>\n",
       "      <td>active</td>\n",
       "      <td>&lt;rdkit.Chem.rdchem.Mol object at 0x7f9f0d0db8f0&gt;</td>\n",
       "      <td>True</td>\n",
       "    </tr>\n",
       "    <tr>\n",
       "      <th>ligand_5</th>\n",
       "      <td>active</td>\n",
       "      <td>&lt;rdkit.Chem.rdchem.Mol object at 0x7f9f0d0db940&gt;</td>\n",
       "      <td>True</td>\n",
       "    </tr>\n",
       "  </tbody>\n",
       "</table>\n",
       "</div>"
      ],
      "text/plain": [
       "         Activity                                           mol_rdk sanitized\n",
       "ligand_1   active  <rdkit.Chem.rdchem.Mol object at 0x7f9f0d0db7b0>      True\n",
       "ligand_2   active  <rdkit.Chem.rdchem.Mol object at 0x7f9f0d0db850>      True\n",
       "ligand_3   active  <rdkit.Chem.rdchem.Mol object at 0x7f9f0d0db8a0>      True\n",
       "ligand_4   active  <rdkit.Chem.rdchem.Mol object at 0x7f9f0d0db8f0>      True\n",
       "ligand_5   active  <rdkit.Chem.rdchem.Mol object at 0x7f9f0d0db940>      True"
      ]
     },
     "execution_count": 2,
     "metadata": {},
     "output_type": "execute_result"
    }
   ],
   "source": [
    "sdf_input_path = './datasets/DEKOIS2/sdf/'\n",
    "\n",
    "list_sdf_files = get_files_list(sdf_input_path, actives_name='ligand')\n",
    "list_sdf_files\n",
    "df_DEKOIS = get_mol_dataframe(load_molecules_from_dir(list_sdf_files))\n",
    "df_DEKOIS.head()"
   ]
  },
  {
   "cell_type": "code",
   "execution_count": 3,
   "id": "280f5de4-07af-4ce7-a511-b7fac617c9ff",
   "metadata": {},
   "outputs": [
    {
     "data": {
      "image/png": "[encoded data removed]",
      "text/plain": [
       "<rdkit.Chem.rdchem.Mol at 0x7f9f0d0db8f0>"
      ]
     },
     "execution_count": 3,
     "metadata": {},
     "output_type": "execute_result"
    }
   ],
   "source": [
    "df_DEKOIS.loc['ligand_4', 'mol_rdk']"
   ]
  },
  {
   "cell_type": "markdown",
   "id": "c39f2b85-56f8-4122-be67-0296d8741ca5",
   "metadata": {},
   "source": [
    "## DUD 2006"
   ]
  },
  {
   "cell_type": "code",
   "execution_count": 4,
   "id": "ec3ae54b-072e-4355-a144-b3792fe1581f",
   "metadata": {},
   "outputs": [
    {
     "data": {
      "text/html": [
       "<div>\n",
       "<style scoped>\n",
       "    .dataframe tbody tr th:only-of-type {\n",
       "        vertical-align: middle;\n",
       "    }\n",
       "\n",
       "    .dataframe tbody tr th {\n",
       "        vertical-align: top;\n",
       "    }\n",
       "\n",
       "    .dataframe thead th {\n",
       "        text-align: right;\n",
       "    }\n",
       "</style>\n",
       "<table border=\"1\" class=\"dataframe\">\n",
       "  <thead>\n",
       "    <tr style=\"text-align: right;\">\n",
       "      <th></th>\n",
       "      <th>Activity</th>\n",
       "      <th>mol_rdk</th>\n",
       "      <th>sanitized</th>\n",
       "    </tr>\n",
       "  </thead>\n",
       "  <tbody>\n",
       "    <tr>\n",
       "      <th>ligand_1</th>\n",
       "      <td>active</td>\n",
       "      <td>&lt;rdkit.Chem.rdchem.Mol object at 0x7f9f0d123e40&gt;</td>\n",
       "      <td>True</td>\n",
       "    </tr>\n",
       "    <tr>\n",
       "      <th>ligand_2</th>\n",
       "      <td>active</td>\n",
       "      <td>&lt;rdkit.Chem.rdchem.Mol object at 0x7f9f0d123da0&gt;</td>\n",
       "      <td>True</td>\n",
       "    </tr>\n",
       "    <tr>\n",
       "      <th>ligand_3</th>\n",
       "      <td>active</td>\n",
       "      <td>&lt;rdkit.Chem.rdchem.Mol object at 0x7f9f0d123d00&gt;</td>\n",
       "      <td>True</td>\n",
       "    </tr>\n",
       "    <tr>\n",
       "      <th>ligand_4</th>\n",
       "      <td>active</td>\n",
       "      <td>&lt;rdkit.Chem.rdchem.Mol object at 0x7f9f0d123c60&gt;</td>\n",
       "      <td>True</td>\n",
       "    </tr>\n",
       "    <tr>\n",
       "      <th>ligand_5</th>\n",
       "      <td>active</td>\n",
       "      <td>&lt;rdkit.Chem.rdchem.Mol object at 0x7f9f0d123bc0&gt;</td>\n",
       "      <td>True</td>\n",
       "    </tr>\n",
       "  </tbody>\n",
       "</table>\n",
       "</div>"
      ],
      "text/plain": [
       "         Activity                                           mol_rdk sanitized\n",
       "ligand_1   active  <rdkit.Chem.rdchem.Mol object at 0x7f9f0d123e40>      True\n",
       "ligand_2   active  <rdkit.Chem.rdchem.Mol object at 0x7f9f0d123da0>      True\n",
       "ligand_3   active  <rdkit.Chem.rdchem.Mol object at 0x7f9f0d123d00>      True\n",
       "ligand_4   active  <rdkit.Chem.rdchem.Mol object at 0x7f9f0d123c60>      True\n",
       "ligand_5   active  <rdkit.Chem.rdchem.Mol object at 0x7f9f0d123bc0>      True"
      ]
     },
     "execution_count": 4,
     "metadata": {},
     "output_type": "execute_result"
    }
   ],
   "source": [
    "sdf_input_path = './datasets/DUD/sdf/'\n",
    "\n",
    "list_sdf_files = get_files_list(sdf_input_path, actives_name='ligand')\n",
    "df_DUD = get_mol_dataframe(load_molecules_from_dir(list_sdf_files))\n",
    "df_DUD.head()"
   ]
  },
  {
   "cell_type": "code",
   "execution_count": 5,
   "id": "bfb4ba14-3815-4ee9-b88c-0e8866336caf",
   "metadata": {},
   "outputs": [
    {
     "data": {
      "image/png": "[encoded data removed]",
      "text/plain": [
       "<rdkit.Chem.rdchem.Mol at 0x7f9f0d123c60>"
      ]
     },
     "execution_count": 5,
     "metadata": {},
     "output_type": "execute_result"
    }
   ],
   "source": [
    "df_DUD.loc['ligand_4', 'mol_rdk']"
   ]
  },
  {
   "cell_type": "markdown",
   "id": "1ff7afb3-e72d-42d3-af0a-738b1291d53b",
   "metadata": {},
   "source": [
    "## CSAR 2012 molecules"
   ]
  },
  {
   "cell_type": "code",
   "execution_count": 6,
   "id": "1062090e-f1e8-4b46-ad33-132e492c40a4",
   "metadata": {},
   "outputs": [
    {
     "data": {
      "text/html": [
       "<div>\n",
       "<style scoped>\n",
       "    .dataframe tbody tr th:only-of-type {\n",
       "        vertical-align: middle;\n",
       "    }\n",
       "\n",
       "    .dataframe tbody tr th {\n",
       "        vertical-align: top;\n",
       "    }\n",
       "\n",
       "    .dataframe thead th {\n",
       "        text-align: right;\n",
       "    }\n",
       "</style>\n",
       "<table border=\"1\" class=\"dataframe\">\n",
       "  <thead>\n",
       "    <tr style=\"text-align: right;\">\n",
       "      <th></th>\n",
       "      <th>Activity</th>\n",
       "      <th>mol_rdk</th>\n",
       "      <th>sanitized</th>\n",
       "    </tr>\n",
       "    <tr>\n",
       "      <th>Lig</th>\n",
       "      <th></th>\n",
       "      <th></th>\n",
       "      <th></th>\n",
       "    </tr>\n",
       "  </thead>\n",
       "  <tbody>\n",
       "    <tr>\n",
       "      <th>CS1</th>\n",
       "      <td>1</td>\n",
       "      <td>&lt;rdkit.Chem.rdchem.Mol object at 0x7f9f0d1848a0&gt;</td>\n",
       "      <td>True</td>\n",
       "    </tr>\n",
       "    <tr>\n",
       "      <th>CS2</th>\n",
       "      <td>1</td>\n",
       "      <td>&lt;rdkit.Chem.rdchem.Mol object at 0x7f9f0d184a80&gt;</td>\n",
       "      <td>True</td>\n",
       "    </tr>\n",
       "    <tr>\n",
       "      <th>CS3</th>\n",
       "      <td>1</td>\n",
       "      <td>&lt;rdkit.Chem.rdchem.Mol object at 0x7f9f0d184940&gt;</td>\n",
       "      <td>True</td>\n",
       "    </tr>\n",
       "    <tr>\n",
       "      <th>CS4</th>\n",
       "      <td>1</td>\n",
       "      <td>&lt;rdkit.Chem.rdchem.Mol object at 0x7f9f0d123f80&gt;</td>\n",
       "      <td>True</td>\n",
       "    </tr>\n",
       "    <tr>\n",
       "      <th>CS5</th>\n",
       "      <td>0</td>\n",
       "      <td>&lt;rdkit.Chem.rdchem.Mol object at 0x7f9f0d127120&gt;</td>\n",
       "      <td>True</td>\n",
       "    </tr>\n",
       "  </tbody>\n",
       "</table>\n",
       "</div>"
      ],
      "text/plain": [
       "     Activity                                           mol_rdk sanitized\n",
       "Lig                                                                      \n",
       "CS1         1  <rdkit.Chem.rdchem.Mol object at 0x7f9f0d1848a0>      True\n",
       "CS2         1  <rdkit.Chem.rdchem.Mol object at 0x7f9f0d184a80>      True\n",
       "CS3         1  <rdkit.Chem.rdchem.Mol object at 0x7f9f0d184940>      True\n",
       "CS4         1  <rdkit.Chem.rdchem.Mol object at 0x7f9f0d123f80>      True\n",
       "CS5         0  <rdkit.Chem.rdchem.Mol object at 0x7f9f0d127120>      True"
      ]
     },
     "execution_count": 6,
     "metadata": {},
     "output_type": "execute_result"
    }
   ],
   "source": [
    "sdf_input_path = './datasets/CSAR/sdf/'\n",
    "\n",
    "# Function to sort the molecules alphanumerically\n",
    "sort_function = lambda x: int(x.split('CS')[-1].split('.sdf')[0])\n",
    "# Get the list of files\n",
    "list_sdf_files = get_files_list(sdf_input_path, \n",
    "                                actives_name = '',\n",
    "                                inactives_name = '',\n",
    "                                sort_func = sort_function\n",
    "                               )\n",
    "# Get the dataframe with the rdkit objects\n",
    "df_CSAR = get_mol_dataframe(load_molecules_from_dir(list_sdf_files))\n",
    "\n",
    "# The `Activity` column is not correct, we will update it\n",
    "df_CSAR = df_CSAR.drop('Activity', axis = 1)\n",
    "df_CSAR.index = df_CSAR.index.set_names(['Compound_ID'])\n",
    "df_CSAR = df_CSAR.reset_index()\n",
    "\n",
    "# Include information about activity of the molecule\n",
    "csar_dat_file = (f'./datasets/CSAR/csar_dataset.csv') # Created in the previous notebook\n",
    "csar_data = pd.read_csv(csar_dat_file)\n",
    "\n",
    "# homogenize the df format\n",
    "df_CSAR = df_CSAR.merge(csar_data[['Compound_ID', 'activity']], on = 'Compound_ID')\n",
    "df_CSAR = df_CSAR.rename(columns = {'Compound_ID': 'Lig', 'activity': 'Activity'})\n",
    "df_CSAR = df_CSAR.set_index('Lig')\n",
    "df_CSAR = df_CSAR[['Activity', 'mol_rdk', 'sanitized']]\n",
    "df_CSAR.head()"
   ]
  },
  {
   "cell_type": "code",
   "execution_count": 7,
   "id": "f3bbce4e-7b23-44b4-a862-408555738d01",
   "metadata": {},
   "outputs": [
    {
     "data": {
      "image/png": "[encoded data removed]",
      "text/plain": [
       "<rdkit.Chem.rdchem.Mol at 0x7f9f0d184b20>"
      ]
     },
     "execution_count": 7,
     "metadata": {},
     "output_type": "execute_result"
    }
   ],
   "source": [
    "df_CSAR.loc['CS262', 'mol_rdk']"
   ]
  },
  {
   "cell_type": "markdown",
   "id": "9083f722-b2a4-44f9-b2ad-d700046dccf1",
   "metadata": {},
   "source": [
    "## Cocrystalized molecules"
   ]
  },
  {
   "cell_type": "code",
   "execution_count": 8,
   "id": "82495d68-3c8c-4c32-a8f8-cc0702e9da1d",
   "metadata": {},
   "outputs": [
    {
     "name": "stdout",
     "output_type": "stream",
     "text": [
      "Shape (315, 3)\n"
     ]
    },
    {
     "data": {
      "text/html": [
       "<div>\n",
       "<style scoped>\n",
       "    .dataframe tbody tr th:only-of-type {\n",
       "        vertical-align: middle;\n",
       "    }\n",
       "\n",
       "    .dataframe tbody tr th {\n",
       "        vertical-align: top;\n",
       "    }\n",
       "\n",
       "    .dataframe thead th {\n",
       "        text-align: right;\n",
       "    }\n",
       "</style>\n",
       "<table border=\"1\" class=\"dataframe\">\n",
       "  <thead>\n",
       "    <tr style=\"text-align: right;\">\n",
       "      <th></th>\n",
       "      <th>Activity</th>\n",
       "      <th>mol_rdk</th>\n",
       "      <th>sanitized</th>\n",
       "    </tr>\n",
       "    <tr>\n",
       "      <th>Lig</th>\n",
       "      <th></th>\n",
       "      <th></th>\n",
       "      <th></th>\n",
       "    </tr>\n",
       "  </thead>\n",
       "  <tbody>\n",
       "    <tr>\n",
       "      <th>STU</th>\n",
       "      <td>active</td>\n",
       "      <td>&lt;rdkit.Chem.rdchem.Mol object at 0x7f9f0e544f80&gt;</td>\n",
       "      <td>True</td>\n",
       "    </tr>\n",
       "    <tr>\n",
       "      <th>ATP</th>\n",
       "      <td>active</td>\n",
       "      <td>&lt;rdkit.Chem.rdchem.Mol object at 0x7f9f0e544ee0&gt;</td>\n",
       "      <td>True</td>\n",
       "    </tr>\n",
       "    <tr>\n",
       "      <th>PVB</th>\n",
       "      <td>active</td>\n",
       "      <td>&lt;rdkit.Chem.rdchem.Mol object at 0x7f9f0e544da0&gt;</td>\n",
       "      <td>True</td>\n",
       "    </tr>\n",
       "    <tr>\n",
       "      <th>DTQ</th>\n",
       "      <td>active</td>\n",
       "      <td>&lt;rdkit.Chem.rdchem.Mol object at 0x7f9f0e544d00&gt;</td>\n",
       "      <td>True</td>\n",
       "    </tr>\n",
       "    <tr>\n",
       "      <th>HMD</th>\n",
       "      <td>active</td>\n",
       "      <td>&lt;rdkit.Chem.rdchem.Mol object at 0x7f9f0e544620&gt;</td>\n",
       "      <td>False</td>\n",
       "    </tr>\n",
       "  </tbody>\n",
       "</table>\n",
       "</div>"
      ],
      "text/plain": [
       "    Activity                                           mol_rdk  sanitized\n",
       "Lig                                                                      \n",
       "STU   active  <rdkit.Chem.rdchem.Mol object at 0x7f9f0e544f80>       True\n",
       "ATP   active  <rdkit.Chem.rdchem.Mol object at 0x7f9f0e544ee0>       True\n",
       "PVB   active  <rdkit.Chem.rdchem.Mol object at 0x7f9f0e544da0>       True\n",
       "DTQ   active  <rdkit.Chem.rdchem.Mol object at 0x7f9f0e544d00>       True\n",
       "HMD   active  <rdkit.Chem.rdchem.Mol object at 0x7f9f0e544620>      False"
      ]
     },
     "execution_count": 8,
     "metadata": {},
     "output_type": "execute_result"
    }
   ],
   "source": [
    "# Path to SDF Files\n",
    "sdf_input_path = './datasets/COCRYS/sdf/'\n",
    "# Function to sort the molecules by their PDB id\n",
    "sort_function = lambda x: x.split('/')[-1].split('_')[0]\n",
    "# Get the list of files\n",
    "list_sdf_files = get_files_list(sdf_input_path, \n",
    "                                actives_name='LIG', \n",
    "                                sufix='', \n",
    "                                sort_func = sort_function\n",
    "                               )\n",
    "# Compute a dataframe with the molecules as rdkit objects\n",
    "df_pdi_lig = load_cocrys_molecules_from_dir(list_sdf_files)\n",
    "\n",
    "# Update the dataframe\n",
    "df_COCRYS = df_pdi_lig[['Lig', 'mol_rdk']]\n",
    "df_COCRYS['Activity'] = 'active'\n",
    "df_COCRYS['sanitized'] = [True if i != 'v3' else False for i in df_pdi_lig.validation]\n",
    "df_COCRYS = df_COCRYS[['Lig', 'Activity', 'mol_rdk', 'sanitized']]\n",
    "df_COCRYS = df_COCRYS.drop_duplicates('Lig').set_index('Lig')\n",
    "df_COCRYS.sanitized.value_counts()\n",
    "print('Shape', df_COCRYS.shape)\n",
    "df_COCRYS.head()"
   ]
  },
  {
   "cell_type": "code",
   "execution_count": 9,
   "id": "a4aec6ec-54f1-40c2-9b40-a5a140189d6d",
   "metadata": {
    "tags": []
   },
   "outputs": [
    {
     "data": {
      "image/png": "[encoded data removed]",
      "text/plain": [
       "<rdkit.Chem.rdchem.Mol at 0x7f9f0e544f80>"
      ]
     },
     "execution_count": 9,
     "metadata": {},
     "output_type": "execute_result"
    }
   ],
   "source": [
    "df_COCRYS.loc['STU', 'mol_rdk']"
   ]
  },
  {
   "cell_type": "markdown",
   "id": "9f34f21d-3444-4455-8c86-9d408e9faa6a",
   "metadata": {},
   "source": [
    "## Merge all dataframes"
   ]
  },
  {
   "cell_type": "code",
   "execution_count": 10,
   "id": "340d0257-f2b7-4ad6-b174-ce27f3bda35e",
   "metadata": {},
   "outputs": [
    {
     "data": {
      "text/plain": [
       "Index(['Activity', 'mol_rdk', 'sanitized'], dtype='object')"
      ]
     },
     "execution_count": 10,
     "metadata": {},
     "output_type": "execute_result"
    }
   ],
   "source": [
    "input_file = './rdKit_db_molecules.obj'\n",
    "df_mols = pd.read_pickle(input_file)\n",
    "\n",
    "df_mols.keys()"
   ]
  },
  {
   "cell_type": "code",
   "execution_count": 12,
   "id": "e5f10c75-597b-4d36-985d-f1c9b9a8e435",
   "metadata": {},
   "outputs": [
    {
     "data": {
      "text/html": [
       "<div>\n",
       "<style scoped>\n",
       "    .dataframe tbody tr th:only-of-type {\n",
       "        vertical-align: middle;\n",
       "    }\n",
       "\n",
       "    .dataframe tbody tr th {\n",
       "        vertical-align: top;\n",
       "    }\n",
       "\n",
       "    .dataframe thead th {\n",
       "        text-align: right;\n",
       "    }\n",
       "</style>\n",
       "<table border=\"1\" class=\"dataframe\">\n",
       "  <thead>\n",
       "    <tr style=\"text-align: right;\">\n",
       "      <th></th>\n",
       "      <th></th>\n",
       "      <th>Activity</th>\n",
       "      <th>mol_rdk</th>\n",
       "      <th>sanitized</th>\n",
       "    </tr>\n",
       "    <tr>\n",
       "      <th></th>\n",
       "      <th>Lig</th>\n",
       "      <th></th>\n",
       "      <th></th>\n",
       "      <th></th>\n",
       "    </tr>\n",
       "  </thead>\n",
       "  <tbody>\n",
       "    <tr>\n",
       "      <th rowspan=\"5\" valign=\"top\">COCRYS</th>\n",
       "      <th>STU</th>\n",
       "      <td>1</td>\n",
       "      <td>&lt;rdkit.Chem.rdchem.Mol object at 0x7f9f0e544f80&gt;</td>\n",
       "      <td>True</td>\n",
       "    </tr>\n",
       "    <tr>\n",
       "      <th>ATP</th>\n",
       "      <td>1</td>\n",
       "      <td>&lt;rdkit.Chem.rdchem.Mol object at 0x7f9f0e544ee0&gt;</td>\n",
       "      <td>True</td>\n",
       "    </tr>\n",
       "    <tr>\n",
       "      <th>PVB</th>\n",
       "      <td>1</td>\n",
       "      <td>&lt;rdkit.Chem.rdchem.Mol object at 0x7f9f0e544da0&gt;</td>\n",
       "      <td>True</td>\n",
       "    </tr>\n",
       "    <tr>\n",
       "      <th>DTQ</th>\n",
       "      <td>1</td>\n",
       "      <td>&lt;rdkit.Chem.rdchem.Mol object at 0x7f9f0e544d00&gt;</td>\n",
       "      <td>True</td>\n",
       "    </tr>\n",
       "    <tr>\n",
       "      <th>HMD</th>\n",
       "      <td>1</td>\n",
       "      <td>&lt;rdkit.Chem.rdchem.Mol object at 0x7f9f0e544620&gt;</td>\n",
       "      <td>False</td>\n",
       "    </tr>\n",
       "    <tr>\n",
       "      <th>...</th>\n",
       "      <th>...</th>\n",
       "      <td>...</td>\n",
       "      <td>...</td>\n",
       "      <td>...</td>\n",
       "    </tr>\n",
       "    <tr>\n",
       "      <th rowspan=\"5\" valign=\"top\">DUD</th>\n",
       "      <th>decoy_2070</th>\n",
       "      <td>0</td>\n",
       "      <td>&lt;rdkit.Chem.rdchem.Mol object at 0x7f9f0e565350&gt;</td>\n",
       "      <td>False</td>\n",
       "    </tr>\n",
       "    <tr>\n",
       "      <th>decoy_2071</th>\n",
       "      <td>0</td>\n",
       "      <td>&lt;rdkit.Chem.rdchem.Mol object at 0x7f9f0e5653f0&gt;</td>\n",
       "      <td>False</td>\n",
       "    </tr>\n",
       "    <tr>\n",
       "      <th>decoy_2072</th>\n",
       "      <td>0</td>\n",
       "      <td>&lt;rdkit.Chem.rdchem.Mol object at 0x7f9f0e565490&gt;</td>\n",
       "      <td>False</td>\n",
       "    </tr>\n",
       "    <tr>\n",
       "      <th>decoy_2073</th>\n",
       "      <td>0</td>\n",
       "      <td>&lt;rdkit.Chem.rdchem.Mol object at 0x7f9f0e565530&gt;</td>\n",
       "      <td>False</td>\n",
       "    </tr>\n",
       "    <tr>\n",
       "      <th>decoy_2074</th>\n",
       "      <td>0</td>\n",
       "      <td>&lt;rdkit.Chem.rdchem.Mol object at 0x7f9f0e5655d0&gt;</td>\n",
       "      <td>False</td>\n",
       "    </tr>\n",
       "  </tbody>\n",
       "</table>\n",
       "<p>3701 rows × 3 columns</p>\n",
       "</div>"
      ],
      "text/plain": [
       "                   Activity                                           mol_rdk  \\\n",
       "       Lig                                                                      \n",
       "COCRYS STU                1  <rdkit.Chem.rdchem.Mol object at 0x7f9f0e544f80>   \n",
       "       ATP                1  <rdkit.Chem.rdchem.Mol object at 0x7f9f0e544ee0>   \n",
       "       PVB                1  <rdkit.Chem.rdchem.Mol object at 0x7f9f0e544da0>   \n",
       "       DTQ                1  <rdkit.Chem.rdchem.Mol object at 0x7f9f0e544d00>   \n",
       "       HMD                1  <rdkit.Chem.rdchem.Mol object at 0x7f9f0e544620>   \n",
       "...                     ...                                               ...   \n",
       "DUD    decoy_2070         0  <rdkit.Chem.rdchem.Mol object at 0x7f9f0e565350>   \n",
       "       decoy_2071         0  <rdkit.Chem.rdchem.Mol object at 0x7f9f0e5653f0>   \n",
       "       decoy_2072         0  <rdkit.Chem.rdchem.Mol object at 0x7f9f0e565490>   \n",
       "       decoy_2073         0  <rdkit.Chem.rdchem.Mol object at 0x7f9f0e565530>   \n",
       "       decoy_2074         0  <rdkit.Chem.rdchem.Mol object at 0x7f9f0e5655d0>   \n",
       "\n",
       "                  sanitized  \n",
       "       Lig                   \n",
       "COCRYS STU             True  \n",
       "       ATP             True  \n",
       "       PVB             True  \n",
       "       DTQ             True  \n",
       "       HMD            False  \n",
       "...                     ...  \n",
       "DUD    decoy_2070     False  \n",
       "       decoy_2071     False  \n",
       "       decoy_2072     False  \n",
       "       decoy_2073     False  \n",
       "       decoy_2074     False  \n",
       "\n",
       "[3701 rows x 3 columns]"
      ]
     },
     "execution_count": 12,
     "metadata": {},
     "output_type": "execute_result"
    }
   ],
   "source": [
    "list_dfs = [df_COCRYS, df_DEKOIS, df_DUD]\n",
    "list_dfs_names = ['COCRYS', 'DEKOIS2', 'DUD']\n",
    "\n",
    "# Create the final dataframe\n",
    "df_all_libraries = pd.concat(list_dfs, keys = list_dfs_names)\n",
    "df_all_libraries['Activity'] = df_all_libraries['Activity']\\\n",
    "                                    .replace({'active': 1, 'inactive': 0})\n",
    "\n",
    "df_all_libraries"
   ]
  },
  {
   "cell_type": "code",
   "execution_count": 13,
   "id": "b7446e6c-e36c-4e82-bf27-0519553f41c3",
   "metadata": {},
   "outputs": [],
   "source": [
    "# Save the dataframe\n",
    "output_file = './rdKit_db_molecules.obj'\n",
    "if not Path(output_file).exists():\n",
    "    df_all_libraries.to_pickle(output_file)"
   ]
  }
 ],
 "metadata": {
  "kernelspec": {
   "display_name": "Python 3",
   "language": "python",
   "name": "python3"
  },
  "language_info": {
   "codemirror_mode": {
    "name": "ipython",
    "version": 3
   },
   "file_extension": ".py",
   "mimetype": "text/x-python",
   "name": "python",
   "nbconvert_exporter": "python",
   "pygments_lexer": "ipython3",
   "version": "3.7.9"
  },
  "toc": {
   "base_numbering": 1,
   "nav_menu": {},
   "number_sections": true,
   "sideBar": true,
   "skip_h1_title": false,
   "title_cell": "Table of Contents",
   "title_sidebar": "Contents",
   "toc_cell": false,
   "toc_position": {},
   "toc_section_display": true,
   "toc_window_display": true
  }
 },
 "nbformat": 4,
 "nbformat_minor": 5
}
