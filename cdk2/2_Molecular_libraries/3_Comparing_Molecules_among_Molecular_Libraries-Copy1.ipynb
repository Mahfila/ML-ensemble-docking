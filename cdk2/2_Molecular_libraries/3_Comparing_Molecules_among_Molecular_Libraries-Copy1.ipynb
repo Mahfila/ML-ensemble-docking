{
 "cells": [
  {
   "cell_type": "markdown",
   "id": "cc12e5cb-745d-44f7-b6cf-569792237d75",
   "metadata": {},
   "source": [
    "# Compute molecular descriptors using `rdkit`\n",
    "\n"
   ]
  },
  {
   "cell_type": "code",
   "execution_count": 1,
   "id": "53980335-99e9-44ca-8f6a-569525a99d30",
   "metadata": {},
   "outputs": [],
   "source": [
    "import pandas as pd\n",
    "import numpy as np\n",
    "import matplotlib.pyplot as plt\n",
    "import seaborn as sns\n",
    "import joblib\n",
    "from itertools import combinations\n",
    "\n",
    "from rdkit import Chem\n",
    "from rdkit import DataStructs\n",
    "from rdkit.Chem import Descriptors, Lipinski, rdMolDescriptors\n",
    "from rdkit.Chem.rdmolops import FastFindRings, GetFormalCharge"
   ]
  },
  {
   "cell_type": "code",
   "execution_count": 2,
   "id": "4e81e769-70c4-45dc-a962-1368da269058",
   "metadata": {},
   "outputs": [
    {
     "data": {
      "text/html": [
       "<div>\n",
       "<style scoped>\n",
       "    .dataframe tbody tr th:only-of-type {\n",
       "        vertical-align: middle;\n",
       "    }\n",
       "\n",
       "    .dataframe tbody tr th {\n",
       "        vertical-align: top;\n",
       "    }\n",
       "\n",
       "    .dataframe thead th {\n",
       "        text-align: right;\n",
       "    }\n",
       "</style>\n",
       "<table border=\"1\" class=\"dataframe\">\n",
       "  <thead>\n",
       "    <tr style=\"text-align: right;\">\n",
       "      <th></th>\n",
       "      <th>library</th>\n",
       "      <th>Lig</th>\n",
       "      <th>Activity</th>\n",
       "      <th>mol_rdk</th>\n",
       "      <th>sanitized</th>\n",
       "      <th>MW</th>\n",
       "      <th>num_atoms</th>\n",
       "      <th>num_rot</th>\n",
       "      <th>num_rings</th>\n",
       "      <th>charge</th>\n",
       "    </tr>\n",
       "  </thead>\n",
       "  <tbody>\n",
       "    <tr>\n",
       "      <th>0</th>\n",
       "      <td>COCRYS</td>\n",
       "      <td>STU</td>\n",
       "      <td>1</td>\n",
       "      <td>&lt;rdkit.Chem.rdchem.Mol object at 0x7fec4f567df0&gt;</td>\n",
       "      <td>True</td>\n",
       "      <td>465.533</td>\n",
       "      <td>35</td>\n",
       "      <td>2</td>\n",
       "      <td>8</td>\n",
       "      <td>1</td>\n",
       "    </tr>\n",
       "    <tr>\n",
       "      <th>1</th>\n",
       "      <td>COCRYS</td>\n",
       "      <td>ATP</td>\n",
       "      <td>1</td>\n",
       "      <td>&lt;rdkit.Chem.rdchem.Mol object at 0x7fec4f567e30&gt;</td>\n",
       "      <td>True</td>\n",
       "      <td>503.150</td>\n",
       "      <td>31</td>\n",
       "      <td>8</td>\n",
       "      <td>3</td>\n",
       "      <td>-4</td>\n",
       "    </tr>\n",
       "    <tr>\n",
       "      <th>2</th>\n",
       "      <td>COCRYS</td>\n",
       "      <td>PVB</td>\n",
       "      <td>1</td>\n",
       "      <td>&lt;rdkit.Chem.rdchem.Mol object at 0x7fec4f56b0b0&gt;</td>\n",
       "      <td>True</td>\n",
       "      <td>259.700</td>\n",
       "      <td>18</td>\n",
       "      <td>2</td>\n",
       "      <td>3</td>\n",
       "      <td>0</td>\n",
       "    </tr>\n",
       "    <tr>\n",
       "      <th>3</th>\n",
       "      <td>COCRYS</td>\n",
       "      <td>DTQ</td>\n",
       "      <td>1</td>\n",
       "      <td>&lt;rdkit.Chem.rdchem.Mol object at 0x7fec4f56b0f0&gt;</td>\n",
       "      <td>True</td>\n",
       "      <td>297.314</td>\n",
       "      <td>22</td>\n",
       "      <td>4</td>\n",
       "      <td>3</td>\n",
       "      <td>0</td>\n",
       "    </tr>\n",
       "    <tr>\n",
       "      <th>4</th>\n",
       "      <td>COCRYS</td>\n",
       "      <td>HMD</td>\n",
       "      <td>1</td>\n",
       "      <td>&lt;rdkit.Chem.rdchem.Mol object at 0x7fec4f56b170&gt;</td>\n",
       "      <td>False</td>\n",
       "      <td>323.130</td>\n",
       "      <td>19</td>\n",
       "      <td>0</td>\n",
       "      <td>3</td>\n",
       "      <td>0</td>\n",
       "    </tr>\n",
       "  </tbody>\n",
       "</table>\n",
       "</div>"
      ],
      "text/plain": [
       "  library  Lig  Activity                                           mol_rdk  \\\n",
       "0  COCRYS  STU         1  <rdkit.Chem.rdchem.Mol object at 0x7fec4f567df0>   \n",
       "1  COCRYS  ATP         1  <rdkit.Chem.rdchem.Mol object at 0x7fec4f567e30>   \n",
       "2  COCRYS  PVB         1  <rdkit.Chem.rdchem.Mol object at 0x7fec4f56b0b0>   \n",
       "3  COCRYS  DTQ         1  <rdkit.Chem.rdchem.Mol object at 0x7fec4f56b0f0>   \n",
       "4  COCRYS  HMD         1  <rdkit.Chem.rdchem.Mol object at 0x7fec4f56b170>   \n",
       "\n",
       "  sanitized       MW  num_atoms  num_rot  num_rings  charge  \n",
       "0      True  465.533         35        2          8       1  \n",
       "1      True  503.150         31        8          3      -4  \n",
       "2      True  259.700         18        2          3       0  \n",
       "3      True  297.314         22        4          3       0  \n",
       "4     False  323.130         19        0          3       0  "
      ]
     },
     "execution_count": 2,
     "metadata": {},
     "output_type": "execute_result"
    }
   ],
   "source": [
    "# Import the dataframe with all molecules\n",
    "input_file = './rdKit_db_molecules.obj'\n",
    "df_mols = pd.read_pickle(input_file)\n",
    "\n",
    "# Compute some molecular properties using rdkit\n",
    "df_mols['MW']        = df_mols['mol_rdk'].apply(Descriptors.MolWt)\n",
    "df_mols['num_atoms'] = df_mols['mol_rdk'].apply(Chem.Lipinski.HeavyAtomCount)\n",
    "# Initialize ringInfo\n",
    "df_mols['mol_rdk'].apply(FastFindRings)\n",
    "df_mols['num_rot']   = df_mols['mol_rdk'].apply(Chem.Lipinski.NumRotatableBonds)\n",
    "df_mols['num_rings'] = df_mols['mol_rdk'].apply(rdMolDescriptors.CalcNumRings)\n",
    "df_mols['charge']    = df_mols['mol_rdk'].apply(GetFormalCharge)\n",
    "\n",
    "# Reset the index to simplify working with each library\n",
    "df_mols = df_mols.reset_index()\n",
    "df_mols = df_mols.rename({'level_0': 'library'}, axis = 'columns')\n",
    "\n",
    "# Healthy inspection\n",
    "df_mols.head()"
   ]
  },
  {
   "cell_type": "markdown",
   "id": "e4491c1e-79b4-4188-b3b2-efd923141739",
   "metadata": {},
   "source": [
    "How many actives are there in each molecular library?"
   ]
  },
  {
   "cell_type": "code",
   "execution_count": 3,
   "id": "551cab56-10c4-4cb6-923b-c33101c11fbf",
   "metadata": {},
   "outputs": [
    {
     "data": {
      "text/plain": [
       "library  Activity\n",
       "COCRYS   1            315\n",
       "CSAR     0             85\n",
       "         1             26\n",
       "DEKOIS2  0           1200\n",
       "         1             40\n",
       "DUD      0           2074\n",
       "         1             72\n",
       "Name: Activity, dtype: int64"
      ]
     },
     "metadata": {},
     "output_type": "display_data"
    }
   ],
   "source": [
    "display(df_mols\\\n",
    "            .groupby('library')['Activity']\\\n",
    "            .value_counts()\n",
    "       )"
   ]
  },
  {
   "cell_type": "markdown",
   "id": "d5bd8819-6ec3-40ef-a9ab-8a7d4fa5ea8b",
   "metadata": {},
   "source": [
    "## Compute molecular descriptors"
   ]
  },
  {
   "cell_type": "code",
   "execution_count": 4,
   "id": "eeaf2c19-6c75-40ab-b890-06de186e4834",
   "metadata": {},
   "outputs": [],
   "source": [
    "from rdkit.Chem import MACCSkeys\n",
    "from rdkit.Chem.AllChem import GetMorganFingerprintAsBitVect\n",
    "from rdkit.Chem import DataStructs"
   ]
  },
  {
   "cell_type": "code",
   "execution_count": 5,
   "id": "80d87170-bccb-4d24-8328-df4a677880f3",
   "metadata": {},
   "outputs": [],
   "source": [
    "# Define a helper function to return a fingerprint matrix\n",
    "def fps_to_array(fps, drop_constant_cols=True):\n",
    "    '''Convert a list of molecular fingerprints into a \n",
    "       numpy m*n ndarray, where n = # molecules and n = # fps'''\n",
    "    def fp2arr(fp):\n",
    "        arr = np.zeros((0,))\n",
    "        DataStructs.ConvertToNumpyArray(fp, arr)\n",
    "        return arr\n",
    "    X = np.asarray([fp2arr(fp) for fp in fps])\n",
    "    if drop_constant_cols:\n",
    "        X = pd.DataFrame(X)\n",
    "        X = X.loc[:, X.var() != 0.0] \n",
    "    return X "
   ]
  },
  {
   "cell_type": "markdown",
   "id": "59fcbebb-c0cb-495a-837a-dbd56326fece",
   "metadata": {},
   "source": [
    "#### MACCS Fingerprints"
   ]
  },
  {
   "cell_type": "code",
   "execution_count": 6,
   "id": "85b2a20a-a529-4869-9a00-4ecdf9c541a4",
   "metadata": {},
   "outputs": [
    {
     "name": "stdout",
     "output_type": "stream",
     "text": [
      "MACCS Fps: (3812, 147)\n"
     ]
    }
   ],
   "source": [
    "# Compute Maccs Fingerprints\n",
    "fps_all_maccs = [MACCSkeys.GenMACCSKeys(i) \n",
    "                 for i in df_mols.mol_rdk]\n",
    "X_all_maccs = fps_to_array(fps_all_maccs)\n",
    "\n",
    "print(\"MACCS Fps:\", X_all_maccs.shape)"
   ]
  },
  {
   "cell_type": "markdown",
   "id": "0af6b9a0-7d88-4d4d-ab1f-3e49af327a9f",
   "metadata": {},
   "source": [
    "#### Morgan Fingerprints\n"
   ]
  },
  {
   "cell_type": "code",
   "execution_count": 7,
   "id": "42fc0b47-dace-4136-879b-7d2a6f2a8336",
   "metadata": {},
   "outputs": [
    {
     "name": "stdout",
     "output_type": "stream",
     "text": [
      "Morgan Fps: (3812, 2048)\n"
     ]
    }
   ],
   "source": [
    "# Compute Morgan Fingerprints\n",
    "fps_all_morgan = [GetMorganFingerprintAsBitVect(i, radius=2) \n",
    "                  for i in df_mols.mol_rdk]\n",
    "X_all_morgan = fps_to_array(fps_all_morgan)\n",
    "\n",
    "print(\"Morgan Fps:\", X_all_morgan.shape)"
   ]
  },
  {
   "cell_type": "markdown",
   "id": "899852d8-30cf-4284-999f-d2d86e282fb6",
   "metadata": {},
   "source": [
    "#### RDKFingerprints"
   ]
  },
  {
   "cell_type": "code",
   "execution_count": 8,
   "id": "d920bff6-920b-484b-9abb-22891b7a5ff1",
   "metadata": {},
   "outputs": [
    {
     "name": "stdout",
     "output_type": "stream",
     "text": [
      "RDKit Fps: (3812, 2048)\n"
     ]
    }
   ],
   "source": [
    "# Compute RDKit Fingerprints\n",
    "fps_all_rdk = [Chem.RDKFingerprint(i) \n",
    "               for i in df_mols.mol_rdk]\n",
    "X_all_rdk = fps_to_array(fps_all_rdk)\n",
    "\n",
    "print(\"RDKit Fps:\", X_all_rdk.shape)"
   ]
  },
  {
   "cell_type": "markdown",
   "id": "d37dc095-53c2-4ebd-8e5e-97a93adfeba9",
   "metadata": {},
   "source": [
    "#### Physiological Properties\n",
    "**DUD:**\n",
    "1. Mol. Weight\n",
    "2. Log P\n",
    "3. number Hb acceptors \n",
    "4. number Hb donnors\n",
    "5. number Rotatable bonds\n",
    "\n",
    "**DEKOIS 2.0:**\n",
    "1. molecular weight\n",
    "2. logP\n",
    "3. number of hydrogen bond donors\n",
    "4. number of hydrogen bond acceptors\n",
    "5. number of rotatable bonds\n",
    "6. population of negatively charged states\n",
    "7. population of positively charged states\n",
    "8. number of aromatic rings."
   ]
  },
  {
   "cell_type": "code",
   "execution_count": 9,
   "id": "e0f47af5-2547-4c4a-aad4-4d6f230f1064",
   "metadata": {},
   "outputs": [],
   "source": [
    "from rdkit.Chem import rdPartialCharges\n",
    "from rdkit.ML.Descriptors import MoleculeDescriptors\n",
    "\n",
    "def get_num_charges(mol):\n",
    "    '''A simple function to count the number of \n",
    "       positive and negative charges of a given molecule'''\n",
    "    mol.ComputeGasteigerCharges()\n",
    "    n = mol.GetNumAtoms()\n",
    "    charges = np.array(\n",
    "        [float(mol.GetAtomWithIdx(i)\\\n",
    "        .GetProp('_GasteigerCharge')) for i in range(n)])\n",
    "    n_pos = np.sum(charges >= 0)\n",
    "    n_neg = np.sum(charges < 0)\n",
    "    return (n_pos, n_neg)"
   ]
  },
  {
   "cell_type": "code",
   "execution_count": 10,
   "id": "35fca53f-e1ad-4211-a8e6-9495b389cc5a",
   "metadata": {},
   "outputs": [
    {
     "name": "stdout",
     "output_type": "stream",
     "text": [
      "Phy. Properties: (3812, 8)\n"
     ]
    }
   ],
   "source": [
    "descriptors = ['MolWt', \n",
    "               'MolLogP', \n",
    "               'NumHAcceptors', \n",
    "               'NumHDonors', \n",
    "               'NumRotatableBonds', \n",
    "               'NumAromaticRings']\n",
    "\n",
    "# Define a rdkit molecular descriptors calculator\n",
    "rdk_calculator = MoleculeDescriptors\\\n",
    "                    .MolecularDescriptorCalculator(descriptors)\n",
    "\n",
    "# Compute the first six descriptors\n",
    "df_phy_desc =  pd.DataFrame(\n",
    "                   df_mols.mol_rdk\\\n",
    "                          .apply(\n",
    "                              rdk_calculator.CalcDescriptors\n",
    "                           ).to_list(), \n",
    "                  columns = descriptors,\n",
    "                  index = df_mols['library'])\n",
    "\n",
    "# Now compute the number of charges\n",
    "df_charges = pd.DataFrame(df_mols.mol_rdk\\\n",
    "             .apply(get_num_charges).tolist(), \n",
    "             columns = ('NumPositiveChr', 'NumNegativeChr'),\n",
    "             index = df_mols['library'])\n",
    "\n",
    "X_all_phy = pd.concat([df_phy_desc, df_charges], axis=1)\n",
    "\n",
    "print(\"Phy. Properties:\", X_all_phy.shape)"
   ]
  },
  {
   "cell_type": "markdown",
   "id": "6a0e9b0f-7cad-4d9a-9993-6374b2cd8ccf",
   "metadata": {},
   "source": [
    "## Find duplicated molecules using Morgan Fingerprints"
   ]
  },
  {
   "cell_type": "code",
   "execution_count": 11,
   "id": "d170ca50-c230-4ad4-930a-36fe5d78d73d",
   "metadata": {},
   "outputs": [],
   "source": [
    "%run ../helper_modules/run_or_load.py"
   ]
  },
  {
   "cell_type": "code",
   "execution_count": 12,
   "id": "42a23d22-aa89-4e8f-9e36-27adffd3b62b",
   "metadata": {},
   "outputs": [],
   "source": [
    "@run_or_load\n",
    "def find_duplicated_molecules(filename, df, \n",
    "                              fps, sim_thr = 1):\n",
    "    '''\n",
    "    A helper function to identify duplicated molecules \n",
    "    regarding to a set of molecular descriptors and a \n",
    "    similarity threshold\n",
    "    '''\n",
    "    indices = df.index.values\n",
    "    names = df.Lig.values\n",
    "    mols = df.mol_rdk.values\n",
    "    libraries = df.library.values\n",
    "\n",
    "    matched_molecules = []\n",
    "    for j, k in combinations(df.index.values, 2):\n",
    "        fp_sim = DataStructs.FingerprintSimilarity(fps[j], fps[k],\n",
    "                       metric = DataStructs.TanimotoSimilarity)\n",
    "        if fp_sim == sim_thr:\n",
    "           matched_molecules.append( \n",
    "               (names[j], names[k], \n",
    "                libraries[j] + '_' + libraries[k],\n",
    "                names[j] + '$' + libraries[j],\n",
    "                names[k] + '$' + libraries[k]\n",
    "               )\n",
    "           )\n",
    "    # Create a dataframe\n",
    "    df_matched_mols = pd.DataFrame(\n",
    "                         matched_molecules, \n",
    "                         columns = ['mol1', 'mol2', \n",
    "                                    'libraries', 'mol1_lib1', \n",
    "                                    'mol2_lib2'])\n",
    "    return df_matched_mols"
   ]
  },
  {
   "cell_type": "markdown",
   "id": "ae2a3180-b2ea-4185-a98e-fd2578bf8b3b",
   "metadata": {},
   "source": [
    "##### Identify the molecules that appear in more than one library"
   ]
  },
  {
   "cell_type": "code",
   "execution_count": 13,
   "id": "db93c41b-7d26-4dc8-9ec2-b84a32658182",
   "metadata": {},
   "outputs": [
    {
     "name": "stdout",
     "output_type": "stream",
     "text": [
      "File saved: ./df_unique_mols_among_libraries.obj\n",
      "CPU times: user 50.2 s, sys: 235 ms, total: 50.4 s\n",
      "Wall time: 50.9 s\n"
     ]
    }
   ],
   "source": [
    "%%time\n",
    "# Identify the molecules that appear in more than one library\n",
    "# We will use the Morgan Fingerprints\n",
    "file_unique_mols = './df_unique_mols_among_libraries.obj'\n",
    "df_unique_mols   = find_duplicated_molecules(\n",
    "                        filename = file_unique_mols, \n",
    "                        df = df_mols, \n",
    "                        fps = fps_all_morgan\n",
    "                       )\n",
    "# Sort by library and by mol colum\n",
    "df_unique_mols.sort_values(['libraries', 'mol1'], inplace=True)"
   ]
  },
  {
   "cell_type": "code",
   "execution_count": 14,
   "id": "9e93435d-e5a2-4fbd-8018-b3592c726a69",
   "metadata": {},
   "outputs": [],
   "source": [
    "# Set of all repeated molecules\n",
    "unique_repeated_mols = set(df_unique_mols.mol2_lib2.unique().tolist() + \\\n",
    "                           df_unique_mols.mol1_lib1.unique().tolist())"
   ]
  },
  {
   "cell_type": "code",
   "execution_count": 15,
   "id": "f325ca1d-8e79-4b7f-9e9a-98f0d4712899",
   "metadata": {},
   "outputs": [
    {
     "name": "stdout",
     "output_type": "stream",
     "text": [
      "- There are 478 pairs of duplicated molecules = 956 molecules.\n",
      "- 860 are decoys.\n",
      "- Among all duplicates 390 mols are different (as judged by the Descriptors).\n"
     ]
    }
   ],
   "source": [
    "print('- There are', \n",
    "      df_unique_mols.shape[0], \n",
    "      'pairs of duplicated molecules =', \n",
    "      df_unique_mols.shape[0]*2, \n",
    "      'molecules.')\n",
    "\n",
    "print('-', df_unique_mols.mol1.str.contains('^decoy').sum() + \n",
    "      df_unique_mols.mol2.str.contains('^decoy').sum(), 'are decoys.')\n",
    "\n",
    "print('- Among all duplicates', len(df_unique_mols.mol2_lib2.unique()),  \n",
    "      'mols are different (as judged by the Descriptors).')"
   ]
  },
  {
   "cell_type": "code",
   "execution_count": 16,
   "id": "fe55dc11-656f-49cf-a740-4908154a2b33",
   "metadata": {},
   "outputs": [
    {
     "data": {
      "text/plain": [
       "COCRYS_COCRYS        2\n",
       "COCRYS_CSAR         10\n",
       "COCRYS_DEKOIS2       1\n",
       "COCRYS_DUD          18\n",
       "DEKOIS2_DEKOIS2      3\n",
       "DEKOIS2_DUD          4\n",
       "DUD_DUD            440\n",
       "Name: libraries, dtype: int64"
      ]
     },
     "execution_count": 16,
     "metadata": {},
     "output_type": "execute_result"
    }
   ],
   "source": [
    "df_unique_mols['libraries'].value_counts().sort_index()"
   ]
  },
  {
   "cell_type": "markdown",
   "id": "5336c2d1-bc97-4103-8d74-da81fd15455e",
   "metadata": {},
   "source": [
    "### Update Data frames by removing repeated molecules\n",
    "\n",
    "- We kept molecules from the second column to avoid keep COCRYS molecules over other libraries "
   ]
  },
  {
   "cell_type": "code",
   "execution_count": 17,
   "id": "f236fd39-ff32-4d61-9ac0-de31ab169d37",
   "metadata": {},
   "outputs": [],
   "source": [
    "def drop_repeated_mols(df, mols_to_drop, temp_index):\n",
    "    '''Helper function to drop molecules of a given dataframe.'''\n",
    "    temp_df = df.copy()\n",
    "    temp_df['temp_index'] = temp_index\n",
    "    temp_df = temp_df.set_index('temp_index')\n",
    "    # drop molecules\n",
    "    temp_df = temp_df.drop(mols_to_drop, axis=0)\n",
    "    # reset index and drop temporal column\n",
    "    temp_df = temp_df.reset_index().drop('temp_index', axis=1)\n",
    "    return temp_df"
   ]
  },
  {
   "cell_type": "code",
   "execution_count": 18,
   "id": "55a11244-652e-4c0c-94c8-e258e7682da5",
   "metadata": {},
   "outputs": [
    {
     "name": "stdout",
     "output_type": "stream",
     "text": [
      "Number of molecules to drop 324\n"
     ]
    }
   ],
   "source": [
    "# We'll keep molecules from the second column \n",
    "# to avoid keep COCRYS molecules over other libraries\n",
    "set_to_keep = df_unique_mols.mol2_lib2.unique()\n",
    "# Now, from the set of all repeated molecules remove those to be kept\n",
    "set_to_drop = unique_repeated_mols.difference(set_to_keep)\n",
    "    \n",
    "print('Number of molecules to drop', len(set_to_drop))"
   ]
  },
  {
   "cell_type": "code",
   "execution_count": 19,
   "id": "a72d9d03-bb1d-4727-a00d-601cf9d2f18f",
   "metadata": {},
   "outputs": [
    {
     "name": "stdout",
     "output_type": "stream",
     "text": [
      "Number of remaining molecules:\n",
      "(3488, 10)\n",
      "(3488, 147)\n",
      "(3488, 147)\n",
      "(3488, 147)\n",
      "(3488, 8)\n"
     ]
    }
   ],
   "source": [
    "#*********************************\n",
    "# Update the original data frames\n",
    "#*********************************\n",
    "\n",
    "# From the original MERGED dataset, \n",
    "# create a temporal column with mol_name$library and set it as index\n",
    "temp_index = df_mols[['Lig', 'library']]\\\n",
    "                         .apply(\n",
    "                              lambda x: \n",
    "                                x.values[0] + '$' + x.values[1], \n",
    "                                axis=1\n",
    "                          )\\\n",
    "                         .to_list()\n",
    "\n",
    "# Main DataFrame\n",
    "df_all_mols = drop_repeated_mols(df_mols, set_to_drop, temp_index)\n",
    "print('Number of remaining molecules:')\n",
    "print(df_all_mols.shape)\n",
    "\n",
    "# MACCS Fps\n",
    "X_all_maccs = drop_repeated_mols(X_all_maccs, set_to_drop, temp_index)\n",
    "print(X_all_maccs.shape)\n",
    "# Morgan Fps\n",
    "X_all_morgan = drop_repeated_mols(X_all_morgan, set_to_drop, temp_index)\n",
    "print(X_all_maccs.shape)\n",
    "# RDKit Fps\n",
    "X_all_rdk = drop_repeated_mols(X_all_rdk, set_to_drop, temp_index)\n",
    "print(X_all_maccs.shape)\n",
    "# Phys Properties\n",
    "X_all_phy = drop_repeated_mols(X_all_phy, set_to_drop, temp_index)\n",
    "print(X_all_phy.shape)"
   ]
  },
  {
   "cell_type": "markdown",
   "id": "b31a53ab-c8ef-4af2-b5f0-a52a8fe9d2ef",
   "metadata": {},
   "source": [
    "## Save the fingertprints and the final DataFrame"
   ]
  },
  {
   "cell_type": "code",
   "execution_count": 20,
   "id": "2dff7ab6-da79-4594-bb7f-64ec8db9fc10",
   "metadata": {},
   "outputs": [],
   "source": [
    "# Save molecular fingerprints in a single object\n",
    "fps_file = './rdkit_fingerprints_all_libraries_no_duplicates.obj'\n",
    "all_fps = {\n",
    "    'MACCS': X_all_maccs, \n",
    "    'Morgan': X_all_morgan,\n",
    "    'RDKFps': X_all_rdk,\n",
    "    'Phys': X_all_phy \n",
    "}\n",
    "\n",
    "with open(fps_file, 'wb') as f:\n",
    "    joblib.dump(all_fps, filename = f)"
   ]
  },
  {
   "cell_type": "code",
   "execution_count": 21,
   "id": "7209cede-463a-4949-8e86-ef34b6114375",
   "metadata": {},
   "outputs": [],
   "source": [
    "# Save the molecules dataframe without duplicates\n",
    "df_out_file = './df_MOLECULES_no_duplicates.obj'\n",
    "df_all_mols.to_pickle(df_out_file)"
   ]
  },
  {
   "cell_type": "code",
   "execution_count": null,
   "id": "0fa9f023-1c11-4629-bdef-e02022b7527f",
   "metadata": {},
   "outputs": [],
   "source": []
  }
 ],
 "metadata": {
  "kernelspec": {
   "display_name": "Python 3",
   "language": "python",
   "name": "python3"
  },
  "language_info": {
   "codemirror_mode": {
    "name": "ipython",
    "version": 3
   },
   "file_extension": ".py",
   "mimetype": "text/x-python",
   "name": "python",
   "nbconvert_exporter": "python",
   "pygments_lexer": "ipython3",
   "version": "3.7.9"
  }
 },
 "nbformat": 4,
 "nbformat_minor": 5
}
