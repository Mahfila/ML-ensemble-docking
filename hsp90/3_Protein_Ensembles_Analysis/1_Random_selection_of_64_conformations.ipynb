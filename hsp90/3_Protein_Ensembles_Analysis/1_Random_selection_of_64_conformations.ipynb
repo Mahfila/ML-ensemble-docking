{
 "cells": [
  {
   "cell_type": "markdown",
   "id": "754a3d76-15eb-482e-98c4-0ca1e7716e66",
   "metadata": {},
   "source": [
    "# Random selection of 64 conformations\n",
    "- Procedure done only for `EGFR` and `HSP90` proteins.\n",
    "- A random seed is provided for reproducibility"
   ]
  },
  {
   "cell_type": "code",
   "execution_count": 1,
   "id": "59daecf9",
   "metadata": {},
   "outputs": [],
   "source": [
    "import pandas as pd\n",
    "import numpy as np\n",
    "import tarfile"
   ]
  },
  {
   "cell_type": "code",
   "execution_count": 2,
   "id": "567cd422",
   "metadata": {},
   "outputs": [
    {
     "name": "stdout",
     "output_type": "stream",
     "text": [
      "(298, 14)\n"
     ]
    }
   ],
   "source": [
    "# Load the data frame with the metadata information\n",
    "prot_name = 'hsp90'\n",
    "df_prot_file = '../1_Download_and_prepare_protein_ensembles/TABLA_MTDATA_HSP90_298_crys_LIGS_INFO.json'\n",
    "df_prot = pd.read_json(df_prot_file)\n",
    "print(df_prot.shape)"
   ]
  },
  {
   "cell_type": "code",
   "execution_count": 3,
   "id": "a9792e50",
   "metadata": {},
   "outputs": [],
   "source": [
    "np.random.seed(42)\n",
    "pdb_ids = np.random.choice(df_prot.index, 64, replace = False)\n",
    "\n",
    "pdb_ids_dir = '../1_Download_and_prepare_protein_ensembles/pdb_structures/pdb_prepared/'\n",
    "with tarfile.open(f'64_{prot_name.upper()}_conformations.pdb.tar', 'w:gz') as tar:\n",
    "    for name in pdb_ids:\n",
    "        tar.add(f'{pdb_ids_dir}/{name}_ENS.pdb')\n",
    "tar.close()"
   ]
  },
  {
   "cell_type": "markdown",
   "id": "14134ca1-e734-4f38-bed5-5cef4f776f4d",
   "metadata": {},
   "source": [
    "### Selected PDB ids"
   ]
  },
  {
   "cell_type": "code",
   "execution_count": 4,
   "id": "bd7e6931",
   "metadata": {},
   "outputs": [
    {
     "data": {
      "text/plain": [
       "array(['1uy9', '1uyc', '1uyd', '1uyf', '1yc4', '2byi', '2bz5', '2k5b',\n",
       "       '2wi2', '2wi5', '2wi6', '2xjg', '2xjx', '2xk2', '2ye4', '2yee',\n",
       "       '2yeg', '2yeh', '2yei', '2yi7', '2yjx', '3b24', '3b25', '3bm9',\n",
       "       '3hek', '3hz1', '3hz5', '3inx', '3k98', '3o0i', '3owb', '3rlp',\n",
       "       '3vhd', '4awp', '4b7p', '4bqg', '4cwr', '4cws', '4efu', '4l8z',\n",
       "       '4l91', '4l94', '4lwi', '4o07', '4o09', '4r3m', '4u93', '4ykr',\n",
       "       '4ykt', '4ykw', '5j2x', '5j64', '5lr1', '5lrl', '5nyi', '5xre',\n",
       "       '5zr3', '6el5', '6gp4', '6gqu', '6gr3', '6gr5', '6hhr', '6ltk'],\n",
       "      dtype=object)"
      ]
     },
     "execution_count": 4,
     "metadata": {},
     "output_type": "execute_result"
    }
   ],
   "source": [
    "np.sort(pdb_ids)"
   ]
  }
 ],
 "metadata": {
  "kernelspec": {
   "display_name": "Python 3",
   "language": "python",
   "name": "python3"
  },
  "language_info": {
   "codemirror_mode": {
    "name": "ipython",
    "version": 3
   },
   "file_extension": ".py",
   "mimetype": "text/x-python",
   "name": "python",
   "nbconvert_exporter": "python",
   "pygments_lexer": "ipython3",
   "version": "3.7.9"
  }
 },
 "nbformat": 4,
 "nbformat_minor": 5
}
