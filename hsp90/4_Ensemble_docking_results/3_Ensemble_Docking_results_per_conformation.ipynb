{
 "cells": [
  {
   "cell_type": "markdown",
   "id": "f32e9fc5-ad30-4028-8661-3ce2189a928a",
   "metadata": {},
   "source": [
    "# Ensemble Docking Results per protein conformation\n",
    "\n",
    "Exploratory Data Analysis of the Ensemble docking results.\n",
    "This notebook does the following:\n",
    "- Jitter boxplots showing the single-conformation performance per library or per combination of libraries.\n",
    "- Pair plot correlations between conformation properties."
   ]
  },
  {
   "cell_type": "code",
   "execution_count": 1,
   "id": "80fc9c46-eb65-4259-8d8e-b447efe6b983",
   "metadata": {},
   "outputs": [],
   "source": [
    "import pandas as pd\n",
    "import numpy as np\n",
    "import matplotlib.pyplot as plt\n",
    "import seaborn as sns\n",
    "import sys\n",
    "sys.path.append('../..')\n",
    "from helper_modules.plotting_metrics import PlotMetric \n",
    "from helper_modules.run_or_load import run_or_load"
   ]
  },
  {
   "cell_type": "markdown",
   "id": "4d58882f-9f57-496b-9e9c-06512099aa1d",
   "metadata": {},
   "source": [
    "## Load the available data\n",
    "- This dataframe have been computed in previous notebooks.\n",
    "\n",
    "### Protein metadata"
   ]
  },
  {
   "cell_type": "code",
   "execution_count": 2,
   "id": "07f8d7c7-0a7b-401b-bfb0-7ea91d30e805",
   "metadata": {},
   "outputs": [
    {
     "data": {
      "text/plain": [
       "(296, 14)"
      ]
     },
     "execution_count": 2,
     "metadata": {},
     "output_type": "execute_result"
    }
   ],
   "source": [
    "DIR = '../1_Download_and_prepare_protein_ensembles'\n",
    "path_to_file = f'{DIR}/TABLA_MTDATA_HSP90_296_crys_LIGS_INFO.json'\n",
    "df_prot = pd.read_json(path_to_file)\n",
    "df_prot.shape"
   ]
  },
  {
   "cell_type": "markdown",
   "id": "eab7b790-015c-4acc-a11f-84e7732d1dae",
   "metadata": {},
   "source": [
    "#### Include pocket volume information"
   ]
  },
  {
   "cell_type": "code",
   "execution_count": 3,
   "id": "9585cdfb-b25f-4e46-ab83-574ccbfb5f01",
   "metadata": {},
   "outputs": [
    {
     "data": {
      "text/html": [
       "<div>\n",
       "<style scoped>\n",
       "    .dataframe tbody tr th:only-of-type {\n",
       "        vertical-align: middle;\n",
       "    }\n",
       "\n",
       "    .dataframe tbody tr th {\n",
       "        vertical-align: top;\n",
       "    }\n",
       "\n",
       "    .dataframe thead th {\n",
       "        text-align: right;\n",
       "    }\n",
       "</style>\n",
       "<table border=\"1\" class=\"dataframe\">\n",
       "  <thead>\n",
       "    <tr style=\"text-align: right;\">\n",
       "      <th></th>\n",
       "      <th>Title</th>\n",
       "      <th>Date</th>\n",
       "      <th>Entities</th>\n",
       "      <th>ChainID</th>\n",
       "      <th>Resolution</th>\n",
       "      <th>Identity</th>\n",
       "      <th>Coverage</th>\n",
       "      <th>NumGaps</th>\n",
       "      <th>GapLen</th>\n",
       "      <th>GapPos</th>\n",
       "      <th>NumLigs</th>\n",
       "      <th>NameLigs</th>\n",
       "      <th>Inhib</th>\n",
       "      <th>Inhib_mass</th>\n",
       "      <th>volumen</th>\n",
       "      <th>surf_area</th>\n",
       "    </tr>\n",
       "  </thead>\n",
       "  <tbody>\n",
       "    <tr>\n",
       "      <th>1byq</th>\n",
       "      <td>in vivo function of hsp90 is dependent on atp ...</td>\n",
       "      <td>1998-10-28</td>\n",
       "      <td>1</td>\n",
       "      <td>A</td>\n",
       "      <td>1.50</td>\n",
       "      <td>1.0</td>\n",
       "      <td>29.098</td>\n",
       "      <td>2</td>\n",
       "      <td>[10, 509]</td>\n",
       "      <td>[[1, 10], [224, 732]]</td>\n",
       "      <td>2</td>\n",
       "      <td>[ADP, MG]</td>\n",
       "      <td>ADP</td>\n",
       "      <td>412.082022</td>\n",
       "      <td>2156.0</td>\n",
       "      <td>840.0</td>\n",
       "    </tr>\n",
       "    <tr>\n",
       "      <th>1osf</th>\n",
       "      <td>crystal structure and molecular modeling of 17...</td>\n",
       "      <td>2003-05-27</td>\n",
       "      <td>1</td>\n",
       "      <td>A</td>\n",
       "      <td>1.75</td>\n",
       "      <td>1.0</td>\n",
       "      <td>29.372</td>\n",
       "      <td>2</td>\n",
       "      <td>[8, 509]</td>\n",
       "      <td>[[1, 8], [224, 732]]</td>\n",
       "      <td>3</td>\n",
       "      <td>[KOS, ACY, MPD]</td>\n",
       "      <td>KOS</td>\n",
       "      <td>568.364400</td>\n",
       "      <td>2125.0</td>\n",
       "      <td>901.0</td>\n",
       "    </tr>\n",
       "    <tr>\n",
       "      <th>1uy6</th>\n",
       "      <td>structure-activity relationships in purine-bas...</td>\n",
       "      <td>2004-07-01</td>\n",
       "      <td>1</td>\n",
       "      <td>A</td>\n",
       "      <td>1.90</td>\n",
       "      <td>1.0</td>\n",
       "      <td>28.279</td>\n",
       "      <td>2</td>\n",
       "      <td>[16, 509]</td>\n",
       "      <td>[[1, 16], [224, 732]]</td>\n",
       "      <td>1</td>\n",
       "      <td>[PU3]</td>\n",
       "      <td>PU3</td>\n",
       "      <td>346.235000</td>\n",
       "      <td>1982.0</td>\n",
       "      <td>935.0</td>\n",
       "    </tr>\n",
       "  </tbody>\n",
       "</table>\n",
       "</div>"
      ],
      "text/plain": [
       "                                                  Title       Date Entities  \\\n",
       "1byq  in vivo function of hsp90 is dependent on atp ... 1998-10-28        1   \n",
       "1osf  crystal structure and molecular modeling of 17... 2003-05-27        1   \n",
       "1uy6  structure-activity relationships in purine-bas... 2004-07-01        1   \n",
       "\n",
       "     ChainID  Resolution  Identity  Coverage  NumGaps     GapLen  \\\n",
       "1byq       A        1.50       1.0    29.098        2  [10, 509]   \n",
       "1osf       A        1.75       1.0    29.372        2   [8, 509]   \n",
       "1uy6       A        1.90       1.0    28.279        2  [16, 509]   \n",
       "\n",
       "                     GapPos  NumLigs         NameLigs Inhib  Inhib_mass  \\\n",
       "1byq  [[1, 10], [224, 732]]        2        [ADP, MG]   ADP  412.082022   \n",
       "1osf   [[1, 8], [224, 732]]        3  [KOS, ACY, MPD]   KOS  568.364400   \n",
       "1uy6  [[1, 16], [224, 732]]        1            [PU3]   PU3  346.235000   \n",
       "\n",
       "      volumen  surf_area  \n",
       "1byq   2156.0      840.0  \n",
       "1osf   2125.0      901.0  \n",
       "1uy6   1982.0      935.0  "
      ]
     },
     "execution_count": 3,
     "metadata": {},
     "output_type": "execute_result"
    }
   ],
   "source": [
    "DIR = '../3_Protein_Ensembles_Analysis/'\n",
    "path_to_file = f'{DIR}/POVME3_results/Pocket_alignment/res_output.txt'\n",
    "# Read the pocket volume results\n",
    "df_pocket = pd.read_csv(path_to_file,\n",
    "                        sep = '|', \n",
    "                        skiprows = 632, \n",
    "                        header = None, \n",
    "                        skipfooter = 3, \n",
    "                        engine = 'python',\n",
    "                        names = ['pdb_id', 'volumen', 'surf_area'], \n",
    "                        index_col = 0)\n",
    "\n",
    "# Include it to the main dataframe\n",
    "df_pocket.index = df_prot.index\n",
    "df_pocket = df_prot.merge(df_pocket, \n",
    "                          how='inner', \n",
    "                          left_index=True, \n",
    "                          right_index=True)\n",
    "\n",
    "df_pocket.head(3)"
   ]
  },
  {
   "cell_type": "markdown",
   "id": "86e420e6-aa45-425c-9568-1712e7680b61",
   "metadata": {},
   "source": [
    "## Compute some extra properties\n",
    "\n",
    "- It is an *apo* or an *holo* conformation?"
   ]
  },
  {
   "cell_type": "code",
   "execution_count": 4,
   "id": "3490fb45-2082-443a-b518-f2e5583e12a5",
   "metadata": {},
   "outputs": [
    {
     "name": "stdout",
     "output_type": "stream",
     "text": [
      "Number of Apo and Holo conformations:\n"
     ]
    },
    {
     "data": {
      "text/plain": [
       "holo    289\n",
       "apo       7\n",
       "Name: Apo, dtype: int64"
      ]
     },
     "execution_count": 4,
     "metadata": {},
     "output_type": "execute_result"
    }
   ],
   "source": [
    "df_pocket['Apo'] = ['holo' if i > 0 else 'apo' for i in df_pocket.NumLigs] \n",
    "\n",
    "# How many of each are there?\n",
    "print('Number of Apo and Holo conformations:')\n",
    "df_pocket['Apo'].value_counts()"
   ]
  },
  {
   "cell_type": "markdown",
   "id": "e52ff366-8ae6-4108-a6b5-c8075c899285",
   "metadata": {},
   "source": [
    "- Is the protein bound to other proteic entities?"
   ]
  },
  {
   "cell_type": "code",
   "execution_count": 5,
   "id": "bb4510d1-d419-4316-9767-f407b8d5be3b",
   "metadata": {},
   "outputs": [
    {
     "name": "stdout",
     "output_type": "stream",
     "text": [
      "Number of `single` and `bound` crystalized conformations:\n"
     ]
    },
    {
     "data": {
      "text/plain": [
       "single    296\n",
       "Name: Single Entity, dtype: int64"
      ]
     },
     "execution_count": 5,
     "metadata": {},
     "output_type": "execute_result"
    }
   ],
   "source": [
    "df_pocket.Entities = pd.to_numeric(df_pocket.Entities, errors = 'coerce')\n",
    "df_pocket['Single Entity'] = ['bound' if i > 1 else 'single' \n",
    "                              for i in df_pocket.Entities] \n",
    "# How many of each are there?\n",
    "print('Number of `single` and `bound` crystalized conformations:')\n",
    "df_pocket['Single Entity'].value_counts()"
   ]
  },
  {
   "cell_type": "markdown",
   "id": "d8180cb8-9ad0-4d3c-a185-0ff9065e0f22",
   "metadata": {},
   "source": [
    "- Be sure that entries with no cocrystalized molecules have a `0` in their `Inhib_mass` column."
   ]
  },
  {
   "cell_type": "code",
   "execution_count": 6,
   "id": "9dbc4e5c-0cdd-4064-b236-c17631f85cd8",
   "metadata": {},
   "outputs": [],
   "source": [
    "# Fill Na values inside Inhib_mass column with 0's\n",
    "df_pocket['Inhib_mass'] = pd.to_numeric(\n",
    "                                df_pocket['Inhib_mass']).fillna(0)"
   ]
  },
  {
   "cell_type": "markdown",
   "id": "fdee1e0e-37b8-448c-9ba3-0cc6dfe16576",
   "metadata": {},
   "source": [
    "### Loading docking results"
   ]
  },
  {
   "cell_type": "code",
   "execution_count": 7,
   "id": "6d88bc52-5c98-4528-9f95-3ef72fc79adb",
   "metadata": {},
   "outputs": [],
   "source": [
    "prot_name = 'hsp90'\n",
    "file_name = './df_DkSc_results_COCRYS_DEKOIS_DUD.pkl'\n",
    "df_dk_res = pd.read_pickle(file_name)\n",
    "\n",
    "# Extract the features columns: Docking scores\n",
    "X_dksc = df_dk_res.drop('activity', axis = 1)\n",
    "X = X_dksc\n",
    "# Extract the response variable: Activity\n",
    "y = df_dk_res['activity']"
   ]
  },
  {
   "cell_type": "markdown",
   "id": "72dc253f-5d84-415c-80e1-740925cc4f71",
   "metadata": {},
   "source": [
    "#### Ratio of actives"
   ]
  },
  {
   "cell_type": "code",
   "execution_count": 8,
   "id": "da02f3bb-cc72-4b7e-90b9-0c4cc39e42de",
   "metadata": {},
   "outputs": [
    {
     "data": {
      "text/plain": [
       "0.1112"
      ]
     },
     "execution_count": 8,
     "metadata": {},
     "output_type": "execute_result"
    }
   ],
   "source": [
    "# Proportion of active molecules R_2\n",
    "R_a = round(y.sum() / len(y), 4)\n",
    "R_a"
   ]
  },
  {
   "cell_type": "markdown",
   "id": "a9af5c90-94dc-4247-9fd5-79d427c007c4",
   "metadata": {},
   "source": [
    "### Visualize the Docking performance per library"
   ]
  },
  {
   "cell_type": "code",
   "execution_count": 9,
   "id": "cc9f2549-4828-4218-904a-5d2ec30e27a1",
   "metadata": {},
   "outputs": [],
   "source": [
    "metric_name = 'roc_auc'\n",
    "metric_kwargs = {'metric_name': metric_name}\n",
    "libraries = ['DUD', 'DEKOIS', 'DUD_DEKOIS', 'DUD_DEKOIS_COCRYS']\n",
    "\n",
    "raw_performances = []\n",
    "for lib in libraries:\n",
    "    df_perfs = PlotMetric(y_true = y.loc[lib.split('_')], \n",
    "               df_predictions = X.loc[lib.split('_')], \n",
    "               decreasing = True,\n",
    "              ).format_metric_results(**metric_kwargs)\n",
    "    raw_performances.append(df_perfs)\n",
    "\n",
    "raw_performances_per_conf = pd.concat(\n",
    "                                raw_performances, \n",
    "                                keys = [lib.replace('_', '\\n')\n",
    "                                        for lib in libraries], \n",
    "                                axis = 1)\\\n",
    "                        .droplevel(1, axis = 1)"
   ]
  },
  {
   "cell_type": "code",
   "execution_count": 10,
   "id": "8a79da6f-bd5d-4abe-a451-10c4c1efd6ed",
   "metadata": {},
   "outputs": [
    {
     "name": "stdout",
     "output_type": "stream",
     "text": [
      "Top ROC_AUC values\n",
      "DUD                    0.835\n",
      "DEKOIS                 0.691\n",
      "DUD\\nDEKOIS            0.738\n",
      "DUD\\nDEKOIS\\nCOCRYS    0.618\n",
      "dtype: float64\n"
     ]
    },
    {
     "data": {
      "image/png": "[encoded data removed]",
      "text/plain": [
       "<Figure size 720x576 with 1 Axes>"
      ]
     },
     "metadata": {},
     "output_type": "display_data"
    }
   ],
   "source": [
    "fig = plt.figure(figsize = (10,8))\n",
    "ax = sns.stripplot(data = raw_performances_per_conf, \n",
    "                   jitter = 0.4, alpha = 0.2, size = 8)\n",
    "sns.boxplot(data = raw_performances_per_conf, color = '#FFFFFFFF')\n",
    "ax.set(ylim = (0.4,1), \n",
    "       title = f'{prot_name.upper()}' + \n",
    "       '\\nSingle-Conformation Performances\\nusing raw scores',\n",
    "       ylabel = f'{metric_name.upper()}')\n",
    "plt.axhline(0.5, label = 'Random', color = 'gray', ls = '--')\n",
    "ax.grid()\n",
    "print(f'Top {metric_name.upper()} values')\n",
    "print(raw_performances_per_conf.max(axis = 0))"
   ]
  },
  {
   "cell_type": "markdown",
   "id": "ee01a0dd-609c-4df2-9a98-63d87a616808",
   "metadata": {},
   "source": [
    "#### Get the individual performances (single-conformation performances)\n",
    "- AUC-ROC\n",
    "- Normalized Enrichment Factor"
   ]
  },
  {
   "cell_type": "code",
   "execution_count": 11,
   "id": "615d9b77-eab7-4490-9b76-0b118aac52ab",
   "metadata": {},
   "outputs": [],
   "source": [
    "# AUC ROC\n",
    "metric_params = {'metric_name': 'roc_auc'}\n",
    "roc_auc = PlotMetric(y, X_dksc,\n",
    "                        decreasing=True)\\\n",
    "                    .format_metric_results(rounded=5, \n",
    "                                           **metric_params)\n",
    "\n",
    "\n",
    "# Normalized Enrichment Factor Ra=12\n",
    "metric_params = {'metric_name': 'ef', \n",
    "                 'fraction': 0.05, \n",
    "                 'method':'normalized'}\n",
    "nef_012 = PlotMetric(y, X_dksc,\n",
    "                        decreasing=True)\\\n",
    "                    .format_metric_results(\n",
    "                        rounded=5, \n",
    "                        **metric_params)\n",
    "\n",
    "# Merge all dataframes\n",
    "df_merged = df_pocket.join([roc_auc, nef_012], how='inner')"
   ]
  },
  {
   "cell_type": "markdown",
   "id": "92dd8a39-1da4-454b-951b-b701c22a1736",
   "metadata": {},
   "source": [
    "## Format and Visualize the final dataframe"
   ]
  },
  {
   "cell_type": "code",
   "execution_count": 12,
   "id": "9aa829d5-f6d0-446d-a90d-325ff47131f5",
   "metadata": {},
   "outputs": [
    {
     "data": {
      "text/plain": [
       "Index(['Resolution', 'Inhib. MW', 'Pk. Volume', 'Pk. SASA', 'Apo',\n",
       "       'Single Entity', 'AUC-ROC', 'NEF'],\n",
       "      dtype='object')"
      ]
     },
     "execution_count": 12,
     "metadata": {},
     "output_type": "execute_result"
    }
   ],
   "source": [
    "# Rename some columns for a better visualization\n",
    "last_vars = ['Resolution', 'Inhib_mass', 'volumen', \n",
    "             'surf_area', 'Apo', 'Single Entity', \n",
    "             'ROC AUC', 'EF']\n",
    "new_names = ['Resolution', 'Inhib. MW', 'Pk. Volume', \n",
    "             'Pk. SASA', 'Apo', 'Single Entity', \n",
    "             'AUC-ROC', 'NEF']\n",
    "df_final = df_merged[last_vars].rename(\n",
    "                columns=dict(zip(last_vars, new_names)))\n",
    "df_final.columns"
   ]
  },
  {
   "cell_type": "markdown",
   "id": "7540bb07-4f04-43aa-8969-5731fa4efed5",
   "metadata": {},
   "source": [
    "#### Save the final dataframe for futher analysis"
   ]
  },
  {
   "cell_type": "code",
   "execution_count": 13,
   "id": "29207501-77f5-4331-88fc-7c943b9cab07",
   "metadata": {},
   "outputs": [
    {
     "name": "stdout",
     "output_type": "stream",
     "text": [
      "File loaded: ./TABLE_Confs_Features_and_performances_hsp90.pkl\n"
     ]
    }
   ],
   "source": [
    "# Save the final dataframe\n",
    "@run_or_load\n",
    "def save_df(filename, df):\n",
    "    return df\n",
    "\n",
    "# Save it\n",
    "path_to_file = f'./TABLE_Confs_Features_and_performances_{prot_name}.pkl'\n",
    "df_final = save_df(path_to_file, df_final)"
   ]
  },
  {
   "cell_type": "markdown",
   "id": "e3d20631-10a6-4c08-961d-4f8b221bc965",
   "metadata": {},
   "source": [
    "### Visualize correlations among the computed properties"
   ]
  },
  {
   "cell_type": "code",
   "execution_count": 14,
   "id": "f2f13b6d-e49c-4eee-ad9f-d091ce86c8b9",
   "metadata": {},
   "outputs": [],
   "source": [
    "# Define some useful functions\n",
    "from scipy.stats import pearsonr, spearmanr\n",
    "\n",
    "def calculate_pvalues(df, func = spearmanr):\n",
    "    ''' A simple function to compute correlation\n",
    "        p-values '''\n",
    "    df = df.dropna()._get_numeric_data()\n",
    "    dfcols = pd.DataFrame(columns = df.columns)\n",
    "    pvalues = dfcols.transpose().join(dfcols, how='outer')\n",
    "    for r in df.columns:\n",
    "        for c in df.columns:\n",
    "            pvalues[r][c] = round(func(df[r], df[c])[1], 4)\n",
    "    return pvalues\n",
    "\n",
    "def corrfunc(x, y, func = spearmanr, **kwargs):\n",
    "    ''' A simple function to compute correlation\n",
    "        between to given variables, and visualize it using\n",
    "        a pairplot figure\n",
    "    '''\n",
    "    r, _ = func(x, y, **kwargs)\n",
    "    ax = plt.gca()\n",
    "    ax.annotate(r\"$\\rho$ = {:.2f}\".format(r), \n",
    "                fontsize=14,\n",
    "                xy=(.1, .9), \n",
    "                xycoords=ax.transAxes)\n",
    "    "
   ]
  },
  {
   "cell_type": "markdown",
   "id": "ded21e56-e956-41e5-9e31-68305b9b5b06",
   "metadata": {},
   "source": [
    "#### Spearman correlation"
   ]
  },
  {
   "cell_type": "code",
   "execution_count": 15,
   "id": "afa29d15-cfff-4b07-bdf4-5851df12acba",
   "metadata": {},
   "outputs": [
    {
     "name": "stdout",
     "output_type": "stream",
     "text": [
      "Spearman correlation:\n"
     ]
    },
    {
     "data": {
      "text/html": [
       "<div>\n",
       "<style scoped>\n",
       "    .dataframe tbody tr th:only-of-type {\n",
       "        vertical-align: middle;\n",
       "    }\n",
       "\n",
       "    .dataframe tbody tr th {\n",
       "        vertical-align: top;\n",
       "    }\n",
       "\n",
       "    .dataframe thead th {\n",
       "        text-align: right;\n",
       "    }\n",
       "</style>\n",
       "<table border=\"1\" class=\"dataframe\">\n",
       "  <thead>\n",
       "    <tr style=\"text-align: right;\">\n",
       "      <th></th>\n",
       "      <th>Resolution</th>\n",
       "      <th>Inhib. MW</th>\n",
       "      <th>Pk. Volume</th>\n",
       "      <th>Pk. SASA</th>\n",
       "      <th>AUC-ROC</th>\n",
       "      <th>NEF</th>\n",
       "    </tr>\n",
       "  </thead>\n",
       "  <tbody>\n",
       "    <tr>\n",
       "      <th>Resolution</th>\n",
       "      <td>1.000000</td>\n",
       "      <td>-0.221507</td>\n",
       "      <td>-0.252529</td>\n",
       "      <td>-0.029920</td>\n",
       "      <td>-0.080569</td>\n",
       "      <td>-0.063850</td>\n",
       "    </tr>\n",
       "    <tr>\n",
       "      <th>Inhib. MW</th>\n",
       "      <td>-0.221507</td>\n",
       "      <td>1.000000</td>\n",
       "      <td>0.356229</td>\n",
       "      <td>0.358392</td>\n",
       "      <td>0.176981</td>\n",
       "      <td>0.206082</td>\n",
       "    </tr>\n",
       "    <tr>\n",
       "      <th>Pk. Volume</th>\n",
       "      <td>-0.252529</td>\n",
       "      <td>0.356229</td>\n",
       "      <td>1.000000</td>\n",
       "      <td>0.128054</td>\n",
       "      <td>-0.025024</td>\n",
       "      <td>-0.023579</td>\n",
       "    </tr>\n",
       "    <tr>\n",
       "      <th>Pk. SASA</th>\n",
       "      <td>-0.029920</td>\n",
       "      <td>0.358392</td>\n",
       "      <td>0.128054</td>\n",
       "      <td>1.000000</td>\n",
       "      <td>0.310433</td>\n",
       "      <td>0.262897</td>\n",
       "    </tr>\n",
       "    <tr>\n",
       "      <th>AUC-ROC</th>\n",
       "      <td>-0.080569</td>\n",
       "      <td>0.176981</td>\n",
       "      <td>-0.025024</td>\n",
       "      <td>0.310433</td>\n",
       "      <td>1.000000</td>\n",
       "      <td>0.762239</td>\n",
       "    </tr>\n",
       "    <tr>\n",
       "      <th>NEF</th>\n",
       "      <td>-0.063850</td>\n",
       "      <td>0.206082</td>\n",
       "      <td>-0.023579</td>\n",
       "      <td>0.262897</td>\n",
       "      <td>0.762239</td>\n",
       "      <td>1.000000</td>\n",
       "    </tr>\n",
       "  </tbody>\n",
       "</table>\n",
       "</div>"
      ],
      "text/plain": [
       "            Resolution  Inhib. MW  Pk. Volume  Pk. SASA   AUC-ROC       NEF\n",
       "Resolution    1.000000  -0.221507   -0.252529 -0.029920 -0.080569 -0.063850\n",
       "Inhib. MW    -0.221507   1.000000    0.356229  0.358392  0.176981  0.206082\n",
       "Pk. Volume   -0.252529   0.356229    1.000000  0.128054 -0.025024 -0.023579\n",
       "Pk. SASA     -0.029920   0.358392    0.128054  1.000000  0.310433  0.262897\n",
       "AUC-ROC      -0.080569   0.176981   -0.025024  0.310433  1.000000  0.762239\n",
       "NEF          -0.063850   0.206082   -0.023579  0.262897  0.762239  1.000000"
      ]
     },
     "metadata": {},
     "output_type": "display_data"
    },
    {
     "name": "stdout",
     "output_type": "stream",
     "text": [
      "p-values:\n"
     ]
    },
    {
     "data": {
      "text/html": [
       "<div>\n",
       "<style scoped>\n",
       "    .dataframe tbody tr th:only-of-type {\n",
       "        vertical-align: middle;\n",
       "    }\n",
       "\n",
       "    .dataframe tbody tr th {\n",
       "        vertical-align: top;\n",
       "    }\n",
       "\n",
       "    .dataframe thead th {\n",
       "        text-align: right;\n",
       "    }\n",
       "</style>\n",
       "<table border=\"1\" class=\"dataframe\">\n",
       "  <thead>\n",
       "    <tr style=\"text-align: right;\">\n",
       "      <th></th>\n",
       "      <th>Resolution</th>\n",
       "      <th>Inhib. MW</th>\n",
       "      <th>Pk. Volume</th>\n",
       "      <th>Pk. SASA</th>\n",
       "      <th>AUC-ROC</th>\n",
       "      <th>NEF</th>\n",
       "    </tr>\n",
       "  </thead>\n",
       "  <tbody>\n",
       "    <tr>\n",
       "      <th>Resolution</th>\n",
       "      <td>0</td>\n",
       "      <td>0.081</td>\n",
       "      <td>0.0459</td>\n",
       "      <td>0.8159</td>\n",
       "      <td>0.5302</td>\n",
       "      <td>0.6191</td>\n",
       "    </tr>\n",
       "    <tr>\n",
       "      <th>Inhib. MW</th>\n",
       "      <td>0.081</td>\n",
       "      <td>0</td>\n",
       "      <td>0.001</td>\n",
       "      <td>0.0065</td>\n",
       "      <td>0.272</td>\n",
       "      <td>0.1825</td>\n",
       "    </tr>\n",
       "    <tr>\n",
       "      <th>Pk. Volume</th>\n",
       "      <td>0.0459</td>\n",
       "      <td>0.001</td>\n",
       "      <td>0</td>\n",
       "      <td>0.2183</td>\n",
       "      <td>0.9451</td>\n",
       "      <td>0.9219</td>\n",
       "    </tr>\n",
       "    <tr>\n",
       "      <th>Pk. SASA</th>\n",
       "      <td>0.8159</td>\n",
       "      <td>0.0065</td>\n",
       "      <td>0.2183</td>\n",
       "      <td>0</td>\n",
       "      <td>0.0198</td>\n",
       "      <td>0.0558</td>\n",
       "    </tr>\n",
       "    <tr>\n",
       "      <th>AUC-ROC</th>\n",
       "      <td>0.5302</td>\n",
       "      <td>0.272</td>\n",
       "      <td>0.9451</td>\n",
       "      <td>0.0198</td>\n",
       "      <td>0</td>\n",
       "      <td>0</td>\n",
       "    </tr>\n",
       "    <tr>\n",
       "      <th>NEF</th>\n",
       "      <td>0.6191</td>\n",
       "      <td>0.1825</td>\n",
       "      <td>0.9219</td>\n",
       "      <td>0.0558</td>\n",
       "      <td>0</td>\n",
       "      <td>0</td>\n",
       "    </tr>\n",
       "  </tbody>\n",
       "</table>\n",
       "</div>"
      ],
      "text/plain": [
       "           Resolution Inhib. MW Pk. Volume Pk. SASA AUC-ROC     NEF\n",
       "Resolution          0     0.081     0.0459   0.8159  0.5302  0.6191\n",
       "Inhib. MW       0.081         0      0.001   0.0065   0.272  0.1825\n",
       "Pk. Volume     0.0459     0.001          0   0.2183  0.9451  0.9219\n",
       "Pk. SASA       0.8159    0.0065     0.2183        0  0.0198  0.0558\n",
       "AUC-ROC        0.5302     0.272     0.9451   0.0198       0       0\n",
       "NEF            0.6191    0.1825     0.9219   0.0558       0       0"
      ]
     },
     "metadata": {},
     "output_type": "display_data"
    }
   ],
   "source": [
    "print('Spearman correlation:')\n",
    "display(df_final.corr(method='spearman'))\n",
    "\n",
    "print('p-values:')\n",
    "display(calculate_pvalues(df_final))"
   ]
  },
  {
   "cell_type": "markdown",
   "id": "605c5fe7-d4d2-455d-a943-d4b8f9714366",
   "metadata": {},
   "source": [
    "#### Visualize the relationship using a *pairplot*"
   ]
  },
  {
   "cell_type": "code",
   "execution_count": null,
   "id": "c028a8ed-2b31-4e55-9f03-e900ce5dffa5",
   "metadata": {},
   "outputs": [],
   "source": [
    "g = sns.pairplot(df_final, \n",
    "                 diag_kind = \"hist\", \n",
    "                 corner    = True,  \n",
    "                 plot_kws = {'alpha': 0.4, \n",
    "                             's': 30, \n",
    "                             'edgecolor': 'k', \n",
    "                             'linewidth': 0})\n",
    "g.map_lower(sns.kdeplot, levels = 8, \n",
    "            color = \".5\", linewidths = 1)\n",
    "g.map_diag(sns.kdeplot, color = '.5')\n",
    "g.map_lower(corrfunc)\n",
    "plt.show()"
   ]
  },
  {
   "cell_type": "markdown",
   "id": "28dd28f5-143e-4932-8f81-289fed1345f7",
   "metadata": {},
   "source": [
    "Finished!"
   ]
  }
 ],
 "metadata": {
  "kernelspec": {
   "display_name": "Python 3",
   "language": "python",
   "name": "python3"
  },
  "language_info": {
   "codemirror_mode": {
    "name": "ipython",
    "version": 3
   },
   "file_extension": ".py",
   "mimetype": "text/x-python",
   "name": "python",
   "nbconvert_exporter": "python",
   "pygments_lexer": "ipython3",
   "version": "3.7.9"
  },
  "toc": {
   "base_numbering": 1,
   "nav_menu": {},
   "number_sections": true,
   "sideBar": true,
   "skip_h1_title": false,
   "title_cell": "Table of Contents",
   "title_sidebar": "Contents",
   "toc_cell": false,
   "toc_position": {},
   "toc_section_display": true,
   "toc_window_display": false
  }
 },
 "nbformat": 4,
 "nbformat_minor": 5
}
