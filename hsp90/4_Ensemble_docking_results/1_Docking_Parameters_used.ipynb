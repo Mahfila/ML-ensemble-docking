{
 "cells": [
  {
   "cell_type": "markdown",
   "id": "24cabca9-3db4-484c-8147-de7e88c2564a",
   "metadata": {},
   "source": [
    "# Docking Parameters used to perform the Ensemble Docking Procedure\n",
    "\n",
    "1. HSP90 conformations were aligned using the $\\alpha$ Carbons of pocket residues. \n"
   ]
  },
  {
   "cell_type": "code",
   "execution_count": 1,
   "id": "d9aebe31-899a-45c8-9977-217bf62b7ace",
   "metadata": {},
   "outputs": [
    {
     "data": {
      "application/vnd.jupyter.widget-view+json": {
       "model_id": "7491eab782354e8b8171c33b6a7ec7b7",
       "version_major": 2,
       "version_minor": 0
      },
      "text/plain": []
     },
     "metadata": {},
     "output_type": "display_data"
    }
   ],
   "source": [
    "import sys\n",
    "sys.path.insert(0, '../..')\n",
    "from helper_modules.get_cocristalized_ligands \\\n",
    "     import get_pocket_ligand, PocketResidues"
   ]
  },
  {
   "cell_type": "markdown",
   "id": "54ba75c2-7035-4d2d-a489-9057986c568e",
   "metadata": {},
   "source": [
    "2. All conformations were aligned to the same reference structure: [1byq](https://www.rcsb.org/structure/1byq)."
   ]
  },
  {
   "cell_type": "code",
   "execution_count": 2,
   "id": "d9656dd7-1cb9-48de-aceb-92a85aef4d89",
   "metadata": {},
   "outputs": [
    {
     "name": "stdout",
     "output_type": "stream",
     "text": [
      "Indices of pocket redsidues: 102 106 107 112 131 132 133 134 135 136 137 138 139 150 152 183 184 185 186 47 48 49 50 51 52 53 54 55 56 58 91 93 95 96 97 98\n"
     ]
    }
   ],
   "source": [
    "# Use a reference structure to visualize the pocket residues\n",
    "prot_name = 'hsp90'\n",
    "ref_struc_id    = '1byq'\n",
    "ref_ligand_name = 'ADP'\n",
    "\n",
    "# Use a reference structure to visualize the pocket residues\n",
    "pkt_info = PocketResidues(ref_struc_id, ref_ligand_name)\n",
    "pocket_residues_str = pkt_info.get_pocket_residues_as_list().split(' ')\n",
    "\n",
    "# Merge the values\n",
    "pocket_residues_str = sorted(list(set(pocket_residues_str)))\n",
    "pocket_residues_str = ' '.join(pocket_residues_str)\n",
    "\n",
    "print('Indices of pocket redsidues:', pocket_residues_str)"
   ]
  },
  {
   "cell_type": "code",
   "execution_count": 3,
   "id": "441cc421",
   "metadata": {},
   "outputs": [
    {
     "data": {
      "application/vnd.jupyter.widget-view+json": {
       "model_id": "56fe7d9d7154470e9cf3840bd2529b16",
       "version_major": 2,
       "version_minor": 0
      },
      "text/plain": [
       "NGLWidget(max_frame=295)"
      ]
     },
     "metadata": {},
     "output_type": "display_data"
    }
   ],
   "source": [
    "import pytraj as pyt\n",
    "import nglview as nv\n",
    "ens_traj = pyt.load('../3_Protein_Ensembles_Analysis/PDB_296_hsp90_POCKET_ALL.dcd',\n",
    "                    top = '../1_Download_and_prepare_protein_ensembles/pdb_structures/pdb_prepared/1byq_ENS.pdb')\n",
    "nv.show_pytraj(ens_traj)"
   ]
  },
  {
   "cell_type": "markdown",
   "id": "9129acca-9d46-4544-883b-b16791738950",
   "metadata": {},
   "source": [
    "3. Docking was performed using [SMINA](https://github.com/mwojcikowski/smina), with the following parameters:\n",
    "\n",
    "```shell\n",
    "# Search space EGFR\n",
    "  --center_x       2\n",
    "  --center_y       9\n",
    "  --center_z       24\n",
    "  --size_x         20\n",
    "  --size_y         20\n",
    "  --size_z         21\n",
    "\n",
    "# Scoring and minimization options:\n",
    "  --scoring        \"vinardo\"\n",
    "  --factor         100\n",
    "  \n",
    "# Misc\n",
    "  --num_modes      3\n",
    "  --exhaustiveness 16\n",
    "```\n",
    "egfr_DEKOIS2\n",
    "egfr_175_CRYS\n",
    "These parameters were chosen manually using AutodockTools."
   ]
  },
  {
   "cell_type": "markdown",
   "id": "9254ed38-c418-4f1f-9bb3-72ffe74524c5",
   "metadata": {},
   "source": [
    "Finished!"
   ]
  }
 ],
 "metadata": {
  "kernelspec": {
   "display_name": "Python 3",
   "language": "python",
   "name": "python3"
  },
  "language_info": {
   "codemirror_mode": {
    "name": "ipython",
    "version": 3
   },
   "file_extension": ".py",
   "mimetype": "text/x-python",
   "name": "python",
   "nbconvert_exporter": "python",
   "pygments_lexer": "ipython3",
   "version": "3.7.9"
  },
  "toc": {
   "base_numbering": 1,
   "nav_menu": {},
   "number_sections": true,
   "sideBar": true,
   "skip_h1_title": false,
   "title_cell": "Table of Contents",
   "title_sidebar": "Contents",
   "toc_cell": false,
   "toc_position": {},
   "toc_section_display": true,
   "toc_window_display": true
  }
 },
 "nbformat": 4,
 "nbformat_minor": 5
}
