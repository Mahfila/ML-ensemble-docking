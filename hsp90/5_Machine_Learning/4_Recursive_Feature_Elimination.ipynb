{
 "cells": [
  {
   "cell_type": "markdown",
   "id": "82f175a6-3d0e-42b6-a4e3-4578d6a99138",
   "metadata": {},
   "source": [
    "# Recursive Feature Elimination using XGB"
   ]
  },
  {
   "cell_type": "code",
   "execution_count": 1,
   "id": "a8f60b6c-4f01-4675-aeaf-e93766d4672d",
   "metadata": {},
   "outputs": [],
   "source": [
    "import pandas as pd\n",
    "import numpy as np\n",
    "import sys\n",
    "sys.path.append('../..')"
   ]
  },
  {
   "cell_type": "code",
   "execution_count": 2,
   "id": "6f94dad3-5c2e-4eae-a204-44149f1d41b6",
   "metadata": {},
   "outputs": [],
   "source": [
    "%run ../../helper_modules/Helper_functions_for_nRepeats_x_kCV.ipynb"
   ]
  },
  {
   "cell_type": "code",
   "execution_count": 3,
   "id": "93a7a2b9-8711-40a9-91d9-f612c25000c6",
   "metadata": {},
   "outputs": [],
   "source": [
    "protein_name = 'hsp90'\n",
    "file_name = '../4_Ensemble_docking_results/' + \\\n",
    "            'df_DkSc_results_COCRYS_DEKOIS_DUD.pkl'\n",
    "df_dk_res = pd.read_pickle(file_name)\n",
    "\n",
    "# Extract the features columns: Docking scores\n",
    "X = df_dk_res.drop('activity', axis = 1).values\n",
    "# Extract the response variable: Activity\n",
    "y = df_dk_res['activity'].values"
   ]
  },
  {
   "cell_type": "markdown",
   "id": "e285310c-0ffe-4fc1-97bd-8b915b06c68e",
   "metadata": {},
   "source": [
    "### Set a GBT as a base estimator"
   ]
  },
  {
   "cell_type": "code",
   "execution_count": 4,
   "id": "a638fc72-667e-4c22-a3e2-fe19b8ad4940",
   "metadata": {},
   "outputs": [],
   "source": [
    "from xgboost import XGBClassifier\n",
    "\n",
    "hyparams = {'subsample'         : 0.6,\n",
    "             'n_estimators'     : 500,\n",
    "             'max_depth'        : 5,\n",
    "             'learning_rate'    : 0.05,\n",
    "             'gamma'            : 0.01,\n",
    "             'colsample_bytree' : 0.5,\n",
    "             'alpha'            : 0.1,\n",
    "             'eval_metric'      :   'logloss',\n",
    "             'use_label_encoder': False\n",
    "           }\n",
    "\n",
    "xgb = XGBClassifier(**hyparams)"
   ]
  },
  {
   "cell_type": "markdown",
   "id": "db1b7b58-8813-4586-91cc-98d341a60c15",
   "metadata": {},
   "source": [
    "### Recursive Feature Elimination to rank protein conformations \n",
    "\n",
    "- This result was used to rank protein conformations."
   ]
  },
  {
   "cell_type": "code",
   "execution_count": 5,
   "id": "6c5920d2-2068-4a02-8647-bfb3c5270566",
   "metadata": {},
   "outputs": [],
   "source": [
    "from sklearn.feature_selection import RFE"
   ]
  },
  {
   "cell_type": "code",
   "execution_count": 6,
   "id": "82e9b58e-9728-4f95-9965-57f24206a029",
   "metadata": {},
   "outputs": [
    {
     "name": "stdout",
     "output_type": "stream",
     "text": [
      "Fitting estimator with 64 features.\n",
      "Fitting estimator with 63 features.\n",
      "Fitting estimator with 62 features.\n",
      "Fitting estimator with 61 features.\n",
      "Fitting estimator with 60 features.\n",
      "Fitting estimator with 59 features.\n",
      "Fitting estimator with 58 features.\n",
      "Fitting estimator with 57 features.\n",
      "Fitting estimator with 56 features.\n",
      "Fitting estimator with 55 features.\n",
      "Fitting estimator with 54 features.\n",
      "Fitting estimator with 53 features.\n",
      "Fitting estimator with 52 features.\n",
      "Fitting estimator with 51 features.\n",
      "Fitting estimator with 50 features.\n",
      "Fitting estimator with 49 features.\n",
      "Fitting estimator with 48 features.\n",
      "Fitting estimator with 47 features.\n",
      "Fitting estimator with 46 features.\n",
      "Fitting estimator with 45 features.\n",
      "Fitting estimator with 44 features.\n",
      "Fitting estimator with 43 features.\n",
      "Fitting estimator with 42 features.\n",
      "Fitting estimator with 41 features.\n",
      "Fitting estimator with 40 features.\n",
      "Fitting estimator with 39 features.\n",
      "Fitting estimator with 38 features.\n",
      "Fitting estimator with 37 features.\n",
      "Fitting estimator with 36 features.\n",
      "Fitting estimator with 35 features.\n",
      "Fitting estimator with 34 features.\n",
      "Fitting estimator with 33 features.\n",
      "Fitting estimator with 32 features.\n",
      "Fitting estimator with 31 features.\n",
      "Fitting estimator with 30 features.\n",
      "Fitting estimator with 29 features.\n",
      "Fitting estimator with 28 features.\n",
      "Fitting estimator with 27 features.\n",
      "Fitting estimator with 26 features.\n",
      "Fitting estimator with 25 features.\n",
      "Fitting estimator with 24 features.\n",
      "Fitting estimator with 23 features.\n",
      "Fitting estimator with 22 features.\n",
      "Fitting estimator with 21 features.\n",
      "Fitting estimator with 20 features.\n",
      "Fitting estimator with 19 features.\n",
      "Fitting estimator with 18 features.\n",
      "Fitting estimator with 17 features.\n",
      "Fitting estimator with 16 features.\n",
      "Fitting estimator with 15 features.\n",
      "Fitting estimator with 14 features.\n",
      "Fitting estimator with 13 features.\n",
      "Fitting estimator with 12 features.\n",
      "Fitting estimator with 11 features.\n",
      "Fitting estimator with 10 features.\n",
      "Fitting estimator with 9 features.\n",
      "Fitting estimator with 8 features.\n",
      "Fitting estimator with 7 features.\n",
      "Fitting estimator with 6 features.\n",
      "Fitting estimator with 5 features.\n",
      "Fitting estimator with 4 features.\n",
      "Fitting estimator with 3 features.\n",
      "Fitting estimator with 2 features.\n",
      "File saved: ./cachedir/rfe_selectors/RFE_xgb_hsp90.joblib\n"
     ]
    }
   ],
   "source": [
    "# This wrapper function let us to run the RFE\n",
    "# and save the results to a file\n",
    "xgb_slector_ranks = RFE_wrapper(\n",
    "    filename  = f'./cachedir/rfe_selectors/RFE_xgb_{protein_name}.joblib',\n",
    "    estimator = xgb,\n",
    "    n_features_to_select = 1,\n",
    "    X         = X,\n",
    "    y         = y,\n",
    "    step      = 1,\n",
    "    verbose   = 2 \n",
    ")"
   ]
  },
  {
   "cell_type": "code",
   "execution_count": 7,
   "id": "652921fc-304b-40ab-b341-a9474d49cb6f",
   "metadata": {},
   "outputs": [
    {
     "data": {
      "text/plain": [
       "array([62,  4, 41, 52, 31, 29, 26,  7, 11, 36, 28, 43,  5, 58, 25, 47, 18,\n",
       "       23, 51, 35, 30, 24, 61, 64, 19, 33, 59, 22, 50, 63,  3, 21, 20,  2,\n",
       "       53, 39, 37, 40, 17, 27, 45, 57, 44,  1,  8,  9, 15, 54, 56,  6, 14,\n",
       "       49, 55, 16, 34, 13, 32, 48, 42, 12, 46, 60, 38, 10])"
      ]
     },
     "execution_count": 7,
     "metadata": {},
     "output_type": "execute_result"
    }
   ],
   "source": [
    "xgb_slector_ranks.ranking_"
   ]
  },
  {
   "cell_type": "markdown",
   "id": "d94489c2-4cad-4750-a4f6-110006e33a5f",
   "metadata": {},
   "source": [
    "### Instantiate the RFE with Cross Validation"
   ]
  },
  {
   "cell_type": "code",
   "execution_count": 8,
   "id": "8117901d-9486-49cd-a21f-63116b42420a",
   "metadata": {},
   "outputs": [],
   "source": [
    "from sklearn.feature_selection import RFECV"
   ]
  },
  {
   "cell_type": "code",
   "execution_count": 9,
   "id": "4cc84e71-a387-46d1-923e-ef9a0fb93d51",
   "metadata": {},
   "outputs": [
    {
     "name": "stdout",
     "output_type": "stream",
     "text": [
      "Fitting estimator with 64 features.\n",
      "Fitting estimator with 62 features.\n",
      "Fitting estimator with 60 features.\n",
      "Fitting estimator with 58 features.\n",
      "File saved: ./cachedir/rfe_selectors/RFECV_xgb_hsp90.joblib\n"
     ]
    }
   ],
   "source": [
    "# This wrapper function let us to run the RFECV\n",
    "# and save the results to a file\n",
    "xgb_selector  = REFCV_wrapper(\n",
    "    filename  = f'./cachedir/rfe_selectors/RFECV_xgb_{protein_name}.joblib',\n",
    "    estimator = xgb,\n",
    "    min_features_to_select = 1,\n",
    "    X_train   = X,\n",
    "    y_train   = y,\n",
    "    scoring   = 'roc_auc',\n",
    "    cv        = 4, \n",
    "    step      = 2,\n",
    "    verbose   = 2,\n",
    "    n_jobs    = 4\n",
    ")"
   ]
  },
  {
   "cell_type": "code",
   "execution_count": 10,
   "id": "a9c82a68-5f3f-4ad7-982a-8516ef4a93b6",
   "metadata": {},
   "outputs": [
    {
     "name": "stdout",
     "output_type": "stream",
     "text": [
      "Conformations ranking (RFECV):\n",
      "[3 1 1 1 1 1 1 1 1 1 1 1 1 1 1 1 1 1 3 1 1 1 5 5 1 1 1 1 1 4 1 1 1 1 1 1 1\n",
      " 1 1 1 1 1 1 1 1 1 1 1 1 1 1 1 4 1 1 1 1 2 1 1 1 2 1 1]\n",
      "Number of conformations with rank = 1:\n",
      "56\n"
     ]
    }
   ],
   "source": [
    "# Visualize the rank of each conformation\n",
    "print('Conformations ranking (RFECV):')\n",
    "print(xgb_selector.ranking_)\n",
    "print('Number of conformations with rank = 1:')\n",
    "print((xgb_selector.ranking_ == 1).sum())"
   ]
  }
 ],
 "metadata": {
  "kernelspec": {
   "display_name": "Python 3",
   "language": "python",
   "name": "python3"
  },
  "language_info": {
   "codemirror_mode": {
    "name": "ipython",
    "version": 3
   },
   "file_extension": ".py",
   "mimetype": "text/x-python",
   "name": "python",
   "nbconvert_exporter": "python",
   "pygments_lexer": "ipython3",
   "version": "3.7.9"
  },
  "toc": {
   "base_numbering": 1,
   "nav_menu": {},
   "number_sections": true,
   "sideBar": true,
   "skip_h1_title": false,
   "title_cell": "Table of Contents",
   "title_sidebar": "Contents",
   "toc_cell": false,
   "toc_position": {},
   "toc_section_display": true,
   "toc_window_display": true
  }
 },
 "nbformat": 4,
 "nbformat_minor": 5
}
